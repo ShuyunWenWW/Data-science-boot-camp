{
  "nbformat": 4,
  "nbformat_minor": 0,
  "metadata": {
    "colab": {
      "name": "Module_One_Project_SpotifyMusicAnalysis_ShuyunWen.ipynb",
      "provenance": [],
      "collapsed_sections": [
        "itgMS6yBNVbl",
        "hjco9NySMQAk",
        "KV_GHv_NSYy7",
        "scfBV7LnSjAD"
      ]
    },
    "kernelspec": {
      "name": "python3",
      "display_name": "Python 3"
    }
  },
  "cells": [
    {
      "cell_type": "markdown",
      "metadata": {
        "id": "nAkGncd7NHfE"
      },
      "source": [
        "# Spotify Music Ayalysis\n"
      ]
    },
    {
      "cell_type": "markdown",
      "metadata": {
        "id": "qgqV2_BgPGxz"
      },
      "source": [
        "Here, the Spotify Music dataset is used for analyzing "
      ]
    },
    {
      "cell_type": "markdown",
      "metadata": {
        "id": "itgMS6yBNVbl"
      },
      "source": [
        "## Installation and data import"
      ]
    },
    {
      "cell_type": "code",
      "metadata": {
        "id": "czUZ9-CeFtng"
      },
      "source": [
        "!pip install kaggle"
      ],
      "execution_count": null,
      "outputs": []
    },
    {
      "cell_type": "code",
      "metadata": {
        "id": "OQn3MIjvF26t"
      },
      "source": [
        "from google.colab import files\n",
        "files.upload()"
      ],
      "execution_count": null,
      "outputs": []
    },
    {
      "cell_type": "code",
      "metadata": {
        "id": "SyV5nVc_G4mr"
      },
      "source": [
        "!mkdir -p ~/.kaggle\n",
        "!cp kaggle.json ~/.kaggle/\n",
        "!chmod 600 ~/.kaggle/kaggle.json\n"
      ],
      "execution_count": 3,
      "outputs": []
    },
    {
      "cell_type": "code",
      "metadata": {
        "id": "AVesOXv7H2xC"
      },
      "source": [
        "!kaggle datasets download -d yamaerenay/spotify-dataset-19212020-160k-tracks"
      ],
      "execution_count": null,
      "outputs": []
    },
    {
      "cell_type": "code",
      "metadata": {
        "id": "SLrnStk_IkTU"
      },
      "source": [
        "from zipfile import ZipFile\n",
        "file_name = \"spotify-dataset-19212020-160k-tracks.zip\"\n",
        "\n",
        "with ZipFile(file_name,'r') as zip:\n",
        "  zip.extractall()\n",
        "  print('Done')"
      ],
      "execution_count": null,
      "outputs": []
    },
    {
      "cell_type": "code",
      "metadata": {
        "id": "kTqDgWOjJq7s"
      },
      "source": [
        "import pandas as pd\n",
        "import numpy as np\n",
        "import matplotlib.pyplot as plt\n",
        "import matplotlib.ticker as ticker\n",
        "from scipy import stats \n"
      ],
      "execution_count": 6,
      "outputs": []
    },
    {
      "cell_type": "markdown",
      "metadata": {
        "id": "hjco9NySMQAk"
      },
      "source": [
        "## Comparison of number of Songs released per year\n"
      ]
    },
    {
      "cell_type": "code",
      "metadata": {
        "colab": {
          "base_uri": "https://localhost:8080/"
        },
        "id": "nTG0AvyOSgfW",
        "outputId": "f2dc3f61-12b7-49a2-dc50-9e938fcdc852"
      },
      "source": [
        "# Using 'data.csv' file to count number of Songs released per year.\n",
        "df_data = pd.read_csv('data_o.csv')\n",
        "\n",
        "df1 = df_data.loc[:,[\"year\",\"name\"]]\n",
        "df1 = df1.groupby(by=\"year\").count()\n",
        "df1 = df1.rename(columns={\"name\":\"number of songs\"})\n",
        "df1 = df1.reset_index()\n",
        "print(df1)"
      ],
      "execution_count": 8,
      "outputs": [
        {
          "output_type": "stream",
          "text": [
            "    year  number of songs\n",
            "0   1921              150\n",
            "1   1922               71\n",
            "2   1923              185\n",
            "3   1924              236\n",
            "4   1925              278\n",
            "..   ...              ...\n",
            "95  2016             1797\n",
            "96  2017             1992\n",
            "97  2018             2103\n",
            "98  2019             1949\n",
            "99  2020             2030\n",
            "\n",
            "[100 rows x 2 columns]\n"
          ],
          "name": "stdout"
        }
      ]
    },
    {
      "cell_type": "code",
      "metadata": {
        "colab": {
          "base_uri": "https://localhost:8080/",
          "height": 495
        },
        "id": "NQ4lr1XNiVFG",
        "outputId": "a816ee56-8c90-4ff0-a487-c67e92dea5fa"
      },
      "source": [
        "x = df1[\"year\"]\n",
        "y = df1[\"number of songs\"]\n",
        "\n",
        "\n",
        "plt.figure(figsize=(15, 7))\n",
        "plt.bar(x,y)\n",
        "plt.title(\"Number of songs released per year\")\n",
        "plt.xlabel(\"year\")\n",
        "plt.ylabel(\"number of song released\")\n",
        "x_ticks = np.linspace(1920, 2020, 21)\n",
        "plt.xticks(x_ticks,rotation=45)\n",
        "plt.grid(axis='y')\n",
        "\n",
        "plt.show()"
      ],
      "execution_count": 9,
      "outputs": [
        {
          "output_type": "display_data",
          "data": {
            "image/png": "[encoded data removed]",
            "text/plain": [
              "<Figure size 1080x504 with 1 Axes>"
            ]
          },
          "metadata": {
            "tags": [],
            "needs_background": "light"
          }
        }
      ]
    },
    {
      "cell_type": "markdown",
      "metadata": {
        "id": "BtSvfFBMydYt"
      },
      "source": [
        "  As graph shown above, it was the first to release over 1,000 songs in 1926 on Spotify. And in 2018, it reached the maximum overall with 2103 songs released."
      ]
    },
    {
      "cell_type": "markdown",
      "metadata": {
        "id": "KV_GHv_NSYy7"
      },
      "source": [
        "## Find the years that had the highest average danceability scores on the songs.\n",
        "\n"
      ]
    },
    {
      "cell_type": "code",
      "metadata": {
        "colab": {
          "base_uri": "https://localhost:8080/",
          "height": 202
        },
        "id": "SC2Nf8sqSidM",
        "outputId": "a1795817-eb19-4091-b53e-0ab4f235bf81"
      },
      "source": [
        "# Using 'data_by_year.csv' file to find the years that had the highest average danceability scores on the songs.\n",
        "df_year = pd.read_csv('data_by_year_o.csv')\n",
        "df2 = df_year.sort_values(by='danceability',ascending=False).loc[:,['year','danceability']]\n",
        "df2.head()"
      ],
      "execution_count": 11,
      "outputs": [
        {
          "output_type": "execute_result",
          "data": {
            "text/html": [
              "<div>\n",
              "<style scoped>\n",
              "    .dataframe tbody tr th:only-of-type {\n",
              "        vertical-align: middle;\n",
              "    }\n",
              "\n",
              "    .dataframe tbody tr th {\n",
              "        vertical-align: top;\n",
              "    }\n",
              "\n",
              "    .dataframe thead th {\n",
              "        text-align: right;\n",
              "    }\n",
              "</style>\n",
              "<table border=\"1\" class=\"dataframe\">\n",
              "  <thead>\n",
              "    <tr style=\"text-align: right;\">\n",
              "      <th></th>\n",
              "      <th>year</th>\n",
              "      <th>danceability</th>\n",
              "    </tr>\n",
              "  </thead>\n",
              "  <tbody>\n",
              "    <tr>\n",
              "      <th>99</th>\n",
              "      <td>2020</td>\n",
              "      <td>0.692904</td>\n",
              "    </tr>\n",
              "    <tr>\n",
              "      <th>97</th>\n",
              "      <td>2018</td>\n",
              "      <td>0.663500</td>\n",
              "    </tr>\n",
              "    <tr>\n",
              "      <th>6</th>\n",
              "      <td>1927</td>\n",
              "      <td>0.648268</td>\n",
              "    </tr>\n",
              "    <tr>\n",
              "      <th>8</th>\n",
              "      <td>1929</td>\n",
              "      <td>0.647670</td>\n",
              "    </tr>\n",
              "    <tr>\n",
              "      <th>98</th>\n",
              "      <td>2019</td>\n",
              "      <td>0.644814</td>\n",
              "    </tr>\n",
              "  </tbody>\n",
              "</table>\n",
              "</div>"
            ],
            "text/plain": [
              "    year  danceability\n",
              "99  2020      0.692904\n",
              "97  2018      0.663500\n",
              "6   1927      0.648268\n",
              "8   1929      0.647670\n",
              "98  2019      0.644814"
            ]
          },
          "metadata": {
            "tags": []
          },
          "execution_count": 11
        }
      ]
    },
    {
      "cell_type": "markdown",
      "metadata": {
        "id": "fmkIKv-j9IEa"
      },
      "source": [
        "  2020 had the highest average danceability scores (0.692904) on the songs."
      ]
    },
    {
      "cell_type": "markdown",
      "metadata": {
        "id": "scfBV7LnSjAD"
      },
      "source": [
        "## Output the top 3 artists that had the most danceable songs.\n"
      ]
    },
    {
      "cell_type": "code",
      "metadata": {
        "colab": {
          "base_uri": "https://localhost:8080/",
          "height": 141
        },
        "id": "tmXq_40ISmDj",
        "outputId": "b7430ef6-2335-4c9f-a662-370aafb81ce8"
      },
      "source": [
        "# Using 'data_by_artist.csv' file to find the top 3 artists that had the most danceable songs.\n",
        "df_artist = pd.read_csv('data_by_artist_o.csv')\n",
        "df3 = df_artist.sort_values(by='danceability',ascending=False).loc[:,['artists','danceability']]\n",
        "df3.head(3)"
      ],
      "execution_count": 12,
      "outputs": [
        {
          "output_type": "execute_result",
          "data": {
            "text/html": [
              "<div>\n",
              "<style scoped>\n",
              "    .dataframe tbody tr th:only-of-type {\n",
              "        vertical-align: middle;\n",
              "    }\n",
              "\n",
              "    .dataframe tbody tr th {\n",
              "        vertical-align: top;\n",
              "    }\n",
              "\n",
              "    .dataframe thead th {\n",
              "        text-align: right;\n",
              "    }\n",
              "</style>\n",
              "<table border=\"1\" class=\"dataframe\">\n",
              "  <thead>\n",
              "    <tr style=\"text-align: right;\">\n",
              "      <th></th>\n",
              "      <th>artists</th>\n",
              "      <th>danceability</th>\n",
              "    </tr>\n",
              "  </thead>\n",
              "  <tbody>\n",
              "    <tr>\n",
              "      <th>27871</th>\n",
              "      <td>Young Bo</td>\n",
              "      <td>0.986</td>\n",
              "    </tr>\n",
              "    <tr>\n",
              "      <th>27874</th>\n",
              "      <td>Young Boss</td>\n",
              "      <td>0.986</td>\n",
              "    </tr>\n",
              "    <tr>\n",
              "      <th>10672</th>\n",
              "      <td>ITSOKTOCRY</td>\n",
              "      <td>0.985</td>\n",
              "    </tr>\n",
              "  </tbody>\n",
              "</table>\n",
              "</div>"
            ],
            "text/plain": [
              "          artists  danceability\n",
              "27871    Young Bo         0.986\n",
              "27874  Young Boss         0.986\n",
              "10672  ITSOKTOCRY         0.985"
            ]
          },
          "metadata": {
            "tags": []
          },
          "execution_count": 12
        }
      ]
    },
    {
      "cell_type": "markdown",
      "metadata": {
        "id": "UI6aSAR1KC69"
      },
      "source": [
        "  Young Bo, Young Boss, and ITSOKTOCKY had the most danceable songs with average danceability 0.986 and 0.985.\t"
      ]
    },
    {
      "cell_type": "markdown",
      "metadata": {
        "id": "6vXsBkHsSmTM"
      },
      "source": [
        "## Compare each genre of song based on Acousticness, Energy and Liveliness."
      ]
    },
    {
      "cell_type": "code",
      "metadata": {
        "colab": {
          "base_uri": "https://localhost:8080/"
        },
        "id": "hG8249YvSp5l",
        "outputId": "95b3a3f6-aa28-48a3-f192-15985e4619a3"
      },
      "source": [
        "# Using 'data_by_genres.csv' file to compare each genre of song.\n",
        "df_genres = pd.read_csv('data_by_genres_o.csv')\n",
        "df_genres.count()"
      ],
      "execution_count": 13,
      "outputs": [
        {
          "output_type": "execute_result",
          "data": {
            "text/plain": [
              "mode                2973\n",
              "genres              2973\n",
              "acousticness        2973\n",
              "danceability        2973\n",
              "duration_ms         2973\n",
              "energy              2973\n",
              "instrumentalness    2973\n",
              "liveness            2973\n",
              "loudness            2973\n",
              "speechiness         2973\n",
              "tempo               2973\n",
              "valence             2973\n",
              "popularity          2973\n",
              "key                 2973\n",
              "dtype: int64"
            ]
          },
          "metadata": {
            "tags": []
          },
          "execution_count": 13
        }
      ]
    },
    {
      "cell_type": "markdown",
      "metadata": {
        "id": "a82EKUKxL0M_"
      },
      "source": [
        "  In this database, songs are classified into 2973 genres, which is too massive to analyze. Thus, here selecting Top 20 popular genres of songs for analysis."
      ]
    },
    {
      "cell_type": "code",
      "metadata": {
        "colab": {
          "base_uri": "https://localhost:8080/",
          "height": 202
        },
        "id": "chuiXc-mLryx",
        "outputId": "ab73109a-84e4-42bb-c79d-5cbde41dac9c"
      },
      "source": [
        "df4 = df_genres.sort_values(by='popularity',ascending=False).loc[:,['genres','acousticness','energy','liveness','popularity']]\n",
        "df4 = df4.set_index('genres').reset_index().loc[0:20,:]\n",
        "df4.head()"
      ],
      "execution_count": 15,
      "outputs": [
        {
          "output_type": "execute_result",
          "data": {
            "text/html": [
              "<div>\n",
              "<style scoped>\n",
              "    .dataframe tbody tr th:only-of-type {\n",
              "        vertical-align: middle;\n",
              "    }\n",
              "\n",
              "    .dataframe tbody tr th {\n",
              "        vertical-align: top;\n",
              "    }\n",
              "\n",
              "    .dataframe thead th {\n",
              "        text-align: right;\n",
              "    }\n",
              "</style>\n",
              "<table border=\"1\" class=\"dataframe\">\n",
              "  <thead>\n",
              "    <tr style=\"text-align: right;\">\n",
              "      <th></th>\n",
              "      <th>genres</th>\n",
              "      <th>acousticness</th>\n",
              "      <th>energy</th>\n",
              "      <th>liveness</th>\n",
              "      <th>popularity</th>\n",
              "    </tr>\n",
              "  </thead>\n",
              "  <tbody>\n",
              "    <tr>\n",
              "      <th>0</th>\n",
              "      <td>basshall</td>\n",
              "      <td>0.213167</td>\n",
              "      <td>0.630167</td>\n",
              "      <td>0.081067</td>\n",
              "      <td>80.666667</td>\n",
              "    </tr>\n",
              "    <tr>\n",
              "      <th>1</th>\n",
              "      <td>turkish edm</td>\n",
              "      <td>0.008290</td>\n",
              "      <td>0.719000</td>\n",
              "      <td>0.326000</td>\n",
              "      <td>80.000000</td>\n",
              "    </tr>\n",
              "    <tr>\n",
              "      <th>2</th>\n",
              "      <td>south african house</td>\n",
              "      <td>0.043833</td>\n",
              "      <td>0.562333</td>\n",
              "      <td>0.075133</td>\n",
              "      <td>80.000000</td>\n",
              "    </tr>\n",
              "    <tr>\n",
              "      <th>3</th>\n",
              "      <td>trap venezolano</td>\n",
              "      <td>0.044600</td>\n",
              "      <td>0.777000</td>\n",
              "      <td>0.086300</td>\n",
              "      <td>80.000000</td>\n",
              "    </tr>\n",
              "    <tr>\n",
              "      <th>4</th>\n",
              "      <td>alberta hip hop</td>\n",
              "      <td>0.330000</td>\n",
              "      <td>0.685000</td>\n",
              "      <td>0.148000</td>\n",
              "      <td>78.500000</td>\n",
              "    </tr>\n",
              "  </tbody>\n",
              "</table>\n",
              "</div>"
            ],
            "text/plain": [
              "                genres  acousticness    energy  liveness  popularity\n",
              "0             basshall      0.213167  0.630167  0.081067   80.666667\n",
              "1          turkish edm      0.008290  0.719000  0.326000   80.000000\n",
              "2  south african house      0.043833  0.562333  0.075133   80.000000\n",
              "3      trap venezolano      0.044600  0.777000  0.086300   80.000000\n",
              "4      alberta hip hop      0.330000  0.685000  0.148000   78.500000"
            ]
          },
          "metadata": {
            "tags": []
          },
          "execution_count": 15
        }
      ]
    },
    {
      "cell_type": "code",
      "metadata": {
        "colab": {
          "base_uri": "https://localhost:8080/",
          "height": 313
        },
        "id": "pHmHW0lLpemo",
        "outputId": "99051f92-eda8-406e-cbe2-1e6a73c4be8c"
      },
      "source": [
        "# Acousticness\n",
        "x1 = df4['popularity']\n",
        "y1 = df4['acousticness']\n",
        "plt.plot(x1, y1, 'o')\n",
        "\n",
        "plt.title(\"Relationship between popularity and acousticness based on genres of songs\")\n",
        "plt.xlabel(\"popularity of a genre\")\n",
        "plt.ylabel(\"average acousticness of a genre\")\n",
        "\n",
        "m, b, r_val, p_val, std_err = stats.linregress(x1,y1)\n",
        "plt.plot(x1,m*x1+b)\n",
        "plt.text(76, 0.5, \"y={:.4f}x+{:.4f}\".format(m,b))\n",
        "\n",
        "plt.show()\n",
        "\n",
        "print(\"Correlation coefficient between popularity and acouticness is {:.4f}\".format(r_val**2))"
      ],
      "execution_count": 16,
      "outputs": [
        {
          "output_type": "display_data",
          "data": {
            "image/png": "[encoded data removed]",
            "text/plain": [
              "<Figure size 432x288 with 1 Axes>"
            ]
          },
          "metadata": {
            "tags": [],
            "needs_background": "light"
          }
        },
        {
          "output_type": "stream",
          "text": [
            "Correlation coefficient between popularity and acouticness is 0.0699\n"
          ],
          "name": "stdout"
        }
      ]
    },
    {
      "cell_type": "code",
      "metadata": {
        "colab": {
          "base_uri": "https://localhost:8080/",
          "height": 313
        },
        "id": "82u9kF2VuLX0",
        "outputId": "31f4cdd9-5d20-419a-cde8-99dc6de654c5"
      },
      "source": [
        "# Energy\n",
        "x2 = df4['popularity']\n",
        "y2 = df4['energy']\n",
        "plt.plot(x2, y2, 'o')\n",
        "\n",
        "plt.title(\"Relationship between popularity and energy based on genres of songs\")\n",
        "plt.xlabel(\"popularity of a genre\")\n",
        "plt.ylabel(\"average energy of a genre\")\n",
        "\n",
        "m, b, r_val, p_val, std_err = stats.linregress(x2,y2)\n",
        "plt.plot(x2,m*x2+b)\n",
        "plt.text(76, 0.9, \"y={:.4f}x+{:.4f}\".format(m,b))\n",
        "\n",
        "plt.show()\n",
        "\n",
        "print(\"Correlation coefficient between popularity and energy is {:.4f}\".format(r_val**2))"
      ],
      "execution_count": 17,
      "outputs": [
        {
          "output_type": "display_data",
          "data": {
            "image/png": "[encoded data removed]",
            "text/plain": [
              "<Figure size 432x288 with 1 Axes>"
            ]
          },
          "metadata": {
            "tags": [],
            "needs_background": "light"
          }
        },
        {
          "output_type": "stream",
          "text": [
            "Correlation coefficient between popularity and energy is 0.0011\n"
          ],
          "name": "stdout"
        }
      ]
    },
    {
      "cell_type": "code",
      "metadata": {
        "colab": {
          "base_uri": "https://localhost:8080/",
          "height": 313
        },
        "id": "3a-wtVvg4pms",
        "outputId": "b34574de-378a-4fdf-ed21-24eed4658b9f"
      },
      "source": [
        "# Liveness\n",
        "x3 = df4['popularity']\n",
        "y3 = df4['liveness']\n",
        "plt.plot(x3, y3, 'o')\n",
        "\n",
        "plt.title(\"Relationship between popularity and liveness based on genres of songs\")\n",
        "plt.xlabel(\"popularity of a genre\")\n",
        "plt.ylabel(\"average liveness of a genre\")\n",
        "\n",
        "m, b, r_val, p_val, std_err = stats.linregress(x3,y3)\n",
        "plt.plot(x3,m*x3+b)\n",
        "plt.text(76, 0.3, \"y={:.4f}x+{:.4f}\".format(m,b))\n",
        "\n",
        "plt.show()\n",
        "\n",
        "print(\"Correlation coefficient between popularity and liveness is {:.4f}\".format(r_val**2))"
      ],
      "execution_count": 18,
      "outputs": [
        {
          "output_type": "display_data",
          "data": {
            "image/png": "[encoded data removed]",
            "text/plain": [
              "<Figure size 432x288 with 1 Axes>"
            ]
          },
          "metadata": {
            "tags": [],
            "needs_background": "light"
          }
        },
        {
          "output_type": "stream",
          "text": [
            "Correlation coefficient between popularity and liveness is 0.0009\n"
          ],
          "name": "stdout"
        }
      ]
    },
    {
      "cell_type": "markdown",
      "metadata": {
        "id": "XJFAz9KwAmYV"
      },
      "source": [
        "As shown above,according to R^2 value, none of parameters has significant correlation with popularity, while acouticness shows relatively stronger correlation to popularity compared to the other two.\n"
      ]
    },
    {
      "cell_type": "markdown",
      "metadata": {
        "id": "iA5hOiUwTNW7"
      },
      "source": [
        "# Improvement-Modeling"
      ]
    },
    {
      "cell_type": "markdown",
      "metadata": {
        "id": "6cfICkCtTT-T"
      },
      "source": [
        "Instead of randomly taking three features of song and compare with popularity, I want to find if there exists any features that has correlation with popularity."
      ]
    },
    {
      "cell_type": "code",
      "metadata": {
        "colab": {
          "base_uri": "https://localhost:8080/"
        },
        "id": "Q6uE7B-aTrnB",
        "outputId": "04f1c175-0f01-4eec-dfb0-669b6406d11f"
      },
      "source": [
        "import statsmodels.api as sm"
      ],
      "execution_count": 19,
      "outputs": [
        {
          "output_type": "stream",
          "text": [
            "/usr/local/lib/python3.7/dist-packages/statsmodels/tools/_testing.py:19: FutureWarning: pandas.util.testing is deprecated. Use the functions in the public API at pandas.testing instead.\n",
            "  import pandas.util.testing as tm\n"
          ],
          "name": "stderr"
        }
      ]
    },
    {
      "cell_type": "code",
      "metadata": {
        "colab": {
          "base_uri": "https://localhost:8080/",
          "height": 309
        },
        "id": "9idIZEGgbmOO",
        "outputId": "6568ae84-2386-450b-fdf8-ae51066c1854"
      },
      "source": [
        "df_model = df_genres.sort_values(by='popularity',ascending=False)\n",
        "df_model = df_model.iloc[0:20]\n",
        "df_model.head()"
      ],
      "execution_count": 24,
      "outputs": [
        {
          "output_type": "execute_result",
          "data": {
            "text/html": [
              "<div>\n",
              "<style scoped>\n",
              "    .dataframe tbody tr th:only-of-type {\n",
              "        vertical-align: middle;\n",
              "    }\n",
              "\n",
              "    .dataframe tbody tr th {\n",
              "        vertical-align: top;\n",
              "    }\n",
              "\n",
              "    .dataframe thead th {\n",
              "        text-align: right;\n",
              "    }\n",
              "</style>\n",
              "<table border=\"1\" class=\"dataframe\">\n",
              "  <thead>\n",
              "    <tr style=\"text-align: right;\">\n",
              "      <th></th>\n",
              "      <th>mode</th>\n",
              "      <th>genres</th>\n",
              "      <th>acousticness</th>\n",
              "      <th>danceability</th>\n",
              "      <th>duration_ms</th>\n",
              "      <th>energy</th>\n",
              "      <th>instrumentalness</th>\n",
              "      <th>liveness</th>\n",
              "      <th>loudness</th>\n",
              "      <th>speechiness</th>\n",
              "      <th>tempo</th>\n",
              "      <th>valence</th>\n",
              "      <th>popularity</th>\n",
              "      <th>key</th>\n",
              "    </tr>\n",
              "  </thead>\n",
              "  <tbody>\n",
              "    <tr>\n",
              "      <th>237</th>\n",
              "      <td>1</td>\n",
              "      <td>basshall</td>\n",
              "      <td>0.213167</td>\n",
              "      <td>0.818</td>\n",
              "      <td>169799.166667</td>\n",
              "      <td>0.630167</td>\n",
              "      <td>0.000020</td>\n",
              "      <td>0.081067</td>\n",
              "      <td>-6.627833</td>\n",
              "      <td>0.134833</td>\n",
              "      <td>115.092500</td>\n",
              "      <td>0.588667</td>\n",
              "      <td>80.666667</td>\n",
              "      <td>2</td>\n",
              "    </tr>\n",
              "    <tr>\n",
              "      <th>2778</th>\n",
              "      <td>0</td>\n",
              "      <td>turkish edm</td>\n",
              "      <td>0.008290</td>\n",
              "      <td>0.698</td>\n",
              "      <td>186700.000000</td>\n",
              "      <td>0.719000</td>\n",
              "      <td>0.000004</td>\n",
              "      <td>0.326000</td>\n",
              "      <td>-4.923000</td>\n",
              "      <td>0.045500</td>\n",
              "      <td>120.062000</td>\n",
              "      <td>0.364000</td>\n",
              "      <td>80.000000</td>\n",
              "      <td>0</td>\n",
              "    </tr>\n",
              "    <tr>\n",
              "      <th>2533</th>\n",
              "      <td>1</td>\n",
              "      <td>south african house</td>\n",
              "      <td>0.043833</td>\n",
              "      <td>0.847</td>\n",
              "      <td>311854.333333</td>\n",
              "      <td>0.562333</td>\n",
              "      <td>0.130339</td>\n",
              "      <td>0.075133</td>\n",
              "      <td>-7.719000</td>\n",
              "      <td>0.050733</td>\n",
              "      <td>123.676333</td>\n",
              "      <td>0.834333</td>\n",
              "      <td>80.000000</td>\n",
              "      <td>1</td>\n",
              "    </tr>\n",
              "    <tr>\n",
              "      <th>2755</th>\n",
              "      <td>1</td>\n",
              "      <td>trap venezolano</td>\n",
              "      <td>0.044600</td>\n",
              "      <td>0.877</td>\n",
              "      <td>231848.000000</td>\n",
              "      <td>0.777000</td>\n",
              "      <td>0.000035</td>\n",
              "      <td>0.086300</td>\n",
              "      <td>-4.246000</td>\n",
              "      <td>0.117000</td>\n",
              "      <td>102.020000</td>\n",
              "      <td>0.706000</td>\n",
              "      <td>80.000000</td>\n",
              "      <td>1</td>\n",
              "    </tr>\n",
              "    <tr>\n",
              "      <th>46</th>\n",
              "      <td>0</td>\n",
              "      <td>alberta hip hop</td>\n",
              "      <td>0.330000</td>\n",
              "      <td>0.885</td>\n",
              "      <td>144000.000000</td>\n",
              "      <td>0.685000</td>\n",
              "      <td>0.000000</td>\n",
              "      <td>0.148000</td>\n",
              "      <td>-6.429000</td>\n",
              "      <td>0.062700</td>\n",
              "      <td>99.954000</td>\n",
              "      <td>0.937000</td>\n",
              "      <td>78.500000</td>\n",
              "      <td>11</td>\n",
              "    </tr>\n",
              "  </tbody>\n",
              "</table>\n",
              "</div>"
            ],
            "text/plain": [
              "      mode               genres  acousticness  ...   valence  popularity  key\n",
              "237      1             basshall      0.213167  ...  0.588667   80.666667    2\n",
              "2778     0          turkish edm      0.008290  ...  0.364000   80.000000    0\n",
              "2533     1  south african house      0.043833  ...  0.834333   80.000000    1\n",
              "2755     1      trap venezolano      0.044600  ...  0.706000   80.000000    1\n",
              "46       0      alberta hip hop      0.330000  ...  0.937000   78.500000   11\n",
              "\n",
              "[5 rows x 14 columns]"
            ]
          },
          "metadata": {
            "tags": []
          },
          "execution_count": 24
        }
      ]
    },
    {
      "cell_type": "code",
      "metadata": {
        "colab": {
          "base_uri": "https://localhost:8080/",
          "height": 703
        },
        "id": "xXDUQVJ_btio",
        "outputId": "10124b87-70cc-4b27-ee4b-230299c5558e"
      },
      "source": [
        "features = df_model.drop(columns=['genres','popularity'])\n",
        "X = sm.add_constant(features)\n",
        "y = df_model['popularity']\n",
        "sm.OLS(y, X).fit().summary()"
      ],
      "execution_count": 29,
      "outputs": [
        {
          "output_type": "execute_result",
          "data": {
            "text/html": [
              "<table class=\"simpletable\">\n",
              "<caption>OLS Regression Results</caption>\n",
              "<tr>\n",
              "  <th>Dep. Variable:</th>       <td>popularity</td>    <th>  R-squared:         </th> <td>   0.715</td>\n",
              "</tr>\n",
              "<tr>\n",
              "  <th>Model:</th>                   <td>OLS</td>       <th>  Adj. R-squared:    </th> <td>   0.228</td>\n",
              "</tr>\n",
              "<tr>\n",
              "  <th>Method:</th>             <td>Least Squares</td>  <th>  F-statistic:       </th> <td>   1.467</td>\n",
              "</tr>\n",
              "<tr>\n",
              "  <th>Date:</th>             <td>Wed, 28 Apr 2021</td> <th>  Prob (F-statistic):</th>  <td> 0.314</td> \n",
              "</tr>\n",
              "<tr>\n",
              "  <th>Time:</th>                 <td>07:54:10</td>     <th>  Log-Likelihood:    </th> <td> -25.955</td>\n",
              "</tr>\n",
              "<tr>\n",
              "  <th>No. Observations:</th>      <td>    20</td>      <th>  AIC:               </th> <td>   77.91</td>\n",
              "</tr>\n",
              "<tr>\n",
              "  <th>Df Residuals:</th>          <td>     7</td>      <th>  BIC:               </th> <td>   90.86</td>\n",
              "</tr>\n",
              "<tr>\n",
              "  <th>Df Model:</th>              <td>    12</td>      <th>                     </th>     <td> </td>   \n",
              "</tr>\n",
              "<tr>\n",
              "  <th>Covariance Type:</th>      <td>nonrobust</td>    <th>                     </th>     <td> </td>   \n",
              "</tr>\n",
              "</table>\n",
              "<table class=\"simpletable\">\n",
              "<tr>\n",
              "          <td></td>            <th>coef</th>     <th>std err</th>      <th>t</th>      <th>P>|t|</th>  <th>[0.025</th>    <th>0.975]</th>  \n",
              "</tr>\n",
              "<tr>\n",
              "  <th>const</th>            <td>   84.0849</td> <td>    8.329</td> <td>   10.095</td> <td> 0.000</td> <td>   64.389</td> <td>  103.780</td>\n",
              "</tr>\n",
              "<tr>\n",
              "  <th>mode</th>             <td>    1.5229</td> <td>    1.617</td> <td>    0.942</td> <td> 0.378</td> <td>   -2.301</td> <td>    5.347</td>\n",
              "</tr>\n",
              "<tr>\n",
              "  <th>acousticness</th>     <td>  -12.2332</td> <td>    5.424</td> <td>   -2.255</td> <td> 0.059</td> <td>  -25.058</td> <td>    0.592</td>\n",
              "</tr>\n",
              "<tr>\n",
              "  <th>danceability</th>     <td>    8.6648</td> <td>    7.927</td> <td>    1.093</td> <td> 0.311</td> <td>  -10.080</td> <td>   27.410</td>\n",
              "</tr>\n",
              "<tr>\n",
              "  <th>duration_ms</th>      <td>-8.123e-06</td> <td>  1.2e-05</td> <td>   -0.678</td> <td> 0.519</td> <td>-3.64e-05</td> <td> 2.02e-05</td>\n",
              "</tr>\n",
              "<tr>\n",
              "  <th>energy</th>           <td>  -13.0696</td> <td>    9.629</td> <td>   -1.357</td> <td> 0.217</td> <td>  -35.839</td> <td>    9.700</td>\n",
              "</tr>\n",
              "<tr>\n",
              "  <th>instrumentalness</th> <td>   -3.9050</td> <td>    3.002</td> <td>   -1.301</td> <td> 0.235</td> <td>  -11.004</td> <td>    3.194</td>\n",
              "</tr>\n",
              "<tr>\n",
              "  <th>liveness</th>         <td>   10.3406</td> <td>    6.338</td> <td>    1.632</td> <td> 0.147</td> <td>   -4.646</td> <td>   25.327</td>\n",
              "</tr>\n",
              "<tr>\n",
              "  <th>loudness</th>         <td>    0.2184</td> <td>    0.389</td> <td>    0.561</td> <td> 0.592</td> <td>   -0.703</td> <td>    1.139</td>\n",
              "</tr>\n",
              "<tr>\n",
              "  <th>speechiness</th>      <td>   -5.9795</td> <td>   11.143</td> <td>   -0.537</td> <td> 0.608</td> <td>  -32.329</td> <td>   20.370</td>\n",
              "</tr>\n",
              "<tr>\n",
              "  <th>tempo</th>            <td>   -0.0115</td> <td>    0.036</td> <td>   -0.323</td> <td> 0.756</td> <td>   -0.096</td> <td>    0.073</td>\n",
              "</tr>\n",
              "<tr>\n",
              "  <th>valence</th>          <td>    0.6163</td> <td>    3.076</td> <td>    0.200</td> <td> 0.847</td> <td>   -6.658</td> <td>    7.891</td>\n",
              "</tr>\n",
              "<tr>\n",
              "  <th>key</th>              <td>    0.1279</td> <td>    0.205</td> <td>    0.625</td> <td> 0.552</td> <td>   -0.356</td> <td>    0.612</td>\n",
              "</tr>\n",
              "</table>\n",
              "<table class=\"simpletable\">\n",
              "<tr>\n",
              "  <th>Omnibus:</th>       <td> 8.456</td> <th>  Durbin-Watson:     </th> <td>   1.599</td>\n",
              "</tr>\n",
              "<tr>\n",
              "  <th>Prob(Omnibus):</th> <td> 0.015</td> <th>  Jarque-Bera (JB):  </th> <td>   9.951</td>\n",
              "</tr>\n",
              "<tr>\n",
              "  <th>Skew:</th>          <td>-0.410</td> <th>  Prob(JB):          </th> <td> 0.00690</td>\n",
              "</tr>\n",
              "<tr>\n",
              "  <th>Kurtosis:</th>      <td> 6.357</td> <th>  Cond. No.          </th> <td>1.02e+07</td>\n",
              "</tr>\n",
              "</table><br/><br/>Warnings:<br/>[1] Standard Errors assume that the covariance matrix of the errors is correctly specified.<br/>[2] The condition number is large, 1.02e+07. This might indicate that there are<br/>strong multicollinearity or other numerical problems."
            ],
            "text/plain": [
              "<class 'statsmodels.iolib.summary.Summary'>\n",
              "\"\"\"\n",
              "                            OLS Regression Results                            \n",
              "==============================================================================\n",
              "Dep. Variable:             popularity   R-squared:                       0.715\n",
              "Model:                            OLS   Adj. R-squared:                  0.228\n",
              "Method:                 Least Squares   F-statistic:                     1.467\n",
              "Date:                Wed, 28 Apr 2021   Prob (F-statistic):              0.314\n",
              "Time:                        07:54:10   Log-Likelihood:                -25.955\n",
              "No. Observations:                  20   AIC:                             77.91\n",
              "Df Residuals:                       7   BIC:                             90.86\n",
              "Df Model:                          12                                         \n",
              "Covariance Type:            nonrobust                                         \n",
              "====================================================================================\n",
              "                       coef    std err          t      P>|t|      [0.025      0.975]\n",
              "------------------------------------------------------------------------------------\n",
              "const               84.0849      8.329     10.095      0.000      64.389     103.780\n",
              "mode                 1.5229      1.617      0.942      0.378      -2.301       5.347\n",
              "acousticness       -12.2332      5.424     -2.255      0.059     -25.058       0.592\n",
              "danceability         8.6648      7.927      1.093      0.311     -10.080      27.410\n",
              "duration_ms      -8.123e-06    1.2e-05     -0.678      0.519   -3.64e-05    2.02e-05\n",
              "energy             -13.0696      9.629     -1.357      0.217     -35.839       9.700\n",
              "instrumentalness    -3.9050      3.002     -1.301      0.235     -11.004       3.194\n",
              "liveness            10.3406      6.338      1.632      0.147      -4.646      25.327\n",
              "loudness             0.2184      0.389      0.561      0.592      -0.703       1.139\n",
              "speechiness         -5.9795     11.143     -0.537      0.608     -32.329      20.370\n",
              "tempo               -0.0115      0.036     -0.323      0.756      -0.096       0.073\n",
              "valence              0.6163      3.076      0.200      0.847      -6.658       7.891\n",
              "key                  0.1279      0.205      0.625      0.552      -0.356       0.612\n",
              "==============================================================================\n",
              "Omnibus:                        8.456   Durbin-Watson:                   1.599\n",
              "Prob(Omnibus):                  0.015   Jarque-Bera (JB):                9.951\n",
              "Skew:                          -0.410   Prob(JB):                      0.00690\n",
              "Kurtosis:                       6.357   Cond. No.                     1.02e+07\n",
              "==============================================================================\n",
              "\n",
              "Warnings:\n",
              "[1] Standard Errors assume that the covariance matrix of the errors is correctly specified.\n",
              "[2] The condition number is large, 1.02e+07. This might indicate that there are\n",
              "strong multicollinearity or other numerical problems.\n",
              "\"\"\""
            ]
          },
          "metadata": {
            "tags": []
          },
          "execution_count": 29
        }
      ]
    },
    {
      "cell_type": "markdown",
      "metadata": {
        "id": "keYjKGEWes5p"
      },
      "source": [
        "As shown above, acousticness holdes the lowest pvalue, however it's still not low enough to pass the test. Thus, none of the features listed in this dataset has statistic significance to the popularity of a song. \n",
        "\n",
        "In another word, by adjusting any listed technical features of a song cannot make a song more popular."
      ]
    }
  ]
}