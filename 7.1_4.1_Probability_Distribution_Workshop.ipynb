{
  "nbformat": 4,
  "nbformat_minor": 0,
  "metadata": {
    "colab": {
      "name": "7.1 4.1_Probability_Distribution_Workshop.ipynb",
      "provenance": [],
      "collapsed_sections": []
    },
    "kernelspec": {
      "name": "python3",
      "display_name": "Python 3"
    }
  },
  "cells": [
    {
      "cell_type": "markdown",
      "metadata": {
        "id": "223MyBZuemRj"
      },
      "source": [
        "Name: Shuyun Wen\n",
        "\n",
        "Email: wendywen027@gmail.com"
      ]
    },
    {
      "cell_type": "markdown",
      "metadata": {
        "id": "9aBcChPoh6VP"
      },
      "source": [
        "NOTE:\n",
        "Please insert a text cell at the top of the Notebook with your Full Name in Bold and your email that you use for both Journey and Github\n",
        "\n",
        "Also, add to the title of the notebook, an underscore as well as your name.\n",
        "\n",
        "Ex. '4.1_Probability_Distribution_Workshop_Usama'"
      ]
    },
    {
      "cell_type": "markdown",
      "metadata": {
        "id": "QOMYQ7_ViXfr"
      },
      "source": [
        "#Warmup\n",
        "Import the scipy, numpy, random and matplotlib packages in the cell below. Also, set run a random seed command."
      ]
    },
    {
      "cell_type": "code",
      "metadata": {
        "id": "qQIQBFeliW85"
      },
      "source": [
        "import numpy as np\n",
        "import scipy.stats as sc\n",
        "import matplotlib.pyplot as plt\n",
        "import random"
      ],
      "execution_count": 1,
      "outputs": []
    },
    {
      "cell_type": "markdown",
      "metadata": {
        "id": "YVzCzRqNilsZ"
      },
      "source": [
        "#Distribution\n",
        "\n",
        "You are given an unfair coin with p = 0.7 chance of being heads. Plot the number of heads and tails you would have after 3000 flips.\n",
        "\n",
        "What is the Probability of getting atleast 1 tails after 10 flips?"
      ]
    },
    {
      "cell_type": "code",
      "metadata": {
        "id": "Hy7ASoNmjKwT",
        "colab": {
          "base_uri": "https://localhost:8080/",
          "height": 295
        },
        "outputId": "483a3e4d-40ed-4a0a-a86e-7700d850fc95"
      },
      "source": [
        "p = 0.7\n",
        "r = sc.bernoulli.rvs(p, size=3000,random_state=5)\n",
        "\n",
        "plt.hist(r)\n",
        "plt.title(\"Outcomes Distribution\")\n",
        "plt.ylabel(\"Count\")\n",
        "plt.xlabel(\"Outcome\")\n",
        "plt.show()"
      ],
      "execution_count": 14,
      "outputs": [
        {
          "output_type": "display_data",
          "data": {
            "image/png": "[encoded data removed]",
            "text/plain": [
              "<Figure size 432x288 with 1 Axes>"
            ]
          },
          "metadata": {
            "tags": [],
            "needs_background": "light"
          }
        }
      ]
    },
    {
      "cell_type": "markdown",
      "metadata": {
        "id": "562uFCYskqyR"
      },
      "source": [
        "Probability of getting atleast 1 tails after 10 flips:\n",
        "\n",
        "P(atleast 1 tails after 10 flips) = 1 - P(no tail after 10 flips) = 1-(0.3)^10 = 0.9999940951\n"
      ]
    },
    {
      "cell_type": "markdown",
      "metadata": {
        "id": "WvA7NwbAjLRe"
      },
      "source": [
        "You are given 20 unfair coins with p = 0.55 chance of being tails. Plot the number of heads you would get after flipping all 20 coins 15 times. "
      ]
    },
    {
      "cell_type": "code",
      "metadata": {
        "id": "ylKCQWMuj4Ld",
        "colab": {
          "base_uri": "https://localhost:8080/",
          "height": 295
        },
        "outputId": "e1a88fe4-5c20-498c-f36a-6ea33a64f8ed"
      },
      "source": [
        "p = 0.55\n",
        "n = 20\n",
        "r = sc.binom.rvs(n, p, size=15,random_state=5)\n",
        "\n",
        "plt.hist(r)\n",
        "plt.title(\"Number of Tails Distribution\")\n",
        "plt.ylabel(\"Count\")\n",
        "plt.xlabel(\"Number of Tails\")\n",
        "plt.show()"
      ],
      "execution_count": 15,
      "outputs": [
        {
          "output_type": "display_data",
          "data": {
            "image/png": "[encoded data removed]",
            "text/plain": [
              "<Figure size 432x288 with 1 Axes>"
            ]
          },
          "metadata": {
            "tags": [],
            "needs_background": "light"
          }
        }
      ]
    },
    {
      "cell_type": "markdown",
      "metadata": {
        "id": "Y3SKHFXZj4ls"
      },
      "source": [
        "Create another plot of the number of heads your would get after flipping all 20 coins 50, 100 & 1000 times? What do you notice about the shape of the histogram as you add in more trials? Why is the shape changing?"
      ]
    },
    {
      "cell_type": "code",
      "metadata": {
        "id": "XkyGSYtvkLlM",
        "colab": {
          "base_uri": "https://localhost:8080/",
          "height": 295
        },
        "outputId": "03de2f33-435b-402a-d67b-ecedef390cf2"
      },
      "source": [
        "p = 0.45\n",
        "n = 20\n",
        "r = sc.binom.rvs(n, p, size=50,random_state=5)\n",
        "\n",
        "plt.hist(r)\n",
        "plt.title(\"Number of Heads Distribution\")\n",
        "plt.ylabel(\"Count\")\n",
        "plt.xlabel(\"Number of Heads\")\n",
        "plt.show()"
      ],
      "execution_count": 16,
      "outputs": [
        {
          "output_type": "display_data",
          "data": {
            "image/png": "[encoded data removed]",
            "text/plain": [
              "<Figure size 432x288 with 1 Axes>"
            ]
          },
          "metadata": {
            "tags": [],
            "needs_background": "light"
          }
        }
      ]
    },
    {
      "cell_type": "code",
      "metadata": {
        "id": "HmihD7UKkL04",
        "colab": {
          "base_uri": "https://localhost:8080/",
          "height": 295
        },
        "outputId": "30d8339e-0452-4e3d-97aa-4c81e526dddc"
      },
      "source": [
        "p = 0.45\n",
        "n = 20\n",
        "r = sc.binom.rvs(n, p, size=100,random_state=5)\n",
        "\n",
        "plt.hist(r)\n",
        "plt.title(\"Number of Heads Distribution\")\n",
        "plt.ylabel(\"Count\")\n",
        "plt.xlabel(\"Number of Heads\")\n",
        "plt.show()"
      ],
      "execution_count": 17,
      "outputs": [
        {
          "output_type": "display_data",
          "data": {
            "image/png": "[encoded data removed]",
            "text/plain": [
              "<Figure size 432x288 with 1 Axes>"
            ]
          },
          "metadata": {
            "tags": [],
            "needs_background": "light"
          }
        }
      ]
    },
    {
      "cell_type": "code",
      "metadata": {
        "id": "qBqi27XPkMFp",
        "colab": {
          "base_uri": "https://localhost:8080/",
          "height": 295
        },
        "outputId": "a55ec6d9-0b70-4c45-fca7-d3bf60253c7a"
      },
      "source": [
        "p = 0.45\n",
        "n = 20\n",
        "r = sc.binom.rvs(n, p, size=1000,random_state=5)\n",
        "\n",
        "plt.hist(r)\n",
        "plt.title(\"Number of Heads Distribution\")\n",
        "plt.ylabel(\"Count\")\n",
        "plt.xlabel(\"Number of Heads\")\n",
        "plt.show()"
      ],
      "execution_count": 18,
      "outputs": [
        {
          "output_type": "display_data",
          "data": {
            "image/png": "[encoded data removed]",
            "text/plain": [
              "<Figure size 432x288 with 1 Axes>"
            ]
          },
          "metadata": {
            "tags": [],
            "needs_background": "light"
          }
        }
      ]
    },
    {
      "cell_type": "markdown",
      "metadata": {
        "id": "X9o2vC52pcIq"
      },
      "source": [
        "As more trials are performed, the density distribution graph becomes well-bell -shaped pattern. This is caused by the number of trails performed. If the number of trails becomes big enough, it becomes approximately normally distributed.  "
      ]
    },
    {
      "cell_type": "markdown",
      "metadata": {
        "id": "eyTnsle4kMkK"
      },
      "source": [
        "You are given a bunch of random data points x = [1,3,6,4,3,83,45,878,23,21,432,34,54,6,232,100,150]. Fit this data onto a normal curve by using the population mean and variance. Plot this using a histogram with a size of 1000."
      ]
    },
    {
      "cell_type": "code",
      "metadata": {
        "id": "cZ6VsruVnzmB"
      },
      "source": [
        ""
      ],
      "execution_count": null,
      "outputs": []
    },
    {
      "cell_type": "markdown",
      "metadata": {
        "id": "SkfOJIWlnz8s"
      },
      "source": [
        "\n",
        "\n",
        "A research study was conducted to examine the differences between older and younger adults on perceived life satisfaction. A pilot study was conducted to examine this hypothesis. Ten older adults (over the age of 70) and ten younger adults (between 20 and 30) were give a life satisfaction test (known to have high reliability and validity). Scores on the measure range from 0 to 60 with high scores indicative of high life satisfaction; low scores indicative of low life satisfaction. The data are presented below. Compute the appropriate t-test and write whether we can reject the null and explain why we can or why we cannot reject the null.\n",
        "\n",
        "\n",
        "Old = [45, 38, 52, 48, 25, 39, 51, 46, 55, 46]\n",
        "\n",
        "Younger = [34, 22, 15, 27, 37, 41, 24, 19, 26, 36]\n",
        "\n",
        "\n"
      ]
    },
    {
      "cell_type": "code",
      "metadata": {
        "id": "1uhNOcRUoNqz",
        "colab": {
          "base_uri": "https://localhost:8080/"
        },
        "outputId": "e082c62f-4667-49d3-a920-56bc77af9bee"
      },
      "source": [
        "Old = [45, 38, 52, 48, 25, 39, 51, 46, 55, 46]\n",
        "Younger = [34, 22, 15, 27, 37, 41, 24, 19, 26, 36]\n",
        "\n",
        "sc.ttest_ind(Old, Younger, equal_var=False)"
      ],
      "execution_count": 19,
      "outputs": [
        {
          "output_type": "execute_result",
          "data": {
            "text/plain": [
              "Ttest_indResult(statistic=4.257546665558161, pvalue=0.0004739105735746614)"
            ]
          },
          "metadata": {
            "tags": []
          },
          "execution_count": 19
        }
      ]
    },
    {
      "cell_type": "markdown",
      "metadata": {
        "id": "N8aIPP18SFxw"
      },
      "source": [
        "Null Hypothsis: there is no score difference in satisfaction test between older adults and younger adults.\n",
        "\n",
        "Test Result: with pvalue = 0.0005 of t-test, we can reject null hypothesis with 99% level of confidence, which means there is statistic significance of diffrence bewteen older adults and younger adults in satisfaction test. "
      ]
    },
    {
      "cell_type": "markdown",
      "metadata": {
        "id": "8x-W2EQgpVDQ"
      },
      "source": [
        "What is more likely: Getting at least one six in 6 rolls, at least two sixes in 12 rolls or at least 100 sixes in 600 rolls?"
      ]
    },
    {
      "cell_type": "code",
      "metadata": {
        "id": "IN6X3JrgqDQv",
        "colab": {
          "base_uri": "https://localhost:8080/",
          "height": 295
        },
        "outputId": "18dd0653-2e28-48fc-d4c9-72f99255121e"
      },
      "source": [
        "p = 1/6\n",
        "n = 6\n",
        "r = sc.binom.rvs(n, p, size=1000,random_state=5)\n",
        "\n",
        "plt.hist(r)\n",
        "plt.title(\"6 Rolls Distribution\")\n",
        "plt.ylabel(\"Count\")\n",
        "plt.xlabel(\"Number of six\")\n",
        "plt.show()"
      ],
      "execution_count": 20,
      "outputs": [
        {
          "output_type": "display_data",
          "data": {
            "image/png": "[encoded data removed]",
            "text/plain": [
              "<Figure size 432x288 with 1 Axes>"
            ]
          },
          "metadata": {
            "tags": [],
            "needs_background": "light"
          }
        }
      ]
    },
    {
      "cell_type": "code",
      "metadata": {
        "colab": {
          "base_uri": "https://localhost:8080/",
          "height": 295
        },
        "id": "npEdOSylUT4Y",
        "outputId": "58a3e1f7-5266-481d-d01f-4c28252b5c49"
      },
      "source": [
        "p = 1/6\n",
        "n = 12\n",
        "r = sc.binom.rvs(n, p, size=1000,random_state=5)\n",
        "\n",
        "plt.hist(r)\n",
        "plt.title(\"6 Rolls Distribution\")\n",
        "plt.ylabel(\"Count\")\n",
        "plt.xlabel(\"Number of six\")\n",
        "plt.show()"
      ],
      "execution_count": 21,
      "outputs": [
        {
          "output_type": "display_data",
          "data": {
            "image/png": "[encoded data removed]",
            "text/plain": [
              "<Figure size 432x288 with 1 Axes>"
            ]
          },
          "metadata": {
            "tags": [],
            "needs_background": "light"
          }
        }
      ]
    },
    {
      "cell_type": "code",
      "metadata": {
        "colab": {
          "base_uri": "https://localhost:8080/",
          "height": 295
        },
        "id": "1zm9rb41UYbp",
        "outputId": "ff297d8d-6250-4f55-ef66-c2f2914521f2"
      },
      "source": [
        "p = 1/6\n",
        "n = 600\n",
        "r = sc.binom.rvs(n, p, size=1000,random_state=5)\n",
        "\n",
        "plt.hist(r)\n",
        "plt.title(\"6 Rolls Distribution\")\n",
        "plt.ylabel(\"Count\")\n",
        "plt.xlabel(\"Number of six\")\n",
        "plt.show()"
      ],
      "execution_count": 22,
      "outputs": [
        {
          "output_type": "display_data",
          "data": {
            "image/png": "[encoded data removed]",
            "text/plain": [
              "<Figure size 432x288 with 1 Axes>"
            ]
          },
          "metadata": {
            "tags": [],
            "needs_background": "light"
          }
        }
      ]
    },
    {
      "cell_type": "markdown",
      "metadata": {
        "id": "j9f4MlTgV19_"
      },
      "source": [
        "At least 100 sixes in 600 rolls holds the highest possibility.\n",
        "\n",
        "For all three conditions, they are all expectation values.However,as number of rolls increases, the pattern with larger number of rolls transforms to bell-like shape, thus has larger area of \"right\" side and higher possibility."
      ]
    }
  ]
}