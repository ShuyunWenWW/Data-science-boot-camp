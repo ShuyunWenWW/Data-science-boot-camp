{
  "nbformat": 4,
  "nbformat_minor": 0,
  "metadata": {
    "colab": {
      "name": "1.4 Workshop_Conditional_Logic.ipynb",
      "provenance": [],
      "collapsed_sections": []
    },
    "kernelspec": {
      "name": "python3",
      "display_name": "Python 3"
    }
  },
  "cells": [
    {
      "cell_type": "markdown",
      "metadata": {
        "id": "Gxn4Mb0SLS39"
      },
      "source": [
        "Name: Shuyun Wen  \r\n",
        "Email: wendywen027@gmail.com"
      ]
    },
    {
      "cell_type": "markdown",
      "metadata": {
        "id": "s3ShPXAO2JFK"
      },
      "source": [
        "#**NOTE:**\r\n",
        "Please insert a text cell at the top of the Notebook with your Full Name in Bold and your email that you use for both Journey and Github\r\n",
        "\r\n",
        "Also, add to the title of the notebook, an underscore as well as your favourite flavour of ice cream beside it.\r\n",
        "\r\n",
        "Ex. 'Workshop_Conditional_Logic_Cookies_and_Cream'\r\n",
        "\r\n",
        "\r\n",
        "\r\n"
      ]
    },
    {
      "cell_type": "markdown",
      "metadata": {
        "id": "PmLF5u2r2xju"
      },
      "source": [
        "#Warm Up\r\n",
        "\r\n",
        "Import numpy, matplotlib.pyplot and name them np and plt respectively. "
      ]
    },
    {
      "cell_type": "code",
      "metadata": {
        "id": "AK3opr4n1vtn"
      },
      "source": [
        "import numpy as np\r\n",
        "import matplotlib.pyplot as plt"
      ],
      "execution_count": null,
      "outputs": []
    },
    {
      "cell_type": "markdown",
      "metadata": {
        "id": "ZFzjls1y3q6f"
      },
      "source": [
        "Use the range function to list out all even numbers between 1 and 30."
      ]
    },
    {
      "cell_type": "code",
      "metadata": {
        "id": "fJ80NrmD31JF",
        "colab": {
          "base_uri": "https://localhost:8080/"
        },
        "outputId": "3a5a6d21-5d68-40c8-e856-8eaeb124e917"
      },
      "source": [
        "for i in range(1,31):\r\n",
        "  if i%2==0:\r\n",
        "    print(i)"
      ],
      "execution_count": null,
      "outputs": [
        {
          "output_type": "stream",
          "text": [
            "2\n",
            "4\n",
            "6\n",
            "8\n",
            "10\n",
            "12\n",
            "14\n",
            "16\n",
            "18\n",
            "20\n",
            "22\n",
            "24\n",
            "26\n",
            "28\n",
            "30\n"
          ],
          "name": "stdout"
        }
      ]
    },
    {
      "cell_type": "markdown",
      "metadata": {
        "id": "C3kBiQQs31rh"
      },
      "source": [
        "Create a tuple with 6,1,2,3,4,5 as entries and name it \"Tuple\". Convert tuple to an array and name the array 'Array'. Finally write a line that will double each element in Array **without** using a loop and print the result."
      ]
    },
    {
      "cell_type": "code",
      "metadata": {
        "id": "NvxzoMOA4iSM",
        "colab": {
          "base_uri": "https://localhost:8080/"
        },
        "outputId": "088c6f33-6a2f-4730-8710-b3daec0596a5"
      },
      "source": [
        "Tuple = (6,1,2,3,4,5)\r\n",
        "Array = np.array(list(Tuple))\r\n",
        "\r\n",
        "print(2*Array)"
      ],
      "execution_count": null,
      "outputs": [
        {
          "output_type": "stream",
          "text": [
            "[12  2  4  6  8 10]\n"
          ],
          "name": "stdout"
        }
      ]
    },
    {
      "cell_type": "markdown",
      "metadata": {
        "id": "gVvzl6r34iq-"
      },
      "source": [
        "Now, let's do the above exercise with a loop. Convert Tuple to a list and name it \"List\". Use a for loop to double all elements in List and print the result. "
      ]
    },
    {
      "cell_type": "code",
      "metadata": {
        "id": "z5WZYQDl5Clv",
        "colab": {
          "base_uri": "https://localhost:8080/"
        },
        "outputId": "98d7005b-2e6f-40c0-f3b5-4b778e3f98f6"
      },
      "source": [
        "List = list(Array)\r\n",
        "\r\n",
        "for i in range(len(List)):\r\n",
        "  List[i] = 2*List[i]\r\n",
        "\r\n",
        "print(List)"
      ],
      "execution_count": null,
      "outputs": [
        {
          "output_type": "stream",
          "text": [
            "[12, 2, 4, 6, 8, 10]\n"
          ],
          "name": "stdout"
        }
      ]
    },
    {
      "cell_type": "markdown",
      "metadata": {
        "id": "PMYZSLkK5Ddy"
      },
      "source": [
        "How many iterations will this while loop have? Why does the while loop stop in the first place?\r\n",
        "\r\n",
        "```\r\n",
        "i=0\r\n",
        "while i<16:\r\n",
        "  print (i)\r\n",
        "  i=i+1\r\n",
        "```\r\n",
        "\r\n"
      ]
    },
    {
      "cell_type": "markdown",
      "metadata": {
        "id": "ODY5m0636R0s"
      },
      "source": [
        "Write the number of iterations here: 16\r\n",
        "\r\n",
        "Why does the while loop stop? \r\n",
        "\r\n",
        "  At the end of 16th loop, i = 16. The while condition \"i<16\" is\r\n",
        "False, thus the loop stops.\r\n",
        "\r\n",
        "--Answer here--"
      ]
    },
    {
      "cell_type": "markdown",
      "metadata": {
        "id": "zmo8t0YY6dvK"
      },
      "source": [
        "#Exercises\r\n",
        "\r\n",
        "##Blast Off\r\n",
        "Use a loop that counts backwards from 5 and prints out 'Blast Off!' after it counts 1.\r\n",
        "\r\n",
        "Output should be\r\n",
        "\r\n",
        "\r\n",
        "```\r\n",
        "5\r\n",
        "4\r\n",
        "3\r\n",
        "2\r\n",
        "1\r\n",
        "Blast Off!\r\n",
        "```\r\n",
        "**Hint**\r\n",
        "The range function can go backwards. Make sure you select the appropriate starting number, ending number and make your step size -1. \r\n"
      ]
    },
    {
      "cell_type": "code",
      "metadata": {
        "id": "rVECd5cD7Nm7",
        "colab": {
          "base_uri": "https://localhost:8080/"
        },
        "outputId": "b8212963-3fea-476d-ff69-6dfaff572f46"
      },
      "source": [
        "for i in range(5,-1,-1):\r\n",
        "  if i>=1:\r\n",
        "    print(i)\r\n",
        "  else:\r\n",
        "    print(\"Blast Off!\")"
      ],
      "execution_count": null,
      "outputs": [
        {
          "output_type": "stream",
          "text": [
            "5\n",
            "4\n",
            "3\n",
            "2\n",
            "1\n",
            "Blast Off!\n"
          ],
          "name": "stdout"
        }
      ]
    },
    {
      "cell_type": "markdown",
      "metadata": {
        "id": "lRzR0mT87mTX"
      },
      "source": [
        "##Updating a list and Creating a New List\r\n",
        "\r\n",
        "Create a list with entries 0,4,5,8,2,9 and name it \"num\". Use a while loop over num and print out all entries."
      ]
    },
    {
      "cell_type": "code",
      "metadata": {
        "id": "lfSYkTrb7SRz",
        "colab": {
          "base_uri": "https://localhost:8080/"
        },
        "outputId": "a99ae412-41e0-4753-b01a-e7d54e2cc3aa"
      },
      "source": [
        "num = [0,4,5,8,2,9]\r\n",
        "\r\n",
        "counter = 0\r\n",
        "while counter<len(num):\r\n",
        "  print(num[counter])\r\n",
        "  counter += 1\r\n"
      ],
      "execution_count": null,
      "outputs": [
        {
          "output_type": "stream",
          "text": [
            "0\n",
            "4\n",
            "5\n",
            "8\n",
            "2\n",
            "9\n"
          ],
          "name": "stdout"
        }
      ]
    },
    {
      "cell_type": "markdown",
      "metadata": {
        "id": "vNvyh9CoATsi"
      },
      "source": [
        "Create an empty list and name it 'X'. Use a for loop to append all even numbers from 0 to 20 into X."
      ]
    },
    {
      "cell_type": "code",
      "metadata": {
        "id": "yyJB44e2AUMw",
        "colab": {
          "base_uri": "https://localhost:8080/"
        },
        "outputId": "fb149d5f-4300-4fad-d005-484063e90820"
      },
      "source": [
        "X = []\r\n",
        "\r\n",
        "for i in range(21):\r\n",
        "  if i%2 == 0:\r\n",
        "    X.append(i)\r\n",
        "\r\n",
        "print(X)"
      ],
      "execution_count": null,
      "outputs": [
        {
          "output_type": "stream",
          "text": [
            "[0, 2, 4, 6, 8, 10, 12, 14, 16, 18, 20]\n"
          ],
          "name": "stdout"
        }
      ]
    },
    {
      "cell_type": "markdown",
      "metadata": {
        "id": "lEth2bIc9zE0"
      },
      "source": [
        "Create a list with entries 6, 4, 6, 5, 123, 37, 82, 44, 39 and save it as \"numbers\". Loop through the elements in numbers and replace the element with \"Even\" if it is an even number.\r\n",
        "\r\n",
        "Example:\r\n",
        "\r\n",
        "\r\n",
        "```\r\n",
        "Input\r\n",
        "Y = [3,4,5,8,10]\r\n",
        "\r\n",
        "Output\r\n",
        "Y = [3,Even,5,Even,Even]\r\n",
        "```\r\n",
        "**Hint:**Recall how to replace entries in a list from the previous lecture.\r\n"
      ]
    },
    {
      "cell_type": "code",
      "metadata": {
        "id": "JbBbalz7-5Zd",
        "colab": {
          "base_uri": "https://localhost:8080/"
        },
        "outputId": "756580a6-c708-4d96-a511-903e1e8a9659"
      },
      "source": [
        "numbers = [6, 4, 6, 5, 123, 37, 82, 44, 39]\r\n",
        "for i in range(len(numbers)):\r\n",
        "  if numbers[i]%2 == 0:\r\n",
        "    numbers[i] = \"Even\"\r\n",
        "\r\n",
        "print(numbers)"
      ],
      "execution_count": null,
      "outputs": [
        {
          "output_type": "stream",
          "text": [
            "['Even', 'Even', 'Even', 5, 123, 37, 'Even', 'Even', 39]\n"
          ],
          "name": "stdout"
        }
      ]
    },
    {
      "cell_type": "markdown",
      "metadata": {
        "id": "TDDj4ptbBgaN"
      },
      "source": [
        "Create a empty list and a list with entries 1, 3, 2, 1, 5, 3, 5, 1, 4 and name them \"unique\" and \"original\" respectively. Use a loop to iterate over entries in \"original\" and add all unique entries into \"unique\".\r\n",
        "\r\n",
        "\r\n",
        "```\r\n",
        "Input:\r\n",
        "unique = []\r\n",
        "original = [1, 3, 2, 1, 5, 3, 5, 1, 4]\r\n",
        "\r\n",
        "Output:\r\n",
        "unique = [1, 3, 2, 5, 4]\r\n",
        "```\r\n",
        "**Hint** Your loop should look something like this:\r\n",
        "\r\n",
        "\r\n",
        "```\r\n",
        "for i in ___:\r\n",
        "    if i not in ___:\r\n",
        "        ____.append(i)\r\n",
        "\r\n",
        "print (___)\r\n",
        "```\r\n",
        "\r\n",
        "\r\n"
      ]
    },
    {
      "cell_type": "code",
      "metadata": {
        "id": "lk6H80sQ_ZRl",
        "colab": {
          "base_uri": "https://localhost:8080/"
        },
        "outputId": "ed12afc2-05d5-481c-eb1d-21786e057480"
      },
      "source": [
        "unique = []\r\n",
        "original = [1, 3, 2, 1, 5, 3, 5, 1, 4]\r\n",
        "\r\n",
        "for i in original:\r\n",
        "    if i not in unique:\r\n",
        "        unique.append(i)\r\n",
        " \r\n",
        "print(unique)"
      ],
      "execution_count": null,
      "outputs": [
        {
          "output_type": "stream",
          "text": [
            "[1, 3, 2, 5, 4]\n"
          ],
          "name": "stdout"
        }
      ]
    },
    {
      "cell_type": "markdown",
      "metadata": {
        "id": "NpoOCec-FNVL"
      },
      "source": [
        "##String Manipulation\r\n",
        "\r\n",
        "Create a string as \"one two 3 4 five 6\" and save it as numbers\r\n",
        "\r\n"
      ]
    },
    {
      "cell_type": "code",
      "metadata": {
        "id": "_l_z33bFGpec"
      },
      "source": [
        "# create a string with a mix of expression of numbers(number and word)\r\n",
        "numbers = \"one two 3 4 five 6\" "
      ],
      "execution_count": null,
      "outputs": []
    },
    {
      "cell_type": "markdown",
      "metadata": {
        "id": "Bw9M8xCbGpx7"
      },
      "source": [
        "Run the line, numbers.split() and save the result as X and print it."
      ]
    },
    {
      "cell_type": "code",
      "metadata": {
        "id": "6KRlKx1KGyLH",
        "colab": {
          "base_uri": "https://localhost:8080/"
        },
        "outputId": "b711d469-a666-40c1-b8e2-dc60c7ab26af"
      },
      "source": [
        "# split the string \"numbers\" by space(\" \"), and create a list, X, with each part of the string as an element in \"X\". \r\n",
        "X = numbers.split() \r\n",
        "\r\n",
        "print(X)"
      ],
      "execution_count": null,
      "outputs": [
        {
          "output_type": "stream",
          "text": [
            "['one', 'two', '3', '4', 'five', '6']\n"
          ],
          "name": "stdout"
        }
      ]
    },
    {
      "cell_type": "markdown",
      "metadata": {
        "id": "h45ydn-IHEKa"
      },
      "source": [
        "The previous line created a list from the words and numbers that was in the original string.\r\n",
        "\r\n",
        "Now create a dictionary with the key- value pairs ('one': 1, 'two': 2, 'three': 3, 'four': 4, 'five': 5, 'six': 6) and name it 'values'."
      ]
    },
    {
      "cell_type": "code",
      "metadata": {
        "id": "1r28CVG6G8ip"
      },
      "source": [
        "# create a dictionary with key-value pairs correspnding to each interger bewteen 1 and 6\r\n",
        "values = {'one': 1, 'two': 2, 'three': 3, 'four': 4, 'five': 5, 'six': 6}"
      ],
      "execution_count": null,
      "outputs": []
    },
    {
      "cell_type": "markdown",
      "metadata": {
        "id": "rSA6h6W9Hi6C"
      },
      "source": [
        "Create an empty list and name it \"numeric\". Run a loop over \"X\" and have the loop output all entries in X as numbers inside numeric. The input/output follows:\r\n",
        "\r\n",
        "\r\n",
        "```\r\n",
        "Input:\r\n",
        "numeric = []\r\n",
        "values = ['one', 'two', '3', '4', 'five', '6']\r\n",
        "\r\n",
        "Output:\r\n",
        "numeric = [1, 2, 3, 4, 5, 6]\r\n",
        "```\r\n",
        "**Hint:** Your code should be in the form of:\r\n",
        "\r\n",
        "\r\n",
        "\r\n",
        "```\r\n",
        "for i in ____:\r\n",
        "    if i in values.keys():\r\n",
        "          ___.append(values[i])\r\n",
        "    else:\r\n",
        "          ___.append(int(i))\r\n",
        "\r\n",
        "print (____)\r\n",
        "```\r\n",
        "\r\n",
        "\r\n"
      ]
    },
    {
      "cell_type": "code",
      "metadata": {
        "id": "CnQE5a-zNr1p",
        "colab": {
          "base_uri": "https://localhost:8080/"
        },
        "outputId": "5ef57aa5-153f-4ccd-b6c2-58814f9046d1"
      },
      "source": [
        "# create an empty list to unite expression of numbers \r\n",
        "numeric = []\r\n",
        "\r\n",
        "# Iterate all entries in \"X\"\r\n",
        "for i in X:\r\n",
        "  # if the entry is in word, append the corresponding number to list by taking values in dictionary.\r\n",
        "  if i in values.keys():\r\n",
        "    numeric.append(values[i])\r\n",
        "  # if the entry is in numeric, change it to integer and append to list.\r\n",
        "  else:\r\n",
        "    numeric.append(int(i))\r\n",
        " \r\n",
        "print(numeric)"
      ],
      "execution_count": null,
      "outputs": [
        {
          "output_type": "stream",
          "text": [
            "[1, 2, 3, 4, 5, 6]\n"
          ],
          "name": "stdout"
        }
      ]
    },
    {
      "cell_type": "markdown",
      "metadata": {
        "id": "fkp2azLKNsjx"
      },
      "source": [
        "Convert num into a string by running\r\n",
        "\r\n",
        "```\r\n",
        "'  '.join(str(x) for x in numeric) \r\n",
        "```\r\n",
        "and save the result as 'string' and print it."
      ]
    },
    {
      "cell_type": "code",
      "metadata": {
        "id": "dCPqFKoOOCZK",
        "colab": {
          "base_uri": "https://localhost:8080/"
        },
        "outputId": "b6967f9d-100a-499f-dde6-e216ed73562e"
      },
      "source": [
        "# create a string by joining all entries in \"numeric\" with space(\" \") added between each entry.\r\n",
        "string = \" \".join(str(x) for x in numeric)\r\n",
        "\r\n",
        "print(string)"
      ],
      "execution_count": null,
      "outputs": [
        {
          "output_type": "stream",
          "text": [
            "1 2 3 4 5 6\n"
          ],
          "name": "stdout"
        }
      ]
    },
    {
      "cell_type": "markdown",
      "metadata": {
        "id": "JzeupddlOC4r"
      },
      "source": [
        "**Bonus:**\r\n",
        "Trace the code used in the String Manipulation Section and try to explain using words, what the code is doing overall."
      ]
    },
    {
      "cell_type": "markdown",
      "metadata": {
        "id": "w7LrRHjVOO0P"
      },
      "source": [
        "Write your answer here: \r\n",
        "\r\n",
        "See comments in each cell"
      ]
    },
    {
      "cell_type": "markdown",
      "metadata": {
        "id": "fiZFTCy5OR6y"
      },
      "source": [
        "#Debugging\r\n",
        "\r\n",
        "Below you will find sample codes with a few bugs in them. Identify where the bugs are and write the debugged code in the code block and run it.\r\n",
        "\r\n",
        "Write a loop that finds **all even** entries from 0 to 20 (inclusive) and prints them.\r\n",
        "\r\n",
        "\r\n",
        "```\r\n",
        "for i in range(0,20,-3):\r\n",
        "    if i%2 = 0\r\n",
        "    print (i)\r\n",
        "```\r\n",
        "\r\n",
        "\r\n",
        "\r\n"
      ]
    },
    {
      "cell_type": "code",
      "metadata": {
        "id": "QlHsqDt-Ks2U",
        "colab": {
          "base_uri": "https://localhost:8080/"
        },
        "outputId": "a1e14caa-ecf5-4cd6-a4f3-6f12a0fe73fb"
      },
      "source": [
        "for i in range(21):\r\n",
        "  if i%2 == 0:\r\n",
        "    print(i)\r\n"
      ],
      "execution_count": null,
      "outputs": [
        {
          "output_type": "stream",
          "text": [
            "0\n",
            "2\n",
            "4\n",
            "6\n",
            "8\n",
            "10\n",
            "12\n",
            "14\n",
            "16\n",
            "18\n",
            "20\n"
          ],
          "name": "stdout"
        }
      ]
    },
    {
      "cell_type": "markdown",
      "metadata": {
        "id": "vFq7HphRKtbF"
      },
      "source": [
        "Write a loop that iterates over a list of strings and prints \"True\" if the string is a palindrome and \"False\" if the string isn't. A palindrome is a word that can be read the same way forward as it can backwards. (Ex. noon, level, civic)\r\n",
        "\r\n",
        "\r\n",
        "\r\n",
        "```\r\n",
        "Words = ['ball', 'kayak', 'song', 'python', 'madam', 'racecar', 'noon']\r\n",
        "for word in words:\r\n",
        "    result = 'False'\r\n",
        "    for i in range(len(word)/2):\r\n",
        "        if word[i] = word[-1-i]:\r\n",
        "                                  result = 'True'\r\n",
        "else:\r\n",
        "            result = 'False'\r\n",
        "        print (Result)\r\n",
        "    \r\n",
        "\r\n",
        "\r\n",
        "```\r\n",
        "\r\n"
      ]
    },
    {
      "cell_type": "code",
      "metadata": {
        "id": "lAga4798Kubd",
        "colab": {
          "base_uri": "https://localhost:8080/"
        },
        "outputId": "18b536b8-86b5-4b6b-b813-b9b32705fa26"
      },
      "source": [
        "Words = ['ball', 'kayak', 'song', 'python', 'madam', 'racecar', 'noon']\r\n",
        "\r\n",
        "for word in Words:\r\n",
        "  result = 'False'\r\n",
        "  result_each = []\r\n",
        "  for i in range(round(len(word)/2)):    \r\n",
        "    result_each.append(word[i] == word[len(word)-1-i])\r\n",
        "    if all(result_each) == True:\r\n",
        "      result = 'True'\r\n",
        "  print(result)\r\n"
      ],
      "execution_count": null,
      "outputs": [
        {
          "output_type": "stream",
          "text": [
            "False\n",
            "True\n",
            "False\n",
            "False\n",
            "True\n",
            "True\n",
            "True\n"
          ],
          "name": "stdout"
        }
      ]
    },
    {
      "cell_type": "markdown",
      "metadata": {
        "id": "0baXakCkKu2Z"
      },
      "source": [
        "Edit the code to create a list of the first 10 entries of the Fibonacci Sequence and print it. The Fibonacci Sequence is a sequence of numbers starting from 1, where consecutive numbers are obtained by summing the previous two.\r\n",
        "\r\n",
        "Your Output should be:\r\n",
        "\r\n",
        "[1, 1, 2, 3, 5, 8, 13, 21, 34, 55]\r\n",
        "\r\n",
        "\r\n",
        "\r\n",
        "```\r\n",
        "Fibonacci = [1,1]\r\n",
        "for i in range (1,5) and i>4:\r\n",
        "    x = Fibonacci[i] + Fibonacci[i-1]\r\n",
        "    Fibonacci.append(i)\r\n",
        "\r\n",
        "print (Fibonacci)\r\n",
        "\r\n",
        "```\r\n",
        "\r\n"
      ]
    },
    {
      "cell_type": "code",
      "metadata": {
        "id": "_-jwPzdyKvL5",
        "colab": {
          "base_uri": "https://localhost:8080/"
        },
        "outputId": "27aee1b5-86fe-4557-c790-7fefe0f5d930"
      },
      "source": [
        "Fibonacci = [1,1]\r\n",
        "\r\n",
        "for i in range(2,10):\r\n",
        "  x = Fibonacci[i-1] + Fibonacci[i-2]\r\n",
        "  Fibonacci.append(x)\r\n",
        " \r\n",
        "print (Fibonacci)"
      ],
      "execution_count": null,
      "outputs": [
        {
          "output_type": "stream",
          "text": [
            "[1, 1, 2, 3, 5, 8, 13, 21, 34, 55]\n"
          ],
          "name": "stdout"
        }
      ]
    },
    {
      "cell_type": "markdown",
      "metadata": {
        "id": "fj4n3r8AKyZr"
      },
      "source": [
        "Create a loop that will go through a string and count how many of each vowel the string contains:\r\n",
        "\r\n",
        "\r\n",
        "\r\n",
        "```\r\n",
        "string = 'cauliflower is very healthy'\r\n",
        "\r\n",
        "a = 0\r\n",
        "e = 0\r\n",
        "i = 0\r\n",
        "o = 0\r\n",
        "u = 0\r\n",
        "y = 0\r\n",
        "for letter in string:\r\n",
        "  if letter = 'a':\r\n",
        "    o = o + 1\r\n",
        "  if letter == 'b':\r\n",
        "    e = e + 1\r\n",
        "  if letter == 'i':\r\n",
        "    i = i + 1\r\n",
        "  if letter == 'o':\r\n",
        "    a = a + 1\r\n",
        "  else:\r\n",
        "    u = u + 1\r\n",
        "print(f\"There are {a} a's, {e} e's, {i} i's, {o} o's, {u} u's & {y} y's in the string\")\r\n",
        "```\r\n",
        "\r\n"
      ]
    },
    {
      "cell_type": "code",
      "metadata": {
        "id": "lqj5PhjgKyvY",
        "colab": {
          "base_uri": "https://localhost:8080/"
        },
        "outputId": "e66ab55d-2e1a-4003-a34f-6223d584d67c"
      },
      "source": [
        "string = 'cauliflower is very healthy'\r\n",
        " \r\n",
        "a = 0\r\n",
        "e = 0\r\n",
        "i = 0\r\n",
        "o = 0\r\n",
        "u = 0\r\n",
        "y = 0\r\n",
        "\r\n",
        "for letter in string:\r\n",
        "  if letter == 'a':\r\n",
        "    a += 1\r\n",
        "  if letter == 'e':\r\n",
        "    e += 1  \r\n",
        "  if letter == 'i':\r\n",
        "    i += 1\r\n",
        "  if letter == 'o':\r\n",
        "    o += 1\r\n",
        "  if letter == 'u':\r\n",
        "    u += 1\r\n",
        "  if letter == 'y':\r\n",
        "    y += 1\r\n",
        "\r\n",
        "print(f\"There are {a} a's, {e} e's, {i} i's, {o} o's, {u} u's & {y} y's in the string\")"
      ],
      "execution_count": null,
      "outputs": [
        {
          "output_type": "stream",
          "text": [
            "There are 2 a's, 3 e's, 2 i's, 1 o's, 1 u's & 2 y's in the string\n"
          ],
          "name": "stdout"
        }
      ]
    },
    {
      "cell_type": "markdown",
      "metadata": {
        "id": "n9ZQIr0gPRWV"
      },
      "source": [
        "#More Interview Questions\r\n",
        "\r\n",
        "\r\n",
        "- What is the difference between Python Arrays and lists? (Write your answer in a text cell below)\r\n",
        "\r\n",
        "- What is the difference between list and tuples in Python?"
      ]
    },
    {
      "cell_type": "markdown",
      "metadata": {
        "id": "qp0oaiTVpRYQ"
      },
      "source": [
        "Array vs. list:\r\n",
        "\r\n",
        "  Array and list have diffrent functions that can be performed. For example, all values in a array can be devided by a number simply using \"/\", whereas list will raise an error.\r\n",
        "  Also, multidimensional arrays can be used for solving linear algebra problems.\r\n",
        "\r\n",
        "List vs. tuple:\r\n",
        "\r\n",
        "  Lists are mutable whereas tuples are immutable."
      ]
    },
    {
      "cell_type": "code",
      "metadata": {
        "id": "oo-p9LBJOBH2"
      },
      "source": [
        "'''\r\n",
        "Write a program that prints the following pattern, using a 'for' loop.\r\n",
        "\r\n",
        "* \r\n",
        "* * \r\n",
        "* * * \r\n",
        "* * * * \r\n",
        "* * * * * \r\n",
        "* * * * \r\n",
        "* * * \r\n",
        "* * \r\n",
        "*\r\n",
        "'''"
      ],
      "execution_count": null,
      "outputs": []
    },
    {
      "cell_type": "code",
      "metadata": {
        "id": "QYJoQgenOQnp",
        "colab": {
          "base_uri": "https://localhost:8080/"
        },
        "outputId": "d360ee1a-2347-42b7-cdc4-42f61510aa72"
      },
      "source": [
        "height = 5\r\n",
        "\r\n",
        "for i in range(1,height):\r\n",
        "  for j in range(i):\r\n",
        "    print(\"*\", end = \" \")\r\n",
        "  print(\"\")\r\n",
        "for i in range(height,0,-1):\r\n",
        "  for j in range(i):\r\n",
        "    print(\"*\", end = \" \")\r\n",
        "  print(\"\")\r\n",
        "\t"
      ],
      "execution_count": null,
      "outputs": [
        {
          "output_type": "stream",
          "text": [
            "* \n",
            "* * \n",
            "* * * \n",
            "* * * * \n",
            "* * * * * \n",
            "* * * * \n",
            "* * * \n",
            "* * \n",
            "* \n"
          ],
          "name": "stdout"
        }
      ]
    },
    {
      "cell_type": "code",
      "metadata": {
        "id": "QMwgLA45QEqW"
      },
      "source": [
        "'''\r\n",
        "For the following list, iterate through and print all the terms that contain an integer\r\n",
        "'''\r\n",
        "\r\n",
        "word_list = ['hello', 'goodbye', 'yes1', 'no', 'maybe2']"
      ],
      "execution_count": null,
      "outputs": []
    },
    {
      "cell_type": "code",
      "metadata": {
        "colab": {
          "base_uri": "https://localhost:8080/"
        },
        "id": "jl0U8D-1pK7_",
        "outputId": "4b765235-fec4-4923-91fc-b6d70f517c72"
      },
      "source": [
        "word_list = ['hello', 'goodbye', 'yes1', 'no', 'maybe2']\r\n",
        "\r\n",
        "for word in word_list:\r\n",
        "  counter = 0\r\n",
        "  for i in word:\r\n",
        "    if i.isdigit() == True:\r\n",
        "      counter += 1\r\n",
        "  if counter != 0:\r\n",
        "    print(word)\r\n",
        "  "
      ],
      "execution_count": null,
      "outputs": [
        {
          "output_type": "stream",
          "text": [
            "yes1\n",
            "maybe2\n"
          ],
          "name": "stdout"
        }
      ]
    },
    {
      "cell_type": "code",
      "metadata": {
        "id": "tk6qbYKrRDpX"
      },
      "source": [
        "'''\r\n",
        "For the following list of integers, write a program that returns a list of all the even numbers\r\n",
        "'''\r\n",
        "\r\n",
        "number_list = [1,2,3,4,5,6,7,8,9]"
      ],
      "execution_count": null,
      "outputs": []
    },
    {
      "cell_type": "code",
      "metadata": {
        "colab": {
          "base_uri": "https://localhost:8080/"
        },
        "id": "3n1wzS9buIu9",
        "outputId": "77bac6ec-41d0-4cdb-9076-f2cdd45e1801"
      },
      "source": [
        "number_list = [1,2,3,4,5,6,7,8,9]\r\n",
        "even_list = []\r\n",
        "\r\n",
        "for i in number_list:\r\n",
        "  if i%2 == 0:\r\n",
        "    even_list.append(i)\r\n",
        "\r\n",
        "print(even_list)"
      ],
      "execution_count": null,
      "outputs": [
        {
          "output_type": "stream",
          "text": [
            "[2, 4, 6, 8]\n"
          ],
          "name": "stdout"
        }
      ]
    },
    {
      "cell_type": "markdown",
      "metadata": {
        "id": "QVNS_hO7PWru"
      },
      "source": [
        "#Bonus \r\n",
        "\r\n",
        "Create a list with elements [\"Toronto\", \"Vancouver\", \"Montreal\"], and create a nested for loop that returns a list of these strings in reverse order.\r\n",
        "\r\n",
        "\r\n",
        "\r\n",
        "```\r\n",
        "Input\r\n",
        "[\"Toronto\", \"Vancouver\", \"Montreal\"]\r\n",
        "\r\n",
        "Output\r\n",
        "[\"otnoroT\", \"revuocnaV\", \"laertnoM\"]\r\n",
        "```\r\n",
        "\r\n"
      ]
    },
    {
      "cell_type": "code",
      "metadata": {
        "id": "hIp_UiVSacE7",
        "colab": {
          "base_uri": "https://localhost:8080/"
        },
        "outputId": "49de3db0-7d46-48bb-8d3d-dd357fdfa924"
      },
      "source": [
        "cities = [\"Toronto\", \"Vancouver\", \"Montreal\"]\r\n",
        "\r\n",
        "# using nested loop\r\n",
        "cities_nest = []\r\n",
        "city_reverse = \"\"\r\n",
        "\r\n",
        "for city in cities:\r\n",
        "  for i in range(len(city)-1,-1,-1):\r\n",
        "    city_reverse += city[i]\r\n",
        "  cities_nest.append(city_reverse)\r\n",
        "  city_reverse = \"\"\r\n",
        "\r\n",
        "print(cities_nest)"
      ],
      "execution_count": 46,
      "outputs": [
        {
          "output_type": "stream",
          "text": [
            "['otnoroT', 'revuocnaV', 'laertnoM']\n"
          ],
          "name": "stdout"
        }
      ]
    },
    {
      "cell_type": "code",
      "metadata": {
        "id": "_54ObDYncko2",
        "colab": {
          "base_uri": "https://localhost:8080/"
        },
        "outputId": "752e7e6f-c376-46d4-a507-c415722fc3c3"
      },
      "source": [
        "# achieve same result without using nested loop\r\n",
        "cities_direct = [city[::-1] for city in cities]\r\n",
        "\r\n",
        "print(cities_direct)"
      ],
      "execution_count": 47,
      "outputs": [
        {
          "output_type": "stream",
          "text": [
            "['otnoroT', 'revuocnaV', 'laertnoM']\n"
          ],
          "name": "stdout"
        }
      ]
    },
    {
      "cell_type": "code",
      "metadata": {
        "id": "R1H4pdI8vGXe"
      },
      "source": [
        ""
      ],
      "execution_count": null,
      "outputs": []
    }
  ]
}