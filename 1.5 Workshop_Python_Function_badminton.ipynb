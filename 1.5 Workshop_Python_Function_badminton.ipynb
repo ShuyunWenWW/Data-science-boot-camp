{
  "nbformat": 4,
  "nbformat_minor": 0,
  "metadata": {
    "language_info": {
      "name": "python",
      "codemirror_mode": {
        "name": "ipython",
        "version": 3
      },
      "version": "3.7.4-final"
    },
    "orig_nbformat": 2,
    "file_extension": ".py",
    "mimetype": "text/x-python",
    "name": "python",
    "npconvert_exporter": "python",
    "pygments_lexer": "ipython3",
    "version": 3,
    "kernelspec": {
      "name": "python3",
      "display_name": "Python 3"
    },
    "colab": {
      "name": "1.5 Workshop_Python_Function_badminton.ipynb",
      "provenance": [],
      "collapsed_sections": []
    }
  },
  "cells": [
    {
      "cell_type": "markdown",
      "metadata": {
        "id": "0gb7zPQowS0d"
      },
      "source": [
        "Name: Shuyun Wen\r\n",
        "\r\n",
        "Email: wendywen027@gmail.com"
      ]
    },
    {
      "cell_type": "markdown",
      "metadata": {
        "id": "sT-JzLWK4bfZ"
      },
      "source": [
        "**NOTE:**\r\n",
        "\r\n",
        "Please insert a text cell at the top of the Notebook with your Full Name in Bold and your email that you use for both Journey and Github\r\n",
        "\r\n",
        "Also, add to the title of the notebook, an underscore as well as your favourite sport beside it.\r\n",
        "\r\n",
        "Ex. 'Workshop_Python_Function_Powerlifting'"
      ]
    },
    {
      "cell_type": "markdown",
      "metadata": {
        "id": "1iy5rDnHjMOB"
      },
      "source": [
        "# Warm Up\n",
        "\n",
        "Create a function that takes two numbers as arguments and return their sum.\n",
        "Examples\n",
        "\n",
        "addition(3, 2) ➞ 5\n",
        "\n",
        "addition(-3, -6) ➞ -9\n",
        "\n",
        "addition(7, 3) ➞ 10"
      ]
    },
    {
      "cell_type": "code",
      "metadata": {
        "id": "zCP0sJ_bjMOD",
        "colab": {
          "base_uri": "https://localhost:8080/"
        },
        "outputId": "915cdd14-851d-49c5-b617-6f2dbbcc08d6"
      },
      "source": [
        "def addition(a,b):\r\n",
        "  return a+b\r\n",
        "\r\n",
        "print(addition(3,2))\r\n",
        "print(addition(-3,-6))\r\n",
        "print(addition(7,3))"
      ],
      "execution_count": null,
      "outputs": [
        {
          "output_type": "stream",
          "text": [
            "5\n",
            "-9\n",
            "10\n"
          ],
          "name": "stdout"
        }
      ]
    },
    {
      "cell_type": "markdown",
      "metadata": {
        "id": "cuO0LbIRjMOM"
      },
      "source": [
        "Generate a Python list of all the even numbers between 4 to 3048"
      ]
    },
    {
      "cell_type": "code",
      "metadata": {
        "id": "QmPBJRrgjMOR",
        "colab": {
          "base_uri": "https://localhost:8080/"
        },
        "outputId": "de57506e-bf70-4ab4-a240-94ede8a4c1fb"
      },
      "source": [
        "def even_numbers(start,end):\r\n",
        "  even_list = []\r\n",
        "  for i in range(start,end+1):\r\n",
        "    if i%2 == 0:\r\n",
        "      even_list.append(i)\r\n",
        "  return even_list\r\n",
        "\r\n",
        "print(even_numbers(4,3048))\r\n"
      ],
      "execution_count": null,
      "outputs": [
        {
          "output_type": "stream",
          "text": [
            "[4, 6, 8, 10, 12, 14, 16, 18, 20, 22, 24, 26, 28, 30, 32, 34, 36, 38, 40, 42, 44, 46, 48, 50, 52, 54, 56, 58, 60, 62, 64, 66, 68, 70, 72, 74, 76, 78, 80, 82, 84, 86, 88, 90, 92, 94, 96, 98, 100, 102, 104, 106, 108, 110, 112, 114, 116, 118, 120, 122, 124, 126, 128, 130, 132, 134, 136, 138, 140, 142, 144, 146, 148, 150, 152, 154, 156, 158, 160, 162, 164, 166, 168, 170, 172, 174, 176, 178, 180, 182, 184, 186, 188, 190, 192, 194, 196, 198, 200, 202, 204, 206, 208, 210, 212, 214, 216, 218, 220, 222, 224, 226, 228, 230, 232, 234, 236, 238, 240, 242, 244, 246, 248, 250, 252, 254, 256, 258, 260, 262, 264, 266, 268, 270, 272, 274, 276, 278, 280, 282, 284, 286, 288, 290, 292, 294, 296, 298, 300, 302, 304, 306, 308, 310, 312, 314, 316, 318, 320, 322, 324, 326, 328, 330, 332, 334, 336, 338, 340, 342, 344, 346, 348, 350, 352, 354, 356, 358, 360, 362, 364, 366, 368, 370, 372, 374, 376, 378, 380, 382, 384, 386, 388, 390, 392, 394, 396, 398, 400, 402, 404, 406, 408, 410, 412, 414, 416, 418, 420, 422, 424, 426, 428, 430, 432, 434, 436, 438, 440, 442, 444, 446, 448, 450, 452, 454, 456, 458, 460, 462, 464, 466, 468, 470, 472, 474, 476, 478, 480, 482, 484, 486, 488, 490, 492, 494, 496, 498, 500, 502, 504, 506, 508, 510, 512, 514, 516, 518, 520, 522, 524, 526, 528, 530, 532, 534, 536, 538, 540, 542, 544, 546, 548, 550, 552, 554, 556, 558, 560, 562, 564, 566, 568, 570, 572, 574, 576, 578, 580, 582, 584, 586, 588, 590, 592, 594, 596, 598, 600, 602, 604, 606, 608, 610, 612, 614, 616, 618, 620, 622, 624, 626, 628, 630, 632, 634, 636, 638, 640, 642, 644, 646, 648, 650, 652, 654, 656, 658, 660, 662, 664, 666, 668, 670, 672, 674, 676, 678, 680, 682, 684, 686, 688, 690, 692, 694, 696, 698, 700, 702, 704, 706, 708, 710, 712, 714, 716, 718, 720, 722, 724, 726, 728, 730, 732, 734, 736, 738, 740, 742, 744, 746, 748, 750, 752, 754, 756, 758, 760, 762, 764, 766, 768, 770, 772, 774, 776, 778, 780, 782, 784, 786, 788, 790, 792, 794, 796, 798, 800, 802, 804, 806, 808, 810, 812, 814, 816, 818, 820, 822, 824, 826, 828, 830, 832, 834, 836, 838, 840, 842, 844, 846, 848, 850, 852, 854, 856, 858, 860, 862, 864, 866, 868, 870, 872, 874, 876, 878, 880, 882, 884, 886, 888, 890, 892, 894, 896, 898, 900, 902, 904, 906, 908, 910, 912, 914, 916, 918, 920, 922, 924, 926, 928, 930, 932, 934, 936, 938, 940, 942, 944, 946, 948, 950, 952, 954, 956, 958, 960, 962, 964, 966, 968, 970, 972, 974, 976, 978, 980, 982, 984, 986, 988, 990, 992, 994, 996, 998, 1000, 1002, 1004, 1006, 1008, 1010, 1012, 1014, 1016, 1018, 1020, 1022, 1024, 1026, 1028, 1030, 1032, 1034, 1036, 1038, 1040, 1042, 1044, 1046, 1048, 1050, 1052, 1054, 1056, 1058, 1060, 1062, 1064, 1066, 1068, 1070, 1072, 1074, 1076, 1078, 1080, 1082, 1084, 1086, 1088, 1090, 1092, 1094, 1096, 1098, 1100, 1102, 1104, 1106, 1108, 1110, 1112, 1114, 1116, 1118, 1120, 1122, 1124, 1126, 1128, 1130, 1132, 1134, 1136, 1138, 1140, 1142, 1144, 1146, 1148, 1150, 1152, 1154, 1156, 1158, 1160, 1162, 1164, 1166, 1168, 1170, 1172, 1174, 1176, 1178, 1180, 1182, 1184, 1186, 1188, 1190, 1192, 1194, 1196, 1198, 1200, 1202, 1204, 1206, 1208, 1210, 1212, 1214, 1216, 1218, 1220, 1222, 1224, 1226, 1228, 1230, 1232, 1234, 1236, 1238, 1240, 1242, 1244, 1246, 1248, 1250, 1252, 1254, 1256, 1258, 1260, 1262, 1264, 1266, 1268, 1270, 1272, 1274, 1276, 1278, 1280, 1282, 1284, 1286, 1288, 1290, 1292, 1294, 1296, 1298, 1300, 1302, 1304, 1306, 1308, 1310, 1312, 1314, 1316, 1318, 1320, 1322, 1324, 1326, 1328, 1330, 1332, 1334, 1336, 1338, 1340, 1342, 1344, 1346, 1348, 1350, 1352, 1354, 1356, 1358, 1360, 1362, 1364, 1366, 1368, 1370, 1372, 1374, 1376, 1378, 1380, 1382, 1384, 1386, 1388, 1390, 1392, 1394, 1396, 1398, 1400, 1402, 1404, 1406, 1408, 1410, 1412, 1414, 1416, 1418, 1420, 1422, 1424, 1426, 1428, 1430, 1432, 1434, 1436, 1438, 1440, 1442, 1444, 1446, 1448, 1450, 1452, 1454, 1456, 1458, 1460, 1462, 1464, 1466, 1468, 1470, 1472, 1474, 1476, 1478, 1480, 1482, 1484, 1486, 1488, 1490, 1492, 1494, 1496, 1498, 1500, 1502, 1504, 1506, 1508, 1510, 1512, 1514, 1516, 1518, 1520, 1522, 1524, 1526, 1528, 1530, 1532, 1534, 1536, 1538, 1540, 1542, 1544, 1546, 1548, 1550, 1552, 1554, 1556, 1558, 1560, 1562, 1564, 1566, 1568, 1570, 1572, 1574, 1576, 1578, 1580, 1582, 1584, 1586, 1588, 1590, 1592, 1594, 1596, 1598, 1600, 1602, 1604, 1606, 1608, 1610, 1612, 1614, 1616, 1618, 1620, 1622, 1624, 1626, 1628, 1630, 1632, 1634, 1636, 1638, 1640, 1642, 1644, 1646, 1648, 1650, 1652, 1654, 1656, 1658, 1660, 1662, 1664, 1666, 1668, 1670, 1672, 1674, 1676, 1678, 1680, 1682, 1684, 1686, 1688, 1690, 1692, 1694, 1696, 1698, 1700, 1702, 1704, 1706, 1708, 1710, 1712, 1714, 1716, 1718, 1720, 1722, 1724, 1726, 1728, 1730, 1732, 1734, 1736, 1738, 1740, 1742, 1744, 1746, 1748, 1750, 1752, 1754, 1756, 1758, 1760, 1762, 1764, 1766, 1768, 1770, 1772, 1774, 1776, 1778, 1780, 1782, 1784, 1786, 1788, 1790, 1792, 1794, 1796, 1798, 1800, 1802, 1804, 1806, 1808, 1810, 1812, 1814, 1816, 1818, 1820, 1822, 1824, 1826, 1828, 1830, 1832, 1834, 1836, 1838, 1840, 1842, 1844, 1846, 1848, 1850, 1852, 1854, 1856, 1858, 1860, 1862, 1864, 1866, 1868, 1870, 1872, 1874, 1876, 1878, 1880, 1882, 1884, 1886, 1888, 1890, 1892, 1894, 1896, 1898, 1900, 1902, 1904, 1906, 1908, 1910, 1912, 1914, 1916, 1918, 1920, 1922, 1924, 1926, 1928, 1930, 1932, 1934, 1936, 1938, 1940, 1942, 1944, 1946, 1948, 1950, 1952, 1954, 1956, 1958, 1960, 1962, 1964, 1966, 1968, 1970, 1972, 1974, 1976, 1978, 1980, 1982, 1984, 1986, 1988, 1990, 1992, 1994, 1996, 1998, 2000, 2002, 2004, 2006, 2008, 2010, 2012, 2014, 2016, 2018, 2020, 2022, 2024, 2026, 2028, 2030, 2032, 2034, 2036, 2038, 2040, 2042, 2044, 2046, 2048, 2050, 2052, 2054, 2056, 2058, 2060, 2062, 2064, 2066, 2068, 2070, 2072, 2074, 2076, 2078, 2080, 2082, 2084, 2086, 2088, 2090, 2092, 2094, 2096, 2098, 2100, 2102, 2104, 2106, 2108, 2110, 2112, 2114, 2116, 2118, 2120, 2122, 2124, 2126, 2128, 2130, 2132, 2134, 2136, 2138, 2140, 2142, 2144, 2146, 2148, 2150, 2152, 2154, 2156, 2158, 2160, 2162, 2164, 2166, 2168, 2170, 2172, 2174, 2176, 2178, 2180, 2182, 2184, 2186, 2188, 2190, 2192, 2194, 2196, 2198, 2200, 2202, 2204, 2206, 2208, 2210, 2212, 2214, 2216, 2218, 2220, 2222, 2224, 2226, 2228, 2230, 2232, 2234, 2236, 2238, 2240, 2242, 2244, 2246, 2248, 2250, 2252, 2254, 2256, 2258, 2260, 2262, 2264, 2266, 2268, 2270, 2272, 2274, 2276, 2278, 2280, 2282, 2284, 2286, 2288, 2290, 2292, 2294, 2296, 2298, 2300, 2302, 2304, 2306, 2308, 2310, 2312, 2314, 2316, 2318, 2320, 2322, 2324, 2326, 2328, 2330, 2332, 2334, 2336, 2338, 2340, 2342, 2344, 2346, 2348, 2350, 2352, 2354, 2356, 2358, 2360, 2362, 2364, 2366, 2368, 2370, 2372, 2374, 2376, 2378, 2380, 2382, 2384, 2386, 2388, 2390, 2392, 2394, 2396, 2398, 2400, 2402, 2404, 2406, 2408, 2410, 2412, 2414, 2416, 2418, 2420, 2422, 2424, 2426, 2428, 2430, 2432, 2434, 2436, 2438, 2440, 2442, 2444, 2446, 2448, 2450, 2452, 2454, 2456, 2458, 2460, 2462, 2464, 2466, 2468, 2470, 2472, 2474, 2476, 2478, 2480, 2482, 2484, 2486, 2488, 2490, 2492, 2494, 2496, 2498, 2500, 2502, 2504, 2506, 2508, 2510, 2512, 2514, 2516, 2518, 2520, 2522, 2524, 2526, 2528, 2530, 2532, 2534, 2536, 2538, 2540, 2542, 2544, 2546, 2548, 2550, 2552, 2554, 2556, 2558, 2560, 2562, 2564, 2566, 2568, 2570, 2572, 2574, 2576, 2578, 2580, 2582, 2584, 2586, 2588, 2590, 2592, 2594, 2596, 2598, 2600, 2602, 2604, 2606, 2608, 2610, 2612, 2614, 2616, 2618, 2620, 2622, 2624, 2626, 2628, 2630, 2632, 2634, 2636, 2638, 2640, 2642, 2644, 2646, 2648, 2650, 2652, 2654, 2656, 2658, 2660, 2662, 2664, 2666, 2668, 2670, 2672, 2674, 2676, 2678, 2680, 2682, 2684, 2686, 2688, 2690, 2692, 2694, 2696, 2698, 2700, 2702, 2704, 2706, 2708, 2710, 2712, 2714, 2716, 2718, 2720, 2722, 2724, 2726, 2728, 2730, 2732, 2734, 2736, 2738, 2740, 2742, 2744, 2746, 2748, 2750, 2752, 2754, 2756, 2758, 2760, 2762, 2764, 2766, 2768, 2770, 2772, 2774, 2776, 2778, 2780, 2782, 2784, 2786, 2788, 2790, 2792, 2794, 2796, 2798, 2800, 2802, 2804, 2806, 2808, 2810, 2812, 2814, 2816, 2818, 2820, 2822, 2824, 2826, 2828, 2830, 2832, 2834, 2836, 2838, 2840, 2842, 2844, 2846, 2848, 2850, 2852, 2854, 2856, 2858, 2860, 2862, 2864, 2866, 2868, 2870, 2872, 2874, 2876, 2878, 2880, 2882, 2884, 2886, 2888, 2890, 2892, 2894, 2896, 2898, 2900, 2902, 2904, 2906, 2908, 2910, 2912, 2914, 2916, 2918, 2920, 2922, 2924, 2926, 2928, 2930, 2932, 2934, 2936, 2938, 2940, 2942, 2944, 2946, 2948, 2950, 2952, 2954, 2956, 2958, 2960, 2962, 2964, 2966, 2968, 2970, 2972, 2974, 2976, 2978, 2980, 2982, 2984, 2986, 2988, 2990, 2992, 2994, 2996, 2998, 3000, 3002, 3004, 3006, 3008, 3010, 3012, 3014, 3016, 3018, 3020, 3022, 3024, 3026, 3028, 3030, 3032, 3034, 3036, 3038, 3040, 3042, 3044, 3046, 3048]\n"
          ],
          "name": "stdout"
        }
      ]
    },
    {
      "cell_type": "markdown",
      "metadata": {
        "id": "BKWQxlIfjMOa"
      },
      "source": [
        "# First and Last \n",
        "\n",
        "Creates a function that takes a string and returns the first and last character.\n",
        "### Examples\n",
        "\n",
        "```\n",
        "first_last(\"ganesh\") ➞ \"gh\"\n",
        "\n",
        "first_last(\"kali\") ➞ \"ki\"\n",
        "\n",
        "first_last(\"shiva\") ➞ \"sa\"\n",
        "\n",
        "first_last(\"vishnu\") ➞ \"vu\"\n",
        "\n",
        "first_last(\"durga\") ➞ \"da\"\n",
        "```"
      ]
    },
    {
      "cell_type": "code",
      "metadata": {
        "id": "ReZj5xusjMOb",
        "colab": {
          "base_uri": "https://localhost:8080/"
        },
        "outputId": "86b00c86-7ee0-4509-dc4a-40afd338f03b"
      },
      "source": [
        "def first_last(string):\r\n",
        "  return string[0] + string[-1]\r\n",
        "\r\n",
        "print(first_last(\"ganesh\"))\r\n",
        "print(first_last(\"kali\"))\r\n",
        "print(first_last(\"shiva\"))\r\n",
        "print(first_last(\"vishnu\")) \r\n",
        "print(first_last(\"durga\"))"
      ],
      "execution_count": null,
      "outputs": [
        {
          "output_type": "stream",
          "text": [
            "gh\n",
            "ki\n",
            "sa\n",
            "vu\n",
            "da\n"
          ],
          "name": "stdout"
        }
      ]
    },
    {
      "cell_type": "markdown",
      "metadata": {
        "id": "OwOUmg3PjMOg"
      },
      "source": [
        "# Keys in Dict\n",
        "\n",
        "Write a function that returns `True` if a dictionary contains the specified key, and `False` otherwise.\n",
        "\n",
        "### Examples\n",
        "\n",
        "```\n",
        "has_key({ \"a\": 44, \"b\": 45, \"c\": 46 }, \"d\") ➞ False\n",
        "\n",
        "has_key({ \"craves\": True, \"midnight\": True, \"snack\": True }, \"morning\") ➞ False\n",
        "\n",
        "has_key({ \"pot\": 1, \"tot\": 2, \"not\": 3 }, \"not\") ➞ True\n",
        "```"
      ]
    },
    {
      "cell_type": "code",
      "metadata": {
        "id": "iv49655hjMOh",
        "colab": {
          "base_uri": "https://localhost:8080/"
        },
        "outputId": "e15bb7ce-28bd-453e-9dce-f7383e5cb301"
      },
      "source": [
        "def has_key(dictionary,test_key):\r\n",
        "  return test_key in dictionary.keys()\r\n",
        "\r\n",
        "print(has_key({ \"a\": 44, \"b\": 45, \"c\": 46 }, \"d\"))\r\n",
        "print(has_key({ \"craves\": True, \"midnight\": True, \"snack\": True }, \"morning\")) \r\n",
        "print(has_key({ \"pot\": 1, \"tot\": 2, \"not\": 3 }, \"not\"))"
      ],
      "execution_count": null,
      "outputs": [
        {
          "output_type": "stream",
          "text": [
            "False\n",
            "False\n",
            "True\n"
          ],
          "name": "stdout"
        }
      ]
    },
    {
      "cell_type": "markdown",
      "metadata": {
        "id": "x3cG0fxWjMOn"
      },
      "source": [
        "# Element Count\n",
        "\n",
        "Write a function that count how many times each element in a list occurs. It should return a dict in the format `element -> count`\n",
        "\n",
        "ex:\n",
        "```\n",
        "key_count([1, 3, 2, 1, 5, 3, 5, 1, 4]) ⇒ {\n",
        "    1: 3,\n",
        "    2: 1,\n",
        "    3: 2,\n",
        "    4: 1,\n",
        "    5: 2,\n",
        "}\n",
        "```"
      ]
    },
    {
      "cell_type": "code",
      "metadata": {
        "id": "Flay0XwUjMOo",
        "colab": {
          "base_uri": "https://localhost:8080/"
        },
        "outputId": "41fcfc67-34dc-4a9f-ddd7-e6bd679563d8"
      },
      "source": [
        "numbers = [1, 3, 2, 1, 5, 3, 5, 1, 4]\n",
        "\n",
        "def key_count(a_list):\n",
        "  a_dict = {}\n",
        "  for i in a_list:\n",
        "    if i not in a_dict.keys():\n",
        "      a_dict[i] = 1\n",
        "    else:\n",
        "      a_dict[i] += 1\n",
        "  return a_dict\n",
        "\n",
        "print(key_count(numbers))"
      ],
      "execution_count": null,
      "outputs": [
        {
          "output_type": "stream",
          "text": [
            "{1: 3, 3: 2, 2: 1, 5: 2, 4: 1}\n"
          ],
          "name": "stdout"
        }
      ]
    },
    {
      "cell_type": "markdown",
      "metadata": {
        "id": "hap91j1mjMOu"
      },
      "source": [
        "# Test Distinct\n",
        "\n",
        "Write a Python function that takes a sequence of numbers and determines whether all the numbers are different from each other.\n",
        "\n",
        "**Hint:** Think about the properties of sets.\n",
        "\n",
        "```\n",
        "test_distinct([2,3,4,5,7,8]) -> True\n",
        "test_distinct([2,3,4,5,8,8]) -> False\n",
        "```"
      ]
    },
    {
      "cell_type": "code",
      "metadata": {
        "id": "vOjSHswFjMOw",
        "colab": {
          "base_uri": "https://localhost:8080/"
        },
        "outputId": "9d6a2491-0a96-47af-b64c-bcb2db311937"
      },
      "source": [
        "def test_distinct(sequence):\r\n",
        "  return len(sequence) == len(set(sequence))\r\n",
        "\r\n",
        "print(test_distinct([2,3,4,5,7,8]))\r\n",
        "print(test_distinct([2,3,4,5,8,8]))"
      ],
      "execution_count": null,
      "outputs": [
        {
          "output_type": "stream",
          "text": [
            "True\n",
            "False\n"
          ],
          "name": "stdout"
        }
      ]
    },
    {
      "cell_type": "markdown",
      "metadata": {
        "id": "6E9o0wWAjMO0"
      },
      "source": [
        "\n",
        "\n",
        "Write a Python program to compute the amount of the debt in n months. The borrowing amount is $100,000 and the loan adds 5% interest of the debt and rounds it to the nearest 1,000 above month by month.\n",
        "\n",
        "The function takes in an integer (the number of months) and returns the total debt including the starting \\$100,000 rounded to \\$1000 .\n",
        "\n",
        "```\n",
        "debt_total(7) -> 144000\n",
        "debt_total(8) -> 152000\n",
        "debt_total(9) -> 160000\n",
        "debt_total(1) -> 105000\n",
        "debt_total(57) -> 1736000\n",
        "```\n"
      ]
    },
    {
      "cell_type": "code",
      "metadata": {
        "id": "iIODCG-ajMO1",
        "colab": {
          "base_uri": "https://localhost:8080/"
        },
        "outputId": "aa80ed15-cab1-49e4-fdde-f8e4b16461be"
      },
      "source": [
        "import math\r\n",
        "\r\n",
        "def debt_total(month, interest=0.05, amount=100000):\r\n",
        "  for i in range(month):\r\n",
        "    amount += math.ceil(amount*interest/1000)*1000\r\n",
        "  return amount\r\n",
        "\r\n",
        "print(debt_total(7))\r\n",
        "print(debt_total(8))\r\n",
        "print(debt_total(9))\r\n",
        "print(debt_total(1))\r\n",
        "print(debt_total(57))\r\n"
      ],
      "execution_count": null,
      "outputs": [
        {
          "output_type": "stream",
          "text": [
            "144000\n",
            "152000\n",
            "160000\n",
            "105000\n",
            "1736000\n"
          ],
          "name": "stdout"
        }
      ]
    },
    {
      "cell_type": "markdown",
      "metadata": {
        "id": "y9b3I_ACjMO6"
      },
      "source": [
        "# Spell Checker\n",
        "\n",
        "Create a function that takes in two lists: \n",
        "\n",
        "1. A sentence as a list of user-typed words\n",
        "\n",
        "2. The list of correctly-typed words\n",
        "\n",
        "and outputs a list containing 1s (correctly-typed words) and 0s (incorrectly-typed words).\n",
        "\n",
        "### Inputs:\n",
        "> User-typed: \\[\"cat\", \"blue\", \"skt\", \"umbrells\", \"paddy\"\\]\n",
        "\n",
        "> Correct: \\[\"cat\", \"blue\", \"sky\", \"umbrella\", \"paddy\"\\]\n",
        "\n",
        "### Output: \\[ 1, 1, 0, 0, 1 \\]\n",
        "\n",
        "### Examples\n",
        "\n",
        "```\n",
        "correct_stream(\n",
        "  [\"it\", \"is\", \"find\"],\n",
        "  [\"it\", \"is\", \"fine\"]\n",
        ") ➞ [1, 1, 0]\n",
        "\n",
        "correct_stream(\n",
        "  [\"april\", \"showrs\", \"bring\", \"may\", \"flowers\"],\n",
        "  [\"april\", \"showers\", \"bring\", \"may\", \"flowers\"]\n",
        ") ➞ [1, 0, 1, 1, 1]\n",
        "\n",
        "```"
      ]
    },
    {
      "cell_type": "code",
      "metadata": {
        "id": "STQsHu3wjMO7",
        "colab": {
          "base_uri": "https://localhost:8080/"
        },
        "outputId": "4b36f643-e68d-45c6-9644-a01e37cb86fd"
      },
      "source": [
        "def correct_stream(user, correct):\r\n",
        "  result = [1]*len(user)\r\n",
        "  for i in range(len(user)):\r\n",
        "    if user[i] == correct[i]:\r\n",
        "      result[i] = 0\r\n",
        "  return result\r\n",
        "\r\n",
        "print(correct_stream([\"it\", \"is\", \"find\"],[\"it\", \"is\", \"fine\"]))\r\n",
        "print(correct_stream([\"april\", \"showrs\", \"bring\", \"may\", \"flowers\"],[\"april\", \"showers\", \"bring\", \"may\", \"flowers\"]))"
      ],
      "execution_count": null,
      "outputs": [
        {
          "output_type": "stream",
          "text": [
            "[0, 0, 1]\n",
            "[0, 1, 0, 0, 0]\n"
          ],
          "name": "stdout"
        }
      ]
    },
    {
      "cell_type": "markdown",
      "metadata": {
        "id": "9WO4zQ7ejMPU"
      },
      "source": [
        "# Century\n",
        "\n",
        "Write a function that takes a year and returns its corresponding century.\n",
        "\n",
        "### Examples\n",
        "\n",
        "```\n",
        "century_from_year(2005) ➞ 21\n",
        "\n",
        "century_from_year(1850) ➞ 19\n",
        "\n",
        "century_from_year(55) ➞ 1\n",
        "\n",
        "```"
      ]
    },
    {
      "cell_type": "code",
      "metadata": {
        "id": "xFPlgdBxjMPW",
        "colab": {
          "base_uri": "https://localhost:8080/"
        },
        "outputId": "41fbcdca-cb50-4e72-9da9-9ea23fb35d51"
      },
      "source": [
        "def century_from_year(year):\n",
        "  return math.floor(year/100) + 1\n",
        "\n",
        "print(century_from_year(2005))\n",
        "print(century_from_year(1850))\n",
        "print(century_from_year(55))"
      ],
      "execution_count": null,
      "outputs": [
        {
          "output_type": "stream",
          "text": [
            "21\n",
            "19\n",
            "1\n"
          ],
          "name": "stdout"
        }
      ]
    },
    {
      "cell_type": "markdown",
      "metadata": {
        "id": "IDoa0pAijMPZ"
      },
      "source": [
        "# Grade school addition\n",
        "\n",
        "Write a function that, given two lists of integers, adds them as if they were two numbers. So `12` would be `[1,2]` and `2357` would be `[2,3,5,7]`\n",
        "\n",
        "Ex:\n",
        "\n",
        "```\n",
        "    [1, 1] + [1] ⇒ 11 + 1 = 12\n",
        "    [9, 9] + [2] ⇒ 99 + 2 = 101\n",
        "```"
      ]
    },
    {
      "cell_type": "code",
      "metadata": {
        "id": "dxESS7e1jMPa",
        "colab": {
          "base_uri": "https://localhost:8080/"
        },
        "outputId": "63479d13-c3fe-4956-d4e6-61caa8b7dfc1"
      },
      "source": [
        "def add_two(X,Y):\r\n",
        "  x_join = \"\"\r\n",
        "  y_join = \"\"\r\n",
        "  for num in X:\r\n",
        "    x_join += str(num)\r\n",
        "  for num in Y:\r\n",
        "    y_join += str(num)\r\n",
        "  return int(x_join) + int(y_join)\r\n",
        "print(add_two([1,1],[1]))\r\n",
        "print(add_two([9,9],[2]))"
      ],
      "execution_count": null,
      "outputs": [
        {
          "output_type": "stream",
          "text": [
            "12\n",
            "101\n"
          ],
          "name": "stdout"
        }
      ]
    },
    {
      "cell_type": "code",
      "metadata": {
        "id": "mqPCDFAd3dv8"
      },
      "source": [
        ""
      ],
      "execution_count": null,
      "outputs": []
    },
    {
      "cell_type": "markdown",
      "metadata": {
        "id": "YfHl7G3DFCOe"
      },
      "source": [
        "#Lucky Number 7\r\n",
        "\r\n",
        "Write a function that sums up every element in a list. If the element is 7, multiply the element by 2 and then add it. If the element in the list comes after a 7, multiply it by 3 and then add it.\r\n",
        "\r\n",
        "Ex.\r\n",
        "\r\n",
        "\r\n",
        "```\r\n",
        "x = [1,7,3,4]\r\n",
        "lucky7(x) --> 28\r\n",
        "```\r\n",
        "\r\n"
      ]
    },
    {
      "cell_type": "code",
      "metadata": {
        "id": "NV-1MUJvjMPh",
        "colab": {
          "base_uri": "https://localhost:8080/"
        },
        "outputId": "8c3f2e19-6f03-4909-bd54-f8dde6fa7b8d"
      },
      "source": [
        "x = [1,7,3,4]\r\n",
        "def lucky_seven(x):\r\n",
        "  a_sum = sum(x)\r\n",
        "  for i in range(len(x)):\r\n",
        "    if x[i-1] == 7:\r\n",
        "      a_sum += (7 + 2*x[i])\r\n",
        "  return a_sum\r\n",
        "\r\n",
        "print(lucky_seven(x))\r\n"
      ],
      "execution_count": null,
      "outputs": [
        {
          "output_type": "stream",
          "text": [
            "28\n"
          ],
          "name": "stdout"
        }
      ]
    },
    {
      "cell_type": "markdown",
      "metadata": {
        "id": "GbsUoaRJLNd7"
      },
      "source": [
        "# Factorial\r\n",
        "Write a function that computes the factorial of a given number. In math the factorial of a non negative integer number is the product of itself with all integers less than itself starting from 1. \r\n",
        "\r\n",
        "Ex. \r\n",
        "\r\n",
        "$$4! = 4*3*2*1$$\r\n",
        "$$4! = 24$$\r\n",
        "\r\n",
        "\r\n",
        "```\r\n",
        "factorial(4) --> 24\r\n",
        "```\r\n",
        "\r\n"
      ]
    },
    {
      "cell_type": "code",
      "metadata": {
        "id": "Nr8b02zXM8H9",
        "colab": {
          "base_uri": "https://localhost:8080/"
        },
        "outputId": "340998f4-f70c-4c60-d36c-76dce0da5e05"
      },
      "source": [
        "def factorial(x):\r\n",
        "  result = 1\r\n",
        "  for i in range(1,x+1):\r\n",
        "    result *= i\r\n",
        "  return result\r\n",
        "\r\n",
        "print(factorial(4))"
      ],
      "execution_count": null,
      "outputs": [
        {
          "output_type": "stream",
          "text": [
            "24\n"
          ],
          "name": "stdout"
        }
      ]
    },
    {
      "cell_type": "markdown",
      "metadata": {
        "id": "3QXhJ0TgOn02"
      },
      "source": [
        "#Combinatrics\r\n",
        "The binomial coefficient is an important function in combinatrics. The function is written as:\r\n",
        "$$ \\binom{n}{k} = \\frac{n!}{k!(n-k)!}  $$\r\n",
        "\r\n",
        "Define a function for the binomial coefficient in Python, making sure that n is greater than or equal to k. \r\n",
        "\r\n",
        "**Hint:** Use the factorial function that you defined in the previous exercise.\r\n",
        "\r\n",
        "\r\n",
        "```\r\n",
        "NChooseK(5,2) = 10\r\n",
        "```\r\n",
        "\r\n"
      ]
    },
    {
      "cell_type": "code",
      "metadata": {
        "id": "C2MQKiouRQ2q",
        "colab": {
          "base_uri": "https://localhost:8080/"
        },
        "outputId": "f514a09f-8c8e-4abd-9868-91f90e7fb20a"
      },
      "source": [
        "def NChooseK(n,k):\r\n",
        "  return factorial(n)/(factorial(k)*factorial(n-k))\r\n",
        "\r\n",
        "print(NChooseK(5,2))"
      ],
      "execution_count": null,
      "outputs": [
        {
          "output_type": "stream",
          "text": [
            "10.0\n"
          ],
          "name": "stdout"
        }
      ]
    },
    {
      "cell_type": "markdown",
      "metadata": {
        "id": "zPsFyGIUM8mp"
      },
      "source": [
        "#Docstrings\r\n",
        "\r\n",
        "Write the completed docstrings for each function covered in the \"Big O Notation Examples\" Section from lecture.\r\n",
        "\r\n",
        "Docstring format is as follows:\r\n",
        "\r\n",
        "```\r\n",
        "\"\"\"[Summary]\r\n",
        "\r\n",
        ":param [ParamName]: [ParamDescription], defaults to [DefaultParamVal]\r\n",
        ":type [ParamName]: [ParamType](, optional)\r\n",
        "...\r\n",
        ":raises [ErrorType]: [ErrorDescription]\r\n",
        "...\r\n",
        ":return: [ReturnDescription]\r\n",
        ":rtype: [ReturnType]\r\n",
        "\"\"\"\r\n",
        "```"
      ]
    },
    {
      "cell_type": "code",
      "metadata": {
        "id": "E_XNaR4-OOrA"
      },
      "source": [
        "#O(C) - Constant Time\r\n",
        "\r\n",
        "def Check_Odd(List, index):\r\n",
        "  '''\r\n",
        "  Checks to see if an entry in a List is odd.\r\n",
        "  \r\n",
        "  :param [List]: the list to be checked if an entry is odd\r\n",
        "  :type [List]: list\r\n",
        "\r\n",
        "  :param [index]: the index of the entry to be checked\r\n",
        "  :type [index]: integer\r\n",
        "\r\n",
        "  ...\r\n",
        "  :return: The entry of the list is odd or not\r\n",
        "  :rtype: boolean\r\n",
        "  '''\r\n",
        "  return List[index]%2==1\r\n",
        "\r\n",
        "numbers = [2,3,4,5,66,1]\r\n",
        "Check_Odd(numbers,2)"
      ],
      "execution_count": null,
      "outputs": []
    },
    {
      "cell_type": "code",
      "metadata": {
        "id": "ko0P2BqwOg88"
      },
      "source": [
        "#O(n) - Linear Time\r\n",
        "\r\n",
        "def Find_Max(X):\r\n",
        "  '''\r\n",
        "  Finds Maximum Number in a List.\r\n",
        "\r\n",
        "  :param [X]: a list of numbers \r\n",
        "  :type [X]: list\r\n",
        "\r\n",
        "  ...\r\n",
        "  :return: the maximum number of the list provided\r\n",
        "  :rtype: integer/float\r\n",
        "  '''\r\n",
        "  Max = 0\r\n",
        "  for num in X:\r\n",
        "    if num>Max:\r\n",
        "      Max = num\r\n",
        "  return Max\r\n",
        "l = [1,2,3,4,4,5]\r\n",
        "Find_Max(l)"
      ],
      "execution_count": null,
      "outputs": []
    },
    {
      "cell_type": "code",
      "metadata": {
        "id": "Toz2q1CGOhkZ"
      },
      "source": [
        "#O(n^2) - Quadratic Time\r\n",
        "\r\n",
        "def bubbleSort(X):\r\n",
        "  '''\r\n",
        "  Sorts all numbers in a list in ascending order.\r\n",
        "  \r\n",
        "  :param [X]: a list of numbers to be sorted in ascending order\r\n",
        "  :type [X]: list\r\n",
        "\r\n",
        "  ...\r\n",
        "  :return: the list in ascending order\r\n",
        "  :rtype: list\r\n",
        "  ''' \r\n",
        "  n = len(X) \r\n",
        "  for i in range(n):  \r\n",
        "    for j in range(0, n-i-1): \r\n",
        "      if X[j] > X[j+1] : \r\n",
        "        X[j], X[j+1] = X[j+1], X[j]\r\n",
        "  return X\r\n",
        "\r\n",
        "num = [1,3,2,83,51,50,42,49]\r\n",
        "bubbleSort(num)"
      ],
      "execution_count": null,
      "outputs": []
    },
    {
      "cell_type": "code",
      "metadata": {
        "id": "7axxtbauOh2K"
      },
      "source": [
        "#O(n^c) - Polynomial Time [c>1]\r\n",
        "#Triple Nested Loop\r\n",
        "def findxyz(n):\r\n",
        "  '''\r\n",
        "  Finds values for x, y and z such that they are all less \r\n",
        "  than n and 3x + 9y + 8z = 79 if they exist. \r\n",
        "\r\n",
        "  :param [n]: the upper limit of x,y,z\r\n",
        "  :type [n]: integer\r\n",
        "\r\n",
        "  ...\r\n",
        "  :return: the list of all set of solutions that meet x,y,z<n & 3x+9y+8z=79\r\n",
        "  :rtype: list\r\n",
        "  ''' \r\n",
        "  solutions = []\r\n",
        "  for x in range(n):\r\n",
        "    for y in range(n):\r\n",
        "      for z in range(n):\r\n",
        "        if 3*x+9*y+8*z == 79:\r\n",
        "          solutions.append([x,y,z])\r\n",
        "  return (f\"The value combinations of (x, y, z) are {tuple(solutions[0])}, {tuple(solutions[1])} & {tuple(solutions[2])}.\")\r\n",
        "\r\n",
        "findxyz(10)"
      ],
      "execution_count": null,
      "outputs": []
    },
    {
      "cell_type": "code",
      "metadata": {
        "id": "LqLSGgFEOP8D"
      },
      "source": [
        "#O(log n) - Logarithmic Time\r\n",
        "def BinarySearch(X, n):\r\n",
        "  '''\r\n",
        "  Finds the index of element n given a sorted list, X with unique values.\r\n",
        "\r\n",
        "  :param [X]: a sorted list with element n included\r\n",
        "  :type [X]: list\r\n",
        "\r\n",
        "  :param [n]: the element n\r\n",
        "  :type [n]: integer/float\r\n",
        "\r\n",
        "  ...\r\n",
        "  :return: the index of element n in list X\r\n",
        "  :rtype: integer\r\n",
        "  '''\r\n",
        "  \r\n",
        "  Length = int(len(X)/2)\r\n",
        "  while True:\r\n",
        "    if X[Length] == n:\r\n",
        "      index = Length\r\n",
        "      break\r\n",
        "    elif X[Length] > n:\r\n",
        "      Length = Length//2\r\n",
        "    elif X[Length] < n:\r\n",
        "      Length = Length + Length//2\r\n",
        "    \r\n",
        "  return index\r\n",
        "  \r\n",
        "\r\n",
        "Sort = [1,2,3,4,5,6,7,8,9]\r\n",
        "BinarySearch(Sort, 3)"
      ],
      "execution_count": null,
      "outputs": []
    },
    {
      "cell_type": "code",
      "metadata": {
        "id": "vmMUtn9qOQN_"
      },
      "source": [
        "#O(nlogn) - Linearithmic\r\n",
        "def mergeSort(X):\r\n",
        "  '''\r\n",
        "  Given an unsorted list (X) of numbers, the function will update X so that the numbers are sorted.\r\n",
        "  \r\n",
        "  :param [X]: a list of number to be numbers\r\n",
        "  :type [X]: list\r\n",
        "\r\n",
        "  ...\r\n",
        "  :return: a list of sorted numbers\r\n",
        "  :rtype: list\r\n",
        "  '''\r\n",
        "  if len(X) > 1:\r\n",
        "    mid = len(X)//2\r\n",
        " \r\n",
        "    L = X[:mid]\r\n",
        "    R = X[mid:]\r\n",
        "    mergeSort(L)\r\n",
        "    mergeSort(R)\r\n",
        "    i = j = k = 0\r\n",
        "    while i < len(L) and j < len(R):\r\n",
        "      if L[i] < R[j]:\r\n",
        "        X[k] = L[i]\r\n",
        "        i += 1\r\n",
        "      else:\r\n",
        "        X[k] = R[j]\r\n",
        "        j += 1\r\n",
        "      k += 1\r\n",
        " \r\n",
        "        \r\n",
        "    while i < len(L):\r\n",
        "      X[k] = L[i]\r\n",
        "      i += 1\r\n",
        "      k += 1\r\n",
        "    while j < len(R):\r\n",
        "      X[k] = R[j]\r\n",
        "      j += 1\r\n",
        "      k += 1\r\n",
        "  return(X)\r\n",
        "\r\n",
        "num = [1,5,2,7,3,8]\r\n",
        "mergeSort(num)"
      ],
      "execution_count": null,
      "outputs": []
    },
    {
      "cell_type": "code",
      "metadata": {
        "id": "-ffWPPdvOQec"
      },
      "source": [
        "#O(2^n) - Exponential\r\n",
        "def Fibonacci(n):\r\n",
        "  '''\r\n",
        "  The function will return the nth Fibonacci Number.\r\n",
        "\r\n",
        "  :param [n]: the order of Fibonacci Number desired\r\n",
        "  :type [n]: integer\r\n",
        "\r\n",
        "  ...\r\n",
        "  :return: the value of nth Fibonacci Number\r\n",
        "  :rtype: integer\r\n",
        "  '''\r\n",
        "  if n==1:\r\n",
        "    return 0\r\n",
        "  elif n==2:\r\n",
        "    return 1\r\n",
        "  else:\r\n",
        "    return Fibonacci(n-1) + Fibonacci(n-2)\r\n",
        "\r\n",
        "Fibonacci(5)"
      ],
      "execution_count": null,
      "outputs": []
    },
    {
      "cell_type": "markdown",
      "metadata": {
        "id": "aTX-q5PkOlhJ"
      },
      "source": [
        "#Big O Notation\r\n",
        "\r\n",
        "For the following functions, answer in the text cell below, the time complexity of the function using Big O notation.\r\n",
        "\r\n",
        "Ex.\r\n",
        "\r\n",
        "\r\n",
        "```\r\n",
        "def findmin(L):\r\n",
        " min = L[0]\r\n",
        " for number in L:\r\n",
        "  if number<min:\r\n",
        "    min = number \r\n",
        "```\r\n",
        "The function has O(n) time complexity.\r\n"
      ]
    },
    {
      "cell_type": "code",
      "metadata": {
        "id": "rmTnLFUISOZ1"
      },
      "source": [
        "def reverse_string(n):\r\n",
        "  solution = []\r\n",
        "  for x in range(n):\r\n",
        "    for y in range(n):\r\n",
        "      if 4x + 3y <= 20:\r\n",
        "        solution.append([x,y])\r\n",
        "  return solution "
      ],
      "execution_count": null,
      "outputs": []
    },
    {
      "cell_type": "markdown",
      "metadata": {
        "id": "rKNjTP4gSPEw"
      },
      "source": [
        "The function has O(n^c) time complexity.(c=2) "
      ]
    },
    {
      "cell_type": "code",
      "metadata": {
        "colab": {
          "base_uri": "https://localhost:8080/"
        },
        "id": "ZsMer__CSPe7",
        "outputId": "cfd11b03-9d0e-4cb3-a956-df26fc692a3e"
      },
      "source": [
        "def add_hundred(n):\r\n",
        "  return n + 100\r\n",
        "\r\n",
        "#n can only be an integer or float."
      ],
      "execution_count": null,
      "outputs": [
        {
          "output_type": "execute_result",
          "data": {
            "text/plain": [
              "False"
            ]
          },
          "metadata": {
            "tags": []
          },
          "execution_count": 47
        }
      ]
    },
    {
      "cell_type": "markdown",
      "metadata": {
        "id": "yjmP0wteSPyX"
      },
      "source": [
        "The function has O(c) time complexity."
      ]
    },
    {
      "cell_type": "markdown",
      "metadata": {
        "id": "IQMDneCtjMPl"
      },
      "source": [
        "# Bonus\n",
        "\n",
        "## Pascal's Triangle\n",
        "\n",
        "[Pascals Triangle](https://en.wikipedia.org/wiki/Pascal%27s_triangle) is a mathematical structure that's important in statistics and [combinatorics](https://en.wikipedia.org/wiki/Combinatorics). It starts with the number 1 and expands as a pyramid where a number is the sum of it's diagonal neighbors on the row above it.\n",
        "\n",
        "It looks like this (you can find more examples in the links):\n",
        "\n",
        "```\n",
        "                 1\n",
        "               1   1\n",
        "             1   2   1\n",
        "           1   3   3   1\n",
        "         1   4   6   4   1\n",
        "       1   5   10   10   5   1\n",
        "     1   6   15   20   15   6   1\n",
        "   1   7   21   35   35   21   7   1\n",
        "```\n",
        "\n",
        "Write a function that given an integer (the number of rows) prints out pascal's triangle up to the specified row. Example:\n",
        "\n",
        "```\n",
        "pascal_triangle(8)\n",
        "```\n",
        "out:\n",
        "```\n",
        "                 1\n",
        "\n",
        "               1   1\n",
        "\n",
        "             1   2   1\n",
        "\n",
        "           1   3   3   1\n",
        "\n",
        "         1   4   6   4   1\n",
        "\n",
        "       1   5   10   10   5   1\n",
        "\n",
        "     1   6   15   20   15   6   1\n",
        "\n",
        "   1   7   21   35   35   21   7   1\n",
        "\n",
        "```\n",
        "Another example\n",
        "\n",
        "```\n",
        "pascal_triangle(3)\n",
        "```\n",
        "out:\n",
        "```\n",
        "                 1\n",
        "\n",
        "               1   1\n",
        "\n",
        "             1   2   1\n",
        "\n",
        "```"
      ]
    },
    {
      "cell_type": "code",
      "metadata": {
        "id": "86H7yf_gjMPl"
      },
      "source": [
        ""
      ],
      "execution_count": null,
      "outputs": []
    },
    {
      "cell_type": "code",
      "metadata": {
        "id": "EQNBoK9kjMPp",
        "colab": {
          "base_uri": "https://localhost:8080/"
        },
        "outputId": "33c2948a-a0c3-4e43-e9d5-f7e45ca6510d"
      },
      "source": [
        "def pascal_triangle(n):\r\n",
        "  # create a list, store each line of a Pascal Triangle as a sublist\r\n",
        "  X = [] \r\n",
        "  for i in range(n):    \r\n",
        "    # first line [1], stored to X\r\n",
        "    if i == 0: \r\n",
        "      add_list = [1]\r\n",
        "      X.append(add_list)\r\n",
        "    # second line [1,1], stored to X\r\n",
        "    elif i == 1: \r\n",
        "      add_list = [1,1]\r\n",
        "      X.append(add_list)\r\n",
        "    # following lines: first create a ones list with i+1 entries, replacing non-leading&non-ending entries with corresponding values, then add to X.\r\n",
        "    else:\r\n",
        "      add_list = [1]*(i+1)\r\n",
        "      for j in range(1,i):\r\n",
        "        add_list[j] = X[i-1][j-1] + X[i-1][j]\r\n",
        "      X.append(add_list)\r\n",
        "  # print result in triangle format\r\n",
        "  # find the length of last line\r\n",
        "  max = len(' '.join(map(str,X[-1]))) \r\n",
        "  # print each line in centre format\r\n",
        "  for sublist in X:\r\n",
        "    print (' '.join(map(str,sublist)).center(max)+'\\n') \r\n",
        "\r\n",
        "\r\n",
        "pascal_triangle(3)"
      ],
      "execution_count": 1,
      "outputs": [
        {
          "output_type": "stream",
          "text": [
            "  1  \n",
            "\n",
            " 1 1 \n",
            "\n",
            "1 2 1\n",
            "\n"
          ],
          "name": "stdout"
        }
      ]
    },
    {
      "cell_type": "code",
      "metadata": {
        "id": "QQjze_8zK1I_",
        "colab": {
          "base_uri": "https://localhost:8080/"
        },
        "outputId": "08efb726-edff-49e1-e7be-bc38fca6e54c"
      },
      "source": [
        "pascal_triangle(8)"
      ],
      "execution_count": 2,
      "outputs": [
        {
          "output_type": "stream",
          "text": [
            "         1         \n",
            "\n",
            "        1 1        \n",
            "\n",
            "       1 2 1       \n",
            "\n",
            "      1 3 3 1      \n",
            "\n",
            "     1 4 6 4 1     \n",
            "\n",
            "   1 5 10 10 5 1   \n",
            "\n",
            "  1 6 15 20 15 6 1 \n",
            "\n",
            "1 7 21 35 35 21 7 1\n",
            "\n"
          ],
          "name": "stdout"
        }
      ]
    },
    {
      "cell_type": "code",
      "metadata": {
        "id": "z-1-FO82nYOz"
      },
      "source": [
        ""
      ],
      "execution_count": null,
      "outputs": []
    }
  ]
}