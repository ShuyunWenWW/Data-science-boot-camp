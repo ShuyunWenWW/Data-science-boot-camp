{
  "nbformat": 4,
  "nbformat_minor": 0,
  "metadata": {
    "colab": {
      "name": "6.3 3.5 PySpark Workshop.ipynb",
      "provenance": [],
      "collapsed_sections": []
    },
    "kernelspec": {
      "name": "python3",
      "display_name": "Python 3"
    }
  },
  "cells": [
    {
      "cell_type": "markdown",
      "metadata": {
        "id": "cx9y-B5U2QzB"
      },
      "source": [
        "#Warmup\n",
        "Import the numpy, pandas, matplotlib and pyspark packages in the cell below."
      ]
    },
    {
      "cell_type": "code",
      "metadata": {
        "id": "rcvi73XF2c0v"
      },
      "source": [
        "import numpy as np\n",
        "import pandas as pd\n",
        "import matplotlib.pyplot as plt\n",
        "%matplotlib inline"
      ],
      "execution_count": 2,
      "outputs": []
    },
    {
      "cell_type": "code",
      "metadata": {
        "id": "hfA1CtEeOZTv"
      },
      "source": [
        "!pip install pyspark\n",
        "from pyspark.sql import SparkSession"
      ],
      "execution_count": null,
      "outputs": []
    },
    {
      "cell_type": "markdown",
      "metadata": {
        "id": "gdrWPWfZ2dLe"
      },
      "source": [
        "#Exercise\n",
        "We are going to be using data on Student Performance during exams. Obtain the data from the following url and set up a Schema for it which you will load into pySpark. https://www.kaggle.com/spscientist/students-performance-in-exams. Set up the PySpark object and create a DataFrame on PySpark for the dataset."
      ]
    },
    {
      "cell_type": "code",
      "metadata": {
        "id": "cPjn8qLF3Nyd"
      },
      "source": [
        "my_spark = SparkSession.builder.getOrCreate()\n",
        "spark = SparkSession.builder\\\n",
        "        .master(\"local[*]\")\\\n",
        "        .appName('PySpark_Tutorial')\\\n",
        "        .getOrCreate()\n"
      ],
      "execution_count": 5,
      "outputs": []
    },
    {
      "cell_type": "code",
      "metadata": {
        "id": "l5Iz9a33ZW4j"
      },
      "source": [
        "!pip install kaggle"
      ],
      "execution_count": null,
      "outputs": []
    },
    {
      "cell_type": "code",
      "metadata": {
        "id": "k-2knIvZZ1y6"
      },
      "source": [
        "from google.colab import files\n",
        "files.upload()"
      ],
      "execution_count": null,
      "outputs": []
    },
    {
      "cell_type": "code",
      "metadata": {
        "id": "m3-IjHEjaBm3"
      },
      "source": [
        "!mkdir -p ~/.kaggle\n",
        "!cp kaggle.json ~/.kaggle/\n",
        "!chmod 600 ~/.kaggle/kaggle.json"
      ],
      "execution_count": 8,
      "outputs": []
    },
    {
      "cell_type": "code",
      "metadata": {
        "id": "CVOllydcaDyc"
      },
      "source": [
        "!kaggle datasets download -d spscientist/students-performance-in-exams"
      ],
      "execution_count": null,
      "outputs": []
    },
    {
      "cell_type": "code",
      "metadata": {
        "id": "kBk6s17Caayo"
      },
      "source": [
        "from zipfile import ZipFile\n",
        "file_name = \"students-performance-in-exams.zip\"\n",
        "\n",
        "with ZipFile(file_name,'r') as zip:\n",
        "  zip.extractall()\n",
        "  print('Done')"
      ],
      "execution_count": null,
      "outputs": []
    },
    {
      "cell_type": "code",
      "metadata": {
        "id": "-YJCBsmwVN8S"
      },
      "source": [
        "from pyspark.sql.types import *\n",
        "\n",
        "data_schema = [\n",
        "               StructField('gender', StringType(), True),\n",
        "               StructField('race/ethnicity', StringType(), True),\n",
        "               StructField('parental level of education', StringType(), True),\n",
        "               StructField('lunch', StringType(), True),\n",
        "               StructField('test preparation course', StringType(), True),\n",
        "               StructField('math score', IntegerType(), True),\n",
        "               StructField('reading score', IntegerType(), True),\n",
        "               StructField('writing score', IntegerType(), True),\n",
        "            ]\n",
        "\n",
        "final_struc = StructType(fields = data_schema)\n",
        "\n",
        "data = spark.read.csv('StudentsPerformance.csv',sep = ',', header = True, schema = final_struc)"
      ],
      "execution_count": 11,
      "outputs": []
    },
    {
      "cell_type": "code",
      "metadata": {
        "colab": {
          "base_uri": "https://localhost:8080/"
        },
        "id": "53qelLx5cF0T",
        "outputId": "f0dc7de8-df55-4c8b-cb01-7452864cd988"
      },
      "source": [
        "data.show(5)"
      ],
      "execution_count": 12,
      "outputs": [
        {
          "output_type": "stream",
          "text": [
            "+------+--------------+---------------------------+------------+-----------------------+----------+-------------+-------------+\n",
            "|gender|race/ethnicity|parental level of education|       lunch|test preparation course|math score|reading score|writing score|\n",
            "+------+--------------+---------------------------+------------+-----------------------+----------+-------------+-------------+\n",
            "|female|       group B|          bachelor's degree|    standard|                   none|        72|           72|           74|\n",
            "|female|       group C|               some college|    standard|              completed|        69|           90|           88|\n",
            "|female|       group B|            master's degree|    standard|                   none|        90|           95|           93|\n",
            "|  male|       group A|         associate's degree|free/reduced|                   none|        47|           57|           44|\n",
            "|  male|       group C|               some college|    standard|                   none|        76|           78|           75|\n",
            "+------+--------------+---------------------------+------------+-----------------------+----------+-------------+-------------+\n",
            "only showing top 5 rows\n",
            "\n"
          ],
          "name": "stdout"
        }
      ]
    },
    {
      "cell_type": "markdown",
      "metadata": {
        "id": "9ZR-K2Zf3ON1"
      },
      "source": [
        "Get an average score for each student using their math, reading and writing scores. "
      ]
    },
    {
      "cell_type": "code",
      "metadata": {
        "id": "9xnkspBG3nAx",
        "colab": {
          "base_uri": "https://localhost:8080/"
        },
        "outputId": "d351f757-e3df-4e37-86bc-da4f453b4d02"
      },
      "source": [
        "from pyspark.sql import functions as F\n",
        "\n",
        "marksColumns = [F.col('math score'), F.col('reading score'), F.col('writing score')]\n",
        "averageFunc = sum(x for x in marksColumns)/len(marksColumns)\n",
        "\n",
        "data.withColumn('Score Avg', averageFunc).show(5,truncate=False)"
      ],
      "execution_count": 31,
      "outputs": [
        {
          "output_type": "stream",
          "text": [
            "+------+--------------+---------------------------+------------+-----------------------+----------+-------------+-------------+------------------+\n",
            "|gender|race/ethnicity|parental level of education|lunch       |test preparation course|math score|reading score|writing score|Score Avg         |\n",
            "+------+--------------+---------------------------+------------+-----------------------+----------+-------------+-------------+------------------+\n",
            "|female|group B       |bachelor's degree          |standard    |none                   |72        |72           |74           |72.66666666666667 |\n",
            "|female|group C       |some college               |standard    |completed              |69        |90           |88           |82.33333333333333 |\n",
            "|female|group B       |master's degree            |standard    |none                   |90        |95           |93           |92.66666666666667 |\n",
            "|male  |group A       |associate's degree         |free/reduced|none                   |47        |57           |44           |49.333333333333336|\n",
            "|male  |group C       |some college               |standard    |none                   |76        |78           |75           |76.33333333333333 |\n",
            "+------+--------------+---------------------------+------------+-----------------------+----------+-------------+-------------+------------------+\n",
            "only showing top 5 rows\n",
            "\n"
          ],
          "name": "stdout"
        }
      ]
    },
    {
      "cell_type": "markdown",
      "metadata": {
        "id": "-KFQtvDr3luW"
      },
      "source": [
        "Get a Count of the Number of Boys and girls in the class"
      ]
    },
    {
      "cell_type": "code",
      "metadata": {
        "id": "XS32Rhv63sra",
        "colab": {
          "base_uri": "https://localhost:8080/"
        },
        "outputId": "daccc834-2c64-4cc3-c188-4556277f7d16"
      },
      "source": [
        "data.groupBy(\"gender\").count().show()"
      ],
      "execution_count": 27,
      "outputs": [
        {
          "output_type": "stream",
          "text": [
            "+------+-----+\n",
            "|gender|count|\n",
            "+------+-----+\n",
            "|female|  518|\n",
            "|  male|  482|\n",
            "+------+-----+\n",
            "\n"
          ],
          "name": "stdout"
        }
      ]
    },
    {
      "cell_type": "markdown",
      "metadata": {
        "id": "vPJs5QBX3tTU"
      },
      "source": [
        "Apply the rank function over the overall average score that you had calculated previously."
      ]
    },
    {
      "cell_type": "code",
      "metadata": {
        "id": "KawCu7bs36nV",
        "colab": {
          "base_uri": "https://localhost:8080/"
        },
        "outputId": "52ab13b7-aa98-43e7-d76f-c24c0dda1763"
      },
      "source": [
        "data.withColumn('Score Avg', averageFunc).orderBy(F.col('Score Avg').desc()).show(5,truncate=False)"
      ],
      "execution_count": 32,
      "outputs": [
        {
          "output_type": "stream",
          "text": [
            "+------+--------------+---------------------------+--------+-----------------------+----------+-------------+-------------+-----------------+\n",
            "|gender|race/ethnicity|parental level of education|lunch   |test preparation course|math score|reading score|writing score|Score Avg        |\n",
            "+------+--------------+---------------------------+--------+-----------------------+----------+-------------+-------------+-----------------+\n",
            "|male  |group E       |bachelor's degree          |standard|completed              |100       |100          |100          |100.0            |\n",
            "|female|group E       |bachelor's degree          |standard|none                   |100       |100          |100          |100.0            |\n",
            "|female|group E       |associate's degree         |standard|none                   |100       |100          |100          |100.0            |\n",
            "|female|group E       |bachelor's degree          |standard|completed              |99        |100          |100          |99.66666666666667|\n",
            "|female|group D       |some high school           |standard|completed              |97        |100          |100          |99.0             |\n",
            "+------+--------------+---------------------------+--------+-----------------------+----------+-------------+-------------+-----------------+\n",
            "only showing top 5 rows\n",
            "\n"
          ],
          "name": "stdout"
        }
      ]
    },
    {
      "cell_type": "markdown",
      "metadata": {
        "id": "JbHMV6dp37Ah"
      },
      "source": [
        "Do the same exercises above but using a Pandas DataFrame instead."
      ]
    },
    {
      "cell_type": "code",
      "metadata": {
        "id": "dMvxRdxD4UWX",
        "colab": {
          "base_uri": "https://localhost:8080/",
          "height": 202
        },
        "outputId": "4cdf237f-00c3-4691-bc42-c4ca64e7e36a"
      },
      "source": [
        "data_pd = pd.read_csv('StudentsPerformance.csv')\n",
        "data_pd.head()"
      ],
      "execution_count": 17,
      "outputs": [
        {
          "output_type": "execute_result",
          "data": {
            "text/html": [
              "<div>\n",
              "<style scoped>\n",
              "    .dataframe tbody tr th:only-of-type {\n",
              "        vertical-align: middle;\n",
              "    }\n",
              "\n",
              "    .dataframe tbody tr th {\n",
              "        vertical-align: top;\n",
              "    }\n",
              "\n",
              "    .dataframe thead th {\n",
              "        text-align: right;\n",
              "    }\n",
              "</style>\n",
              "<table border=\"1\" class=\"dataframe\">\n",
              "  <thead>\n",
              "    <tr style=\"text-align: right;\">\n",
              "      <th></th>\n",
              "      <th>gender</th>\n",
              "      <th>race/ethnicity</th>\n",
              "      <th>parental level of education</th>\n",
              "      <th>lunch</th>\n",
              "      <th>test preparation course</th>\n",
              "      <th>math score</th>\n",
              "      <th>reading score</th>\n",
              "      <th>writing score</th>\n",
              "    </tr>\n",
              "  </thead>\n",
              "  <tbody>\n",
              "    <tr>\n",
              "      <th>0</th>\n",
              "      <td>female</td>\n",
              "      <td>group B</td>\n",
              "      <td>bachelor's degree</td>\n",
              "      <td>standard</td>\n",
              "      <td>none</td>\n",
              "      <td>72</td>\n",
              "      <td>72</td>\n",
              "      <td>74</td>\n",
              "    </tr>\n",
              "    <tr>\n",
              "      <th>1</th>\n",
              "      <td>female</td>\n",
              "      <td>group C</td>\n",
              "      <td>some college</td>\n",
              "      <td>standard</td>\n",
              "      <td>completed</td>\n",
              "      <td>69</td>\n",
              "      <td>90</td>\n",
              "      <td>88</td>\n",
              "    </tr>\n",
              "    <tr>\n",
              "      <th>2</th>\n",
              "      <td>female</td>\n",
              "      <td>group B</td>\n",
              "      <td>master's degree</td>\n",
              "      <td>standard</td>\n",
              "      <td>none</td>\n",
              "      <td>90</td>\n",
              "      <td>95</td>\n",
              "      <td>93</td>\n",
              "    </tr>\n",
              "    <tr>\n",
              "      <th>3</th>\n",
              "      <td>male</td>\n",
              "      <td>group A</td>\n",
              "      <td>associate's degree</td>\n",
              "      <td>free/reduced</td>\n",
              "      <td>none</td>\n",
              "      <td>47</td>\n",
              "      <td>57</td>\n",
              "      <td>44</td>\n",
              "    </tr>\n",
              "    <tr>\n",
              "      <th>4</th>\n",
              "      <td>male</td>\n",
              "      <td>group C</td>\n",
              "      <td>some college</td>\n",
              "      <td>standard</td>\n",
              "      <td>none</td>\n",
              "      <td>76</td>\n",
              "      <td>78</td>\n",
              "      <td>75</td>\n",
              "    </tr>\n",
              "  </tbody>\n",
              "</table>\n",
              "</div>"
            ],
            "text/plain": [
              "   gender race/ethnicity  ... reading score writing score\n",
              "0  female        group B  ...            72            74\n",
              "1  female        group C  ...            90            88\n",
              "2  female        group B  ...            95            93\n",
              "3    male        group A  ...            57            44\n",
              "4    male        group C  ...            78            75\n",
              "\n",
              "[5 rows x 8 columns]"
            ]
          },
          "metadata": {
            "tags": []
          },
          "execution_count": 17
        }
      ]
    },
    {
      "cell_type": "code",
      "metadata": {
        "colab": {
          "base_uri": "https://localhost:8080/"
        },
        "id": "L4dyJhQUiDoo",
        "outputId": "ae688c05-1ca1-471b-c71e-09caaf4c85ac"
      },
      "source": [
        "data_pd.groupby('gender').count().loc[:,'lunch']"
      ],
      "execution_count": 24,
      "outputs": [
        {
          "output_type": "execute_result",
          "data": {
            "text/plain": [
              "gender\n",
              "female    518\n",
              "male      482\n",
              "Name: lunch, dtype: int64"
            ]
          },
          "metadata": {
            "tags": []
          },
          "execution_count": 24
        }
      ]
    },
    {
      "cell_type": "code",
      "metadata": {
        "colab": {
          "base_uri": "https://localhost:8080/",
          "height": 202
        },
        "id": "lD4IUMwigzwd",
        "outputId": "c1835508-f957-47db-cd57-9cedbe999cf8"
      },
      "source": [
        "columns = ['math score', 'reading score', 'writing score']\n",
        "data_pd['score avg'] = sum(data_pd[x] for x in columns)/len(columns)\n",
        "data_pd.head()"
      ],
      "execution_count": 19,
      "outputs": [
        {
          "output_type": "execute_result",
          "data": {
            "text/html": [
              "<div>\n",
              "<style scoped>\n",
              "    .dataframe tbody tr th:only-of-type {\n",
              "        vertical-align: middle;\n",
              "    }\n",
              "\n",
              "    .dataframe tbody tr th {\n",
              "        vertical-align: top;\n",
              "    }\n",
              "\n",
              "    .dataframe thead th {\n",
              "        text-align: right;\n",
              "    }\n",
              "</style>\n",
              "<table border=\"1\" class=\"dataframe\">\n",
              "  <thead>\n",
              "    <tr style=\"text-align: right;\">\n",
              "      <th></th>\n",
              "      <th>gender</th>\n",
              "      <th>race/ethnicity</th>\n",
              "      <th>parental level of education</th>\n",
              "      <th>lunch</th>\n",
              "      <th>test preparation course</th>\n",
              "      <th>math score</th>\n",
              "      <th>reading score</th>\n",
              "      <th>writing score</th>\n",
              "      <th>score avg</th>\n",
              "    </tr>\n",
              "  </thead>\n",
              "  <tbody>\n",
              "    <tr>\n",
              "      <th>0</th>\n",
              "      <td>female</td>\n",
              "      <td>group B</td>\n",
              "      <td>bachelor's degree</td>\n",
              "      <td>standard</td>\n",
              "      <td>none</td>\n",
              "      <td>72</td>\n",
              "      <td>72</td>\n",
              "      <td>74</td>\n",
              "      <td>72.666667</td>\n",
              "    </tr>\n",
              "    <tr>\n",
              "      <th>1</th>\n",
              "      <td>female</td>\n",
              "      <td>group C</td>\n",
              "      <td>some college</td>\n",
              "      <td>standard</td>\n",
              "      <td>completed</td>\n",
              "      <td>69</td>\n",
              "      <td>90</td>\n",
              "      <td>88</td>\n",
              "      <td>82.333333</td>\n",
              "    </tr>\n",
              "    <tr>\n",
              "      <th>2</th>\n",
              "      <td>female</td>\n",
              "      <td>group B</td>\n",
              "      <td>master's degree</td>\n",
              "      <td>standard</td>\n",
              "      <td>none</td>\n",
              "      <td>90</td>\n",
              "      <td>95</td>\n",
              "      <td>93</td>\n",
              "      <td>92.666667</td>\n",
              "    </tr>\n",
              "    <tr>\n",
              "      <th>3</th>\n",
              "      <td>male</td>\n",
              "      <td>group A</td>\n",
              "      <td>associate's degree</td>\n",
              "      <td>free/reduced</td>\n",
              "      <td>none</td>\n",
              "      <td>47</td>\n",
              "      <td>57</td>\n",
              "      <td>44</td>\n",
              "      <td>49.333333</td>\n",
              "    </tr>\n",
              "    <tr>\n",
              "      <th>4</th>\n",
              "      <td>male</td>\n",
              "      <td>group C</td>\n",
              "      <td>some college</td>\n",
              "      <td>standard</td>\n",
              "      <td>none</td>\n",
              "      <td>76</td>\n",
              "      <td>78</td>\n",
              "      <td>75</td>\n",
              "      <td>76.333333</td>\n",
              "    </tr>\n",
              "  </tbody>\n",
              "</table>\n",
              "</div>"
            ],
            "text/plain": [
              "   gender race/ethnicity  ... writing score  score avg\n",
              "0  female        group B  ...            74  72.666667\n",
              "1  female        group C  ...            88  82.333333\n",
              "2  female        group B  ...            93  92.666667\n",
              "3    male        group A  ...            44  49.333333\n",
              "4    male        group C  ...            75  76.333333\n",
              "\n",
              "[5 rows x 9 columns]"
            ]
          },
          "metadata": {
            "tags": []
          },
          "execution_count": 19
        }
      ]
    },
    {
      "cell_type": "code",
      "metadata": {
        "colab": {
          "base_uri": "https://localhost:8080/",
          "height": 202
        },
        "id": "90OU33grjqgn",
        "outputId": "8bd23f11-c648-48ae-e657-8800714bcb5b"
      },
      "source": [
        "data_pd = data_pd.sort_values(by=\"score avg\", ascending=False)\n",
        "data_pd.head()"
      ],
      "execution_count": 26,
      "outputs": [
        {
          "output_type": "execute_result",
          "data": {
            "text/html": [
              "<div>\n",
              "<style scoped>\n",
              "    .dataframe tbody tr th:only-of-type {\n",
              "        vertical-align: middle;\n",
              "    }\n",
              "\n",
              "    .dataframe tbody tr th {\n",
              "        vertical-align: top;\n",
              "    }\n",
              "\n",
              "    .dataframe thead th {\n",
              "        text-align: right;\n",
              "    }\n",
              "</style>\n",
              "<table border=\"1\" class=\"dataframe\">\n",
              "  <thead>\n",
              "    <tr style=\"text-align: right;\">\n",
              "      <th></th>\n",
              "      <th>gender</th>\n",
              "      <th>race/ethnicity</th>\n",
              "      <th>parental level of education</th>\n",
              "      <th>lunch</th>\n",
              "      <th>test preparation course</th>\n",
              "      <th>math score</th>\n",
              "      <th>reading score</th>\n",
              "      <th>writing score</th>\n",
              "      <th>score avg</th>\n",
              "    </tr>\n",
              "  </thead>\n",
              "  <tbody>\n",
              "    <tr>\n",
              "      <th>916</th>\n",
              "      <td>male</td>\n",
              "      <td>group E</td>\n",
              "      <td>bachelor's degree</td>\n",
              "      <td>standard</td>\n",
              "      <td>completed</td>\n",
              "      <td>100</td>\n",
              "      <td>100</td>\n",
              "      <td>100</td>\n",
              "      <td>100.000000</td>\n",
              "    </tr>\n",
              "    <tr>\n",
              "      <th>458</th>\n",
              "      <td>female</td>\n",
              "      <td>group E</td>\n",
              "      <td>bachelor's degree</td>\n",
              "      <td>standard</td>\n",
              "      <td>none</td>\n",
              "      <td>100</td>\n",
              "      <td>100</td>\n",
              "      <td>100</td>\n",
              "      <td>100.000000</td>\n",
              "    </tr>\n",
              "    <tr>\n",
              "      <th>962</th>\n",
              "      <td>female</td>\n",
              "      <td>group E</td>\n",
              "      <td>associate's degree</td>\n",
              "      <td>standard</td>\n",
              "      <td>none</td>\n",
              "      <td>100</td>\n",
              "      <td>100</td>\n",
              "      <td>100</td>\n",
              "      <td>100.000000</td>\n",
              "    </tr>\n",
              "    <tr>\n",
              "      <th>114</th>\n",
              "      <td>female</td>\n",
              "      <td>group E</td>\n",
              "      <td>bachelor's degree</td>\n",
              "      <td>standard</td>\n",
              "      <td>completed</td>\n",
              "      <td>99</td>\n",
              "      <td>100</td>\n",
              "      <td>100</td>\n",
              "      <td>99.666667</td>\n",
              "    </tr>\n",
              "    <tr>\n",
              "      <th>179</th>\n",
              "      <td>female</td>\n",
              "      <td>group D</td>\n",
              "      <td>some high school</td>\n",
              "      <td>standard</td>\n",
              "      <td>completed</td>\n",
              "      <td>97</td>\n",
              "      <td>100</td>\n",
              "      <td>100</td>\n",
              "      <td>99.000000</td>\n",
              "    </tr>\n",
              "  </tbody>\n",
              "</table>\n",
              "</div>"
            ],
            "text/plain": [
              "     gender race/ethnicity  ... writing score   score avg\n",
              "916    male        group E  ...           100  100.000000\n",
              "458  female        group E  ...           100  100.000000\n",
              "962  female        group E  ...           100  100.000000\n",
              "114  female        group E  ...           100   99.666667\n",
              "179  female        group D  ...           100   99.000000\n",
              "\n",
              "[5 rows x 9 columns]"
            ]
          },
          "metadata": {
            "tags": []
          },
          "execution_count": 26
        }
      ]
    },
    {
      "cell_type": "markdown",
      "metadata": {
        "id": "gnUEXpRS4WJA"
      },
      "source": [
        "#Python Practice Question\n",
        "Concordia University has the following grading policy:\n",
        "\n",
        "Every student receives a grade in the inclusive range from 0 to 100 . Any less than 40 is a failing grade.\n",
        "\n",
        "Sam is a professor at the university and likes to round each student's grade according to these rules: If the difference between the grade and the next multiple of 5 is less than 3, round up to the next multiple of 5. If the value of the grade is less than 38, no rounding occurs as the result will still be a failing grade. For example, grade = 84 will be rounded to 85 but grade = 29 will not be rounded because the rounding would result in a number that is less than 40.\n",
        "\n",
        "Given the initial value of grade for each of Sam's students, write code to automate the rounding process.\n",
        "Examples\n",
        "\n",
        "\n",
        "\n",
        "```\n",
        "round to  (85 - 84 is less than 3)\n",
        " do not round (result is less than 40)\n",
        " do not round (60 - 57 is 3 or higher)\n",
        "```\n",
        "\n",
        "\n",
        "\n",
        "\n",
        "```\n",
        "Sample Input\n",
        "0\n",
        "4\n",
        "73\n",
        "67\n",
        "38\n",
        "33\n",
        "\n",
        "Sample Output \n",
        "0\n",
        "4\n",
        "75\n",
        "67\n",
        "40\n",
        "33\n",
        "```\n",
        "\n",
        "\n",
        "\n"
      ]
    },
    {
      "cell_type": "code",
      "metadata": {
        "id": "ayem9cPP5vWP",
        "colab": {
          "base_uri": "https://localhost:8080/"
        },
        "outputId": "e3f05f93-cdc0-45da-f623-0fe99ec8583f"
      },
      "source": [
        "def rounding(scores):\n",
        "  rounded = []\n",
        "  for score in scores:\n",
        "    if (score < 38) or (score%5 <= 2) :\n",
        "      rounded.append(score)\n",
        "    else:\n",
        "      rounded.append((score//5+1)*5)\n",
        "  return rounded\n",
        "\n",
        "scores = [0,4,73,67,38,33]\n",
        "print(rounding(scores))\n",
        "\n"
      ],
      "execution_count": 4,
      "outputs": [
        {
          "output_type": "stream",
          "text": [
            "[0, 4, 75, 67, 40, 33]\n"
          ],
          "name": "stdout"
        }
      ]
    },
    {
      "cell_type": "code",
      "metadata": {
        "id": "622Y9lQbUcfz"
      },
      "source": [
        ""
      ],
      "execution_count": null,
      "outputs": []
    }
  ]
}