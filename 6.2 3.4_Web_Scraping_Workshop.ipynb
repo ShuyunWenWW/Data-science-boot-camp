{
  "nbformat": 4,
  "nbformat_minor": 0,
  "metadata": {
    "colab": {
      "name": "6.2 3.4 Web Scraping Workshop.ipynb",
      "provenance": [],
      "collapsed_sections": []
    },
    "kernelspec": {
      "name": "python3",
      "display_name": "Python 3"
    }
  },
  "cells": [
    {
      "cell_type": "markdown",
      "metadata": {
        "id": "8E2UjtZFKdpn"
      },
      "source": [
        "#Warm Up\n",
        "\n",
        "In the line below, import the regex, beautifulsoup, requests and pandas libraries."
      ]
    },
    {
      "cell_type": "code",
      "metadata": {
        "id": "88I9QU-CKDt0"
      },
      "source": [
        "import re\n",
        "from bs4 import BeautifulSoup as bs\n",
        "import requests\n",
        "import pandas as pd\n"
      ],
      "execution_count": 1,
      "outputs": []
    },
    {
      "cell_type": "markdown",
      "metadata": {
        "id": "DPd_Gj_3Ktq1"
      },
      "source": [
        "#Scraping Youtube Data\n",
        "\n",
        "Scrape all text, and urls from the Youtube homepage."
      ]
    },
    {
      "cell_type": "code",
      "metadata": {
        "id": "shlcpW0icDu-"
      },
      "source": [
        "r = requests.get(\"https://toscrape.com/\")\n",
        "webpage = bs(r.content)\n",
        "print(webpage.prettify())"
      ],
      "execution_count": null,
      "outputs": []
    },
    {
      "cell_type": "code",
      "metadata": {
        "colab": {
          "base_uri": "https://localhost:8080/"
        },
        "id": "sPW1HByxamFC",
        "outputId": "b0da19c7-0111-4dd5-c504-6de109b180e2"
      },
      "source": [
        "print(webpage.find(\"title\").get_text())\n",
        "print(webpage.find(\"h1\").get_text())\n",
        "for header in webpage.body.find_all(\"h2\"):\n",
        "  print(header.get_text)\n",
        "  next_elements = header.find_next_siblings()\n",
        "  elements = [x.get_text() for x in next_elements]\n",
        "  text = \"\\n\".join(elements)\n",
        "  print(text)\n"
      ],
      "execution_count": 42,
      "outputs": [
        {
          "output_type": "stream",
          "text": [
            "Scraping Sandbox\n",
            "Web Scraping Sandbox\n",
            "<bound method Tag.get_text of <h2>Books</h2>>\n",
            "A fictional bookstore that desperately wants to be scraped. It's a safe place for beginners learning web scraping and for developers validating their scraping technologies as well. Available at: books.toscrape.com\n",
            "\n",
            "\n",
            "\n",
            "\n",
            "\n",
            "Details\n",
            "Amount of items 1000\n",
            "Pagination ✔\n",
            "Items per page max 20\n",
            "Requires JavaScript ✘\n",
            "\n",
            "\n",
            "<bound method Tag.get_text of <h2>Quotes</h2>>\n",
            "A website that lists quotes from famous people. It has many endpoints showing the quotes in many different ways, each of them including new scraping challenges for you, as described below.\n",
            "\n",
            "\n",
            "\n",
            "\n",
            "\n",
            "Endpoints\n",
            "DefaultMicrodata and pagination\n",
            "Scroll infinite scrolling pagination\n",
            "JavaScript JavaScript generated content\n",
            "Delayed Same as JavaScript but with a delay (?delay=10000)\n",
            "Tableful a table based messed-up layout\n",
            "Login login with CSRF token (any user/passwd works)\n",
            "ViewState an AJAX based filter form with ViewStates\n",
            "Random a single random quote\n",
            "\n",
            "\n"
          ],
          "name": "stdout"
        }
      ]
    },
    {
      "cell_type": "code",
      "metadata": {
        "colab": {
          "base_uri": "https://localhost:8080/"
        },
        "id": "1votMDO8pW24",
        "outputId": "b910cff4-9e91-4176-fd8d-460d9f8f26c9"
      },
      "source": [
        "links = webpage.select(\"a\")\n",
        "actual_links = [link['href'] for link in links]\n",
        "print(actual_links)"
      ],
      "execution_count": 24,
      "outputs": [
        {
          "output_type": "stream",
          "text": [
            "['http://books.toscrape.com', 'http://books.toscrape.com', 'http://books.toscrape.com', 'http://quotes.toscrape.com/', 'http://quotes.toscrape.com', 'http://quotes.toscrape.com/', 'http://quotes.toscrape.com/scroll', 'http://quotes.toscrape.com/js', 'http://quotes.toscrape.com/js-delayed', 'http://quotes.toscrape.com/tableful', 'http://quotes.toscrape.com/login', 'http://quotes.toscrape.com/search.aspx', 'http://quotes.toscrape.com/random']\n"
          ],
          "name": "stdout"
        }
      ]
    },
    {
      "cell_type": "markdown",
      "metadata": {
        "id": "DEWXUCjdLnmn"
      },
      "source": [
        "#Interview Problems\n",
        "\n",
        "##Python\n",
        "\n",
        "Given an integer n, return the nth ugly number.\n",
        "\n",
        "Ugly number is a positive number whose prime factors only include 2, 3, and/or 5.\n",
        "\n",
        "\n",
        "\n",
        "```\n",
        "Input: n = 10\n",
        "Output: 12\n",
        "Explanation: [1, 2, 3, 4, 5, 6, 8, 9, 10, 12] is the sequence of the first 10 ugly numbers.\n",
        "```\n",
        "\n"
      ]
    },
    {
      "cell_type": "code",
      "metadata": {
        "id": "AYDZLd8DNKT7",
        "colab": {
          "base_uri": "https://localhost:8080/"
        },
        "outputId": "e7612df1-690b-48f6-d9b6-6cd1a2db9c0e"
      },
      "source": [
        "def ugly(n):\n",
        "  sequence = [1]\n",
        "  num = 2\n",
        "  while n != len(sequence):\n",
        "    test = num\n",
        "    while test%2==0:\n",
        "      test/=2\n",
        "    while test%3==0:\n",
        "      test/=3\n",
        "    while test%5==0:\n",
        "      test/=5\n",
        "    if test==1:\n",
        "      sequence.append(num)\n",
        "    num += 1\n",
        "  return sequence[-1]\n",
        "\n",
        "print(ugly(10))\n"
      ],
      "execution_count": 47,
      "outputs": [
        {
          "output_type": "stream",
          "text": [
            "12\n"
          ],
          "name": "stdout"
        }
      ]
    },
    {
      "cell_type": "markdown",
      "metadata": {
        "id": "XxEvrG5rNLQ6"
      },
      "source": [
        "Given an array of citations sorted in ascending order (each citation is a non-negative integer) of a researcher, write a function to compute the researcher's h-index.\n",
        "\n",
        "According to the definition of h-index on Wikipedia: \"A scientist has index h if h of his/her N papers have at least h citations each, and the other N − h papers have no more than h citations each.\"\n",
        "\n",
        "\n",
        "\n",
        "```\n",
        "Input: citations = [0,1,3,5,6]\n",
        "Output: 3 \n",
        "Explanation: [0,1,3,5,6] means the researcher has 5 papers in total and each of them had \n",
        "             received 0, 1, 3, 5, 6 citations respectively. \n",
        "             Since the researcher has 3 papers with at least 3 citations each and the remaining \n",
        "             two with no more than 3 citations each, her h-index is 3.\n",
        "```\n",
        "\n"
      ]
    },
    {
      "cell_type": "code",
      "metadata": {
        "id": "P7rUt0O9NxlD",
        "colab": {
          "base_uri": "https://localhost:8080/"
        },
        "outputId": "6239574c-cef0-4ce4-f4fa-effa1968ea15"
      },
      "source": [
        "def h_index(citations):\n",
        "  n = len(citations)\n",
        "  for i in range(n)[::-1]:\n",
        "    if citations[-i] >= i and citations[-i-1] <= i:\n",
        "      return i\n",
        "\n",
        "citations = [0,1,3,5,6]\n",
        "print(h_index(citations))\n"
      ],
      "execution_count": 57,
      "outputs": [
        {
          "output_type": "stream",
          "text": [
            "3\n"
          ],
          "name": "stdout"
        }
      ]
    },
    {
      "cell_type": "markdown",
      "metadata": {
        "id": "tzSOBdHUNyF9"
      },
      "source": [
        "##Probability\n",
        "\n",
        "You're about to get on a plane to Seattle. You want to know if you should bring an umbrella. You call 3 random friends of yours who live there and ask each independently if it's raining. Each of your friends has a 2/3 chance of telling you the truth and a 1/3 chance of messing with you by lying. All 3 friends tell you that \"Yes\" it is raining. What is the probability that it's actually raining in Seattle?\n",
        "\n"
      ]
    },
    {
      "cell_type": "code",
      "metadata": {
        "id": "-Rk0ul9kcW9h"
      },
      "source": [
        "'''\n",
        "r: actually raining\n",
        "nr: actually not raining\n",
        "tr: tell raining\n",
        "tnr: tell not raining\n",
        "P(r) = 0.3\n",
        "P(nr) = 0.7\n",
        "Since all of them told me it's raining, there are only two propabilities which is they all tell the truth or they all lie.\n",
        "P(alltruth)=P(truth)^3/(P(truth)^3+P(lie)^3)=(2/3)^3/((2/3)^3+(1/3)^3)=8/9\n",
        "P(alllie)=1/9\n",
        "\n",
        "P(r|tr) = P(r)*P(tr|r)/P(tr)\n",
        "    = P(r)*P(tr|r)/(P(tr|r)*P(r)+P(tr|nr)*P(nr))\n",
        "    =0.3*(8/9)/((8/9)*0.3+(1/9)*0.7)\n",
        "    =24/31=0.7742\n",
        "\n",
        "'''"
      ],
      "execution_count": null,
      "outputs": []
    },
    {
      "cell_type": "markdown",
      "metadata": {
        "id": "7ITEdc-ncaq3"
      },
      "source": [
        "There are 30 red marbles and 10 black marbles in Urn #1. You have 20 red and 20 Black marbles in Urn #2. Randomly you pull a marble from the random urn and find that it is red. What is the probability that it was pulled from Urn #1?"
      ]
    },
    {
      "cell_type": "code",
      "metadata": {
        "id": "xNwHUjHIc9hf"
      },
      "source": [
        "'''\n",
        "r: red marble\n",
        "r1: red marble from #1\n",
        "P(r1|r)=P(r1)*P(r|r1)/P(r)=((1/2)*(30/40))*1/((1/2)*(30/40)+(1/2)*(20/40))=0.6\n",
        "'''\n"
      ],
      "execution_count": null,
      "outputs": []
    }
  ]
}