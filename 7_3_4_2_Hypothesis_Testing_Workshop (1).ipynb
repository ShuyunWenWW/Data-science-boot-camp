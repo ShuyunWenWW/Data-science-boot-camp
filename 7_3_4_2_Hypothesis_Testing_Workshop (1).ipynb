{
  "nbformat": 4,
  "nbformat_minor": 0,
  "metadata": {
    "colab": {
      "name": "7_3_4_2_Hypothesis_Testing_Workshop.ipynb",
      "provenance": [],
      "collapsed_sections": []
    },
    "kernelspec": {
      "name": "python3",
      "display_name": "Python 3"
    }
  },
  "cells": [
    {
      "cell_type": "markdown",
      "metadata": {
        "id": "uS-DfbxzYX1u"
      },
      "source": [
        "Name: Shuyun Wen\n",
        "\n",
        "Email: wendywen027@gmail.com"
      ]
    },
    {
      "cell_type": "markdown",
      "metadata": {
        "id": "V3TanIs6iMer"
      },
      "source": [
        "#NOTE:\n",
        "Please insert a text cell at the top of the Notebook with your Full Name in Bold and your email that you use for both Journey and Github\n",
        "\n",
        "Also, add to the title of the notebook, an underscore as well as your name.\n",
        "\n",
        "Ex. 'Workshop_Hypothesis_Testing_Usama'"
      ]
    },
    {
      "cell_type": "markdown",
      "metadata": {
        "id": "2-N42G_JibMF"
      },
      "source": [
        "#Warmup\n",
        "\n",
        "Import pandas, numpy, scipy.stats, statsmodels.api & statsmodels.formula.api.ols "
      ]
    },
    {
      "cell_type": "code",
      "metadata": {
        "id": "ANsh4eHsixl5"
      },
      "source": [
        "import pandas as pd\n",
        "import numpy as np\n",
        "import scipy.stats as sc\n",
        "import statsmodels.api as sm\n",
        "from statsmodels.formula.api import ols"
      ],
      "execution_count": 2,
      "outputs": []
    },
    {
      "cell_type": "markdown",
      "metadata": {
        "id": "C2D6-jVyiyev"
      },
      "source": [
        "#Hypothesis Testing\n",
        "\n",
        "##Iris Data\n",
        "It is believed that the average sepal length of the setosa species is 4 cm. Use the Iris data set as well as the appropriate test to determine if we have evidence to reject this claim."
      ]
    },
    {
      "cell_type": "code",
      "metadata": {
        "id": "QAk9bMm_jiA3",
        "colab": {
          "base_uri": "https://localhost:8080/",
          "height": 202
        },
        "outputId": "e11d2753-1767-4af6-e2be-6004dfe97446"
      },
      "source": [
        "url = \"https://gist.githubusercontent.com/curran/a08a1080b88344b0c8a7/raw/0e7a9b0a5d22642a06d3d5b9bcbad9890c8ee534/iris.csv\"\n",
        "df = pd.read_csv(url)\n",
        "\n",
        "df.head()"
      ],
      "execution_count": 3,
      "outputs": [
        {
          "output_type": "execute_result",
          "data": {
            "text/html": [
              "<div>\n",
              "<style scoped>\n",
              "    .dataframe tbody tr th:only-of-type {\n",
              "        vertical-align: middle;\n",
              "    }\n",
              "\n",
              "    .dataframe tbody tr th {\n",
              "        vertical-align: top;\n",
              "    }\n",
              "\n",
              "    .dataframe thead th {\n",
              "        text-align: right;\n",
              "    }\n",
              "</style>\n",
              "<table border=\"1\" class=\"dataframe\">\n",
              "  <thead>\n",
              "    <tr style=\"text-align: right;\">\n",
              "      <th></th>\n",
              "      <th>sepal_length</th>\n",
              "      <th>sepal_width</th>\n",
              "      <th>petal_length</th>\n",
              "      <th>petal_width</th>\n",
              "      <th>species</th>\n",
              "    </tr>\n",
              "  </thead>\n",
              "  <tbody>\n",
              "    <tr>\n",
              "      <th>0</th>\n",
              "      <td>5.1</td>\n",
              "      <td>3.5</td>\n",
              "      <td>1.4</td>\n",
              "      <td>0.2</td>\n",
              "      <td>setosa</td>\n",
              "    </tr>\n",
              "    <tr>\n",
              "      <th>1</th>\n",
              "      <td>4.9</td>\n",
              "      <td>3.0</td>\n",
              "      <td>1.4</td>\n",
              "      <td>0.2</td>\n",
              "      <td>setosa</td>\n",
              "    </tr>\n",
              "    <tr>\n",
              "      <th>2</th>\n",
              "      <td>4.7</td>\n",
              "      <td>3.2</td>\n",
              "      <td>1.3</td>\n",
              "      <td>0.2</td>\n",
              "      <td>setosa</td>\n",
              "    </tr>\n",
              "    <tr>\n",
              "      <th>3</th>\n",
              "      <td>4.6</td>\n",
              "      <td>3.1</td>\n",
              "      <td>1.5</td>\n",
              "      <td>0.2</td>\n",
              "      <td>setosa</td>\n",
              "    </tr>\n",
              "    <tr>\n",
              "      <th>4</th>\n",
              "      <td>5.0</td>\n",
              "      <td>3.6</td>\n",
              "      <td>1.4</td>\n",
              "      <td>0.2</td>\n",
              "      <td>setosa</td>\n",
              "    </tr>\n",
              "  </tbody>\n",
              "</table>\n",
              "</div>"
            ],
            "text/plain": [
              "   sepal_length  sepal_width  petal_length  petal_width species\n",
              "0           5.1          3.5           1.4          0.2  setosa\n",
              "1           4.9          3.0           1.4          0.2  setosa\n",
              "2           4.7          3.2           1.3          0.2  setosa\n",
              "3           4.6          3.1           1.5          0.2  setosa\n",
              "4           5.0          3.6           1.4          0.2  setosa"
            ]
          },
          "metadata": {
            "tags": []
          },
          "execution_count": 3
        }
      ]
    },
    {
      "cell_type": "markdown",
      "metadata": {
        "id": "7glZcd6Wlu1s"
      },
      "source": [
        "Use an appropriate test to see if there is a significant difference in the average sepal width between the versicolor and virginica species."
      ]
    },
    {
      "cell_type": "code",
      "metadata": {
        "id": "GIgqHrqvjm_u",
        "colab": {
          "base_uri": "https://localhost:8080/"
        },
        "outputId": "ff07b5a4-1d8e-437c-d60b-35fdece9f8cb"
      },
      "source": [
        "grp1 = np.array(df[df[\"species\"]=='versicolor']['sepal_width'])\n",
        "grp2 = np.array(df[df[\"species\"]=='virginica']['sepal_width'])\n",
        "\n",
        "sc.ttest_ind(grp1, grp2, equal_var=False)"
      ],
      "execution_count": 4,
      "outputs": [
        {
          "output_type": "execute_result",
          "data": {
            "text/plain": [
              "Ttest_indResult(statistic=-3.2057607502218186, pvalue=0.001819483482104968)"
            ]
          },
          "metadata": {
            "tags": []
          },
          "execution_count": 4
        }
      ]
    },
    {
      "cell_type": "markdown",
      "metadata": {
        "id": "w6RFkwbLa90a"
      },
      "source": [
        "Null Hypothesis: there is no significant difference in sepal width between the versicolor and virginica species.\n",
        "\n",
        "Test result: with pvalue = 0.002, we can reject the null hypothesis 99% level of confidence.Thus, there is a significant difference in the average sepal width between the versicolor and virginica species.\n"
      ]
    },
    {
      "cell_type": "markdown",
      "metadata": {
        "id": "hCU8PbeXmWCW"
      },
      "source": [
        "##Robberies in Toronto\n",
        "\n",
        "Download the Robberies in Toronto Data Set from this link (https://data.torontopolice.on.ca/datasets/robbery-2014-to-2019?geometry=-79.896%2C43.627%2C-78.853%2C43.800) and read it into a DataFrame. Use an appropriate test to see if whether the Robbery occured on a weekend affected whether the Robbery would occur in the Day or in the Night. \n",
        "\n",
        "**HINT:** You may assume that day hours are from 6 am to 6 pm. Before carrying out your analysis, you must modify your data frame such that each row has a column saying whether the crime occured over the weekend or not as well as a column saying whether the crime occured during the day or night."
      ]
    },
    {
      "cell_type": "code",
      "metadata": {
        "id": "WplYRvzx_mPK"
      },
      "source": [
        "from google.colab import files\n",
        "uploaded = files.upload()"
      ],
      "execution_count": null,
      "outputs": []
    },
    {
      "cell_type": "code",
      "metadata": {
        "id": "tNOlqJH6_mJi"
      },
      "source": [
        "import io\n",
        "df = pd.read_csv(io.BytesIO(uploaded['Robbery.csv']))"
      ],
      "execution_count": 26,
      "outputs": []
    },
    {
      "cell_type": "code",
      "metadata": {
        "colab": {
          "base_uri": "https://localhost:8080/",
          "height": 202
        },
        "id": "p1tmTQOr_mD1",
        "outputId": "83c07f41-71c5-441c-b82b-a69ada4d3404"
      },
      "source": [
        "features = ['event_unique_id','occurrencedayofweek','occurrencehour']\n",
        "df1 = df.loc[:,features]\n",
        "df1.head()"
      ],
      "execution_count": 33,
      "outputs": [
        {
          "output_type": "execute_result",
          "data": {
            "text/html": [
              "<div>\n",
              "<style scoped>\n",
              "    .dataframe tbody tr th:only-of-type {\n",
              "        vertical-align: middle;\n",
              "    }\n",
              "\n",
              "    .dataframe tbody tr th {\n",
              "        vertical-align: top;\n",
              "    }\n",
              "\n",
              "    .dataframe thead th {\n",
              "        text-align: right;\n",
              "    }\n",
              "</style>\n",
              "<table border=\"1\" class=\"dataframe\">\n",
              "  <thead>\n",
              "    <tr style=\"text-align: right;\">\n",
              "      <th></th>\n",
              "      <th>event_unique_id</th>\n",
              "      <th>occurrencedayofweek</th>\n",
              "      <th>occurrencehour</th>\n",
              "    </tr>\n",
              "  </thead>\n",
              "  <tbody>\n",
              "    <tr>\n",
              "      <th>0</th>\n",
              "      <td>GO-2018779070</td>\n",
              "      <td>Monday</td>\n",
              "      <td>19</td>\n",
              "    </tr>\n",
              "    <tr>\n",
              "      <th>1</th>\n",
              "      <td>GO-2018812524</td>\n",
              "      <td>Saturday</td>\n",
              "      <td>23</td>\n",
              "    </tr>\n",
              "    <tr>\n",
              "      <th>2</th>\n",
              "      <td>GO-2018824134</td>\n",
              "      <td>Friday</td>\n",
              "      <td>17</td>\n",
              "    </tr>\n",
              "    <tr>\n",
              "      <th>3</th>\n",
              "      <td>GO-2018871791</td>\n",
              "      <td>Monday</td>\n",
              "      <td>20</td>\n",
              "    </tr>\n",
              "    <tr>\n",
              "      <th>4</th>\n",
              "      <td>GO-2018871791</td>\n",
              "      <td>Monday</td>\n",
              "      <td>20</td>\n",
              "    </tr>\n",
              "  </tbody>\n",
              "</table>\n",
              "</div>"
            ],
            "text/plain": [
              "  event_unique_id occurrencedayofweek  occurrencehour\n",
              "0   GO-2018779070              Monday              19\n",
              "1   GO-2018812524            Saturday              23\n",
              "2   GO-2018824134              Friday              17\n",
              "3   GO-2018871791              Monday              20\n",
              "4   GO-2018871791              Monday              20"
            ]
          },
          "metadata": {
            "tags": []
          },
          "execution_count": 33
        }
      ]
    },
    {
      "cell_type": "code",
      "metadata": {
        "colab": {
          "base_uri": "https://localhost:8080/",
          "height": 202
        },
        "id": "uWCe57Vy_l-x",
        "outputId": "dc8cd9bc-13cc-4250-dd98-2e5d29e07afb"
      },
      "source": [
        "df1.loc[df1['occurrencedayofweek']=='Saturday','occurrencedayofweek'] = 'weekend'\n",
        "df1.loc[df1['occurrencedayofweek']=='Sunday','occurrencedayofweek'] = 'weekend'\n",
        "df1.loc[df1['occurrencedayofweek']!='weekend','occurrencedayofweek'] = 'week'\n",
        "df1.loc[(df1['occurrencehour']<6)|(df1['occurrencehour']>18),'occurrencehour'] = 'night'\n",
        "df1.loc[df1['occurrencehour']!='night','occurrencehour'] = 'day'\n",
        "\n",
        "df1.columns=['id','week','day']\n",
        "\n",
        "df1.head()"
      ],
      "execution_count": 34,
      "outputs": [
        {
          "output_type": "execute_result",
          "data": {
            "text/html": [
              "<div>\n",
              "<style scoped>\n",
              "    .dataframe tbody tr th:only-of-type {\n",
              "        vertical-align: middle;\n",
              "    }\n",
              "\n",
              "    .dataframe tbody tr th {\n",
              "        vertical-align: top;\n",
              "    }\n",
              "\n",
              "    .dataframe thead th {\n",
              "        text-align: right;\n",
              "    }\n",
              "</style>\n",
              "<table border=\"1\" class=\"dataframe\">\n",
              "  <thead>\n",
              "    <tr style=\"text-align: right;\">\n",
              "      <th></th>\n",
              "      <th>id</th>\n",
              "      <th>week</th>\n",
              "      <th>day</th>\n",
              "    </tr>\n",
              "  </thead>\n",
              "  <tbody>\n",
              "    <tr>\n",
              "      <th>0</th>\n",
              "      <td>GO-2018779070</td>\n",
              "      <td>week</td>\n",
              "      <td>night</td>\n",
              "    </tr>\n",
              "    <tr>\n",
              "      <th>1</th>\n",
              "      <td>GO-2018812524</td>\n",
              "      <td>weekend</td>\n",
              "      <td>night</td>\n",
              "    </tr>\n",
              "    <tr>\n",
              "      <th>2</th>\n",
              "      <td>GO-2018824134</td>\n",
              "      <td>week</td>\n",
              "      <td>day</td>\n",
              "    </tr>\n",
              "    <tr>\n",
              "      <th>3</th>\n",
              "      <td>GO-2018871791</td>\n",
              "      <td>week</td>\n",
              "      <td>night</td>\n",
              "    </tr>\n",
              "    <tr>\n",
              "      <th>4</th>\n",
              "      <td>GO-2018871791</td>\n",
              "      <td>week</td>\n",
              "      <td>night</td>\n",
              "    </tr>\n",
              "  </tbody>\n",
              "</table>\n",
              "</div>"
            ],
            "text/plain": [
              "              id     week    day\n",
              "0  GO-2018779070     week  night\n",
              "1  GO-2018812524  weekend  night\n",
              "2  GO-2018824134     week    day\n",
              "3  GO-2018871791     week  night\n",
              "4  GO-2018871791     week  night"
            ]
          },
          "metadata": {
            "tags": []
          },
          "execution_count": 34
        }
      ]
    },
    {
      "cell_type": "code",
      "metadata": {
        "colab": {
          "base_uri": "https://localhost:8080/",
          "height": 141
        },
        "id": "6e2wUNK7_l0R",
        "outputId": "e3d81c1e-6db6-4dd8-b10e-a19899fba7c5"
      },
      "source": [
        "week_day = pd.crosstab(index=df1['week'],columns = df1['day'])\n",
        "week_day"
      ],
      "execution_count": 35,
      "outputs": [
        {
          "output_type": "execute_result",
          "data": {
            "text/html": [
              "<div>\n",
              "<style scoped>\n",
              "    .dataframe tbody tr th:only-of-type {\n",
              "        vertical-align: middle;\n",
              "    }\n",
              "\n",
              "    .dataframe tbody tr th {\n",
              "        vertical-align: top;\n",
              "    }\n",
              "\n",
              "    .dataframe thead th {\n",
              "        text-align: right;\n",
              "    }\n",
              "</style>\n",
              "<table border=\"1\" class=\"dataframe\">\n",
              "  <thead>\n",
              "    <tr style=\"text-align: right;\">\n",
              "      <th>day</th>\n",
              "      <th>day</th>\n",
              "      <th>night</th>\n",
              "    </tr>\n",
              "    <tr>\n",
              "      <th>week</th>\n",
              "      <th></th>\n",
              "      <th></th>\n",
              "    </tr>\n",
              "  </thead>\n",
              "  <tbody>\n",
              "    <tr>\n",
              "      <th>week</th>\n",
              "      <td>8510</td>\n",
              "      <td>9296</td>\n",
              "    </tr>\n",
              "    <tr>\n",
              "      <th>weekend</th>\n",
              "      <td>2509</td>\n",
              "      <td>4647</td>\n",
              "    </tr>\n",
              "  </tbody>\n",
              "</table>\n",
              "</div>"
            ],
            "text/plain": [
              "day       day  night\n",
              "week                \n",
              "week     8510   9296\n",
              "weekend  2509   4647"
            ]
          },
          "metadata": {
            "tags": []
          },
          "execution_count": 35
        }
      ]
    },
    {
      "cell_type": "code",
      "metadata": {
        "colab": {
          "base_uri": "https://localhost:8080/"
        },
        "id": "62leWjo7K_9n",
        "outputId": "ef2d7157-90b6-4bc4-dcc5-10f9d12a92fb"
      },
      "source": [
        "(chi2, p, dof, _) = sc.chi2_contingency([week_day.iloc[0].values, week_day.iloc[1].values])\n",
        "print(f\"The Chi Square value is {chi2} with a p value of {p}\")"
      ],
      "execution_count": 38,
      "outputs": [
        {
          "output_type": "stream",
          "text": [
            "The Chi Square value is 335.04328643964504 with a p value of 7.662626380973767e-75\n"
          ],
          "name": "stdout"
        }
      ]
    },
    {
      "cell_type": "markdown",
      "metadata": {
        "id": "1QH8oAqjLQ36"
      },
      "source": [
        "According to chi square test result(p value of 7.662626380973767e-75), we could reject null hypothesis with 99% confidence level that the robbery occured on a weekend or not affects the occurance hour(Day/Night) of robbery.  "
      ]
    },
    {
      "cell_type": "markdown",
      "metadata": {
        "id": "qa49MLrop1rz"
      },
      "source": [
        "##Stroke Prediction\n",
        "\n",
        "Load the following dataset off Kaggle: https://www.kaggle.com/fedesoriano/stroke-prediction-dataset\n",
        "\n",
        "We are interested in creating a model that can predict someone's BMI based on certain features. Use the appropriate test to determine if Hypertension and whether someone has been married or not affects their BMI."
      ]
    },
    {
      "cell_type": "markdown",
      "metadata": {
        "id": "OZP2vnyzcUfG"
      },
      "source": [
        "### data load"
      ]
    },
    {
      "cell_type": "code",
      "metadata": {
        "id": "jwy1e54-cToD"
      },
      "source": [
        "!pip install kaggle"
      ],
      "execution_count": null,
      "outputs": []
    },
    {
      "cell_type": "code",
      "metadata": {
        "id": "ghBJrybhoS7E"
      },
      "source": [
        "from google.colab import files\n",
        "files.upload()"
      ],
      "execution_count": null,
      "outputs": []
    },
    {
      "cell_type": "code",
      "metadata": {
        "id": "B6y9ZDmBcdyI"
      },
      "source": [
        "!mkdir -p ~/.kaggle\n",
        "!cp kaggle.json ~/.kaggle/\n",
        "!chmod 600 ~/.kaggle/kaggle.json"
      ],
      "execution_count": null,
      "outputs": []
    },
    {
      "cell_type": "code",
      "metadata": {
        "id": "JBziGgb4cj_I"
      },
      "source": [
        "!kaggle datasets download -d fedesoriano/stroke-prediction-dataset"
      ],
      "execution_count": null,
      "outputs": []
    },
    {
      "cell_type": "code",
      "metadata": {
        "id": "mznPMZIpc0zt",
        "colab": {
          "base_uri": "https://localhost:8080/"
        },
        "outputId": "cf9e09a5-0093-4b7b-df4f-8b8a80639fc3"
      },
      "source": [
        "from zipfile import ZipFile\n",
        "file_name = \"stroke-prediction-dataset.zip\"\n",
        "\n",
        "with ZipFile(file_name,'r') as zip:\n",
        "  zip.extractall()\n",
        "  print('Done')"
      ],
      "execution_count": 9,
      "outputs": [
        {
          "output_type": "stream",
          "text": [
            "Done\n"
          ],
          "name": "stdout"
        }
      ]
    },
    {
      "cell_type": "code",
      "metadata": {
        "id": "2W25qyIMdSb4"
      },
      "source": [
        "df = pd.read_csv('healthcare-dataset-stroke-data.csv')"
      ],
      "execution_count": 10,
      "outputs": []
    },
    {
      "cell_type": "markdown",
      "metadata": {
        "id": "jG3Yz8qccyjk"
      },
      "source": [
        "### test"
      ]
    },
    {
      "cell_type": "code",
      "metadata": {
        "id": "n7wMraxpcsPH"
      },
      "source": [
        "df = df.loc[:,['gender','ever_married','bmi']]\n",
        "df = df.dropna()\n",
        "df.head()"
      ],
      "execution_count": null,
      "outputs": []
    },
    {
      "cell_type": "code",
      "metadata": {
        "colab": {
          "base_uri": "https://localhost:8080/",
          "height": 335
        },
        "id": "GnYYFfpteLbR",
        "outputId": "8f880aa6-5394-4c9c-aa31-20a20265c135"
      },
      "source": [
        "model = ols('bmi ~ C(gender) + C(ever_married) + C(ever_married):C(gender)', data = df).fit()\n",
        "sm.stats.anova_lm(model, typ=2)"
      ],
      "execution_count": 12,
      "outputs": [
        {
          "output_type": "stream",
          "text": [
            "/usr/local/lib/python3.7/dist-packages/statsmodels/base/model.py:1752: ValueWarning: covariance of constraints does not have full rank. The number of constraints is 2, but rank is 1\n",
            "  'rank is %d' % (J, J_), ValueWarning)\n",
            "/usr/local/lib/python3.7/dist-packages/statsmodels/base/model.py:1752: ValueWarning: covariance of constraints does not have full rank. The number of constraints is 1, but rank is 0\n",
            "  'rank is %d' % (J, J_), ValueWarning)\n",
            "/usr/local/lib/python3.7/dist-packages/statsmodels/base/model.py:1768: RuntimeWarning: invalid value encountered in true_divide\n",
            "  F /= J\n",
            "/usr/local/lib/python3.7/dist-packages/statsmodels/base/model.py:1752: ValueWarning: covariance of constraints does not have full rank. The number of constraints is 2, but rank is 1\n",
            "  'rank is %d' % (J, J_), ValueWarning)\n"
          ],
          "name": "stderr"
        },
        {
          "output_type": "execute_result",
          "data": {
            "text/html": [
              "<div>\n",
              "<style scoped>\n",
              "    .dataframe tbody tr th:only-of-type {\n",
              "        vertical-align: middle;\n",
              "    }\n",
              "\n",
              "    .dataframe tbody tr th {\n",
              "        vertical-align: top;\n",
              "    }\n",
              "\n",
              "    .dataframe thead th {\n",
              "        text-align: right;\n",
              "    }\n",
              "</style>\n",
              "<table border=\"1\" class=\"dataframe\">\n",
              "  <thead>\n",
              "    <tr style=\"text-align: right;\">\n",
              "      <th></th>\n",
              "      <th>sum_sq</th>\n",
              "      <th>df</th>\n",
              "      <th>F</th>\n",
              "      <th>PR(&gt;F)</th>\n",
              "    </tr>\n",
              "  </thead>\n",
              "  <tbody>\n",
              "    <tr>\n",
              "      <th>C(gender)</th>\n",
              "      <td>36.694796</td>\n",
              "      <td>2.0</td>\n",
              "      <td>0.337195</td>\n",
              "      <td>0.561479</td>\n",
              "    </tr>\n",
              "    <tr>\n",
              "      <th>C(ever_married)</th>\n",
              "      <td>NaN</td>\n",
              "      <td>1.0</td>\n",
              "      <td>NaN</td>\n",
              "      <td>NaN</td>\n",
              "    </tr>\n",
              "    <tr>\n",
              "      <th>C(ever_married):C(gender)</th>\n",
              "      <td>1015.740052</td>\n",
              "      <td>2.0</td>\n",
              "      <td>9.333829</td>\n",
              "      <td>0.002262</td>\n",
              "    </tr>\n",
              "    <tr>\n",
              "      <th>Residual</th>\n",
              "      <td>266835.242671</td>\n",
              "      <td>4904.0</td>\n",
              "      <td>NaN</td>\n",
              "      <td>NaN</td>\n",
              "    </tr>\n",
              "  </tbody>\n",
              "</table>\n",
              "</div>"
            ],
            "text/plain": [
              "                                  sum_sq      df         F    PR(>F)\n",
              "C(gender)                      36.694796     2.0  0.337195  0.561479\n",
              "C(ever_married)                      NaN     1.0       NaN       NaN\n",
              "C(ever_married):C(gender)    1015.740052     2.0  9.333829  0.002262\n",
              "Residual                   266835.242671  4904.0       NaN       NaN"
            ]
          },
          "metadata": {
            "tags": []
          },
          "execution_count": 12
        }
      ]
    },
    {
      "cell_type": "markdown",
      "metadata": {
        "id": "yCdEXNpGlh-2"
      },
      "source": [
        "According to the result table, marrige status and combination of two categories pass Anova test, which means we can reject null hypothesis with 99% level of confidence (pvalue < 0.01), and they have statistic significance on bmi value. However, 'gender' itself doesn't pass Anova test with pvalue=0.56, thus we can not reject null hypothesis, which is \"gender has no significant influence on bmi value\"."
      ]
    }
  ]
}