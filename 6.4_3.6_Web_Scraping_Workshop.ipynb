{
  "nbformat": 4,
  "nbformat_minor": 0,
  "metadata": {
    "colab": {
      "name": "6.4 3.6 Web Scraping Workshop.ipynb",
      "provenance": [],
      "collapsed_sections": []
    },
    "kernelspec": {
      "name": "python3",
      "display_name": "Python 3"
    }
  },
  "cells": [
    {
      "cell_type": "markdown",
      "metadata": {
        "id": "SCSC8OkgRHxo"
      },
      "source": [
        "#Warm Up\n",
        "\n",
        "Import the Beautiful Soup, Requests, and Pandas Packages in the cell below."
      ]
    },
    {
      "cell_type": "code",
      "metadata": {
        "id": "Dgu-qqamRDZg"
      },
      "source": [
        "import requests\n",
        "from bs4 import BeautifulSoup as bs\n",
        "import pandas as pd"
      ],
      "execution_count": 1,
      "outputs": []
    },
    {
      "cell_type": "markdown",
      "metadata": {
        "id": "q2KLDCLQSBx7"
      },
      "source": [
        "#Scraping off Wikipedia\n",
        "\n",
        "During lecture, we went over how to scrap some data off of the Brooklyn Nine Nine Wikipedia Page. For this exercise, scrap the text data as well as the side bar data as a dictionary from the Wikipedia Page of your choosing. Convert your dictionary into a dataframe and print it."
      ]
    },
    {
      "cell_type": "code",
      "metadata": {
        "id": "AMJZkdJIsJRQ"
      },
      "source": [
        "# load website\n",
        "r = requests.get(\"https://en.wikipedia.org/wiki/Making_It_(TV_series)\")\n",
        "soup = bs(r.content)\n",
        "content = soup.prettify()"
      ],
      "execution_count": null,
      "outputs": []
    },
    {
      "cell_type": "code",
      "metadata": {
        "colab": {
          "base_uri": "https://localhost:8080/"
        },
        "id": "Kv3m91HWsV3d",
        "outputId": "53cd5da4-3922-4bca-b3d1-937f9e4dc19d"
      },
      "source": [
        "# scrap text\n",
        "info_box = soup.find(\"div\", class_='mw-parser-output')\n",
        "info_rows = info_box.find_all(\"p\")\n",
        "for info_row in info_rows:\n",
        "  print(info_row.get_text())\n",
        "\n"
      ],
      "execution_count": 33,
      "outputs": [
        {
          "output_type": "stream",
          "text": [
            "Making It (originally titled The Handmade Project) is an American reality competition television series, co-hosted by Amy Poehler and Nick Offerman. The series premiered on July 31, 2018, on NBC.[1][2]\n",
            "\n",
            "The show features craftspeople skilled in different media competing to be named the \"Master Maker\" and win $100,000. Each week, competitors make two handmade projects—a \"Faster Craft\" and a \"Master Craft.\" The winner of each challenge earns a patch. For the Faster Craft, makers have three hours to create an item. For the Master Craft, they have a longer time to create a more elaborate themed collection. At the end of every episode, one person is sent home based on their performance in the Master Craft.[3]\n",
            "\n",
            "On August 21, 2018, NBC renewed the series for a second season, which premiered on December 2, 2019, for the holidays and aired over two weeks.[4]\n",
            "\n",
            "On January 11, 2020, NBC renewed the series for a third season which will premiere on June 3, 2021.[5][6]\n",
            "\n",
            "On March 28, 2017, it was announced that NBC had straight-to-series ordered the unscripted \"Crafts Competition Reality Series\" with the working title, The Handmade Project from Amy Poehler's Paper Kite Productions. It was also announced that it would be hosted by Poehler and Nick Offerman.[2]\n",
            "\n",
            "In October, 2017, NBC announced that the show would be called Making It and named the show's two judges, Dayna Isom Johnson and Simon Doonan.[9] NBC later announced that the show would premiere on July 31, 2018.[10]\n",
            "\n",
            "\n",
            "\n",
            "In October 2020, Australia’s Network 10 announced at their annual upfronts they would be making their own version of the show for Australian audiences in 2021. The show is co-produced by NBCUniversal International Studios’ Matchbox Pictures and Eureka Productions.[29] The series will be hosted by Susie Youssef and Harley Breen,[30] and judged by Production Designer and Art Director, Deborah Riley, and Paper Engineer Benja Harney.[31]\n",
            "\n"
          ],
          "name": "stdout"
        }
      ]
    },
    {
      "cell_type": "code",
      "metadata": {
        "id": "G0c0_MK1RHQ9",
        "colab": {
          "base_uri": "https://localhost:8080/",
          "height": 202
        },
        "outputId": "36c850cc-e14f-4e5d-d16d-206e6da8d12d"
      },
      "source": [
        "# scrap side bar\n",
        "info_box = soup.find(class_='infobox vevent')\n",
        "info_rows = info_box.find_all('tr')\n",
        "\n",
        "def get_content_value(row_data):\n",
        "    if row.find(\"li\") is not None:\n",
        "      return [li.get_text(\" \", strip = True).replace(\"\\xa0\", ' ') for li in row.find_all('li')]\n",
        "    else:\n",
        "      return row.find('td').get_text(\" \", strip = True).replace(\"\\xa0\", ' ')\n",
        "\n",
        "show_info={}\n",
        "\n",
        "for index, row in enumerate(info_rows):\n",
        "  if index==0:\n",
        "    show_info['title']=row.find('th').get_text()\n",
        "  elif index == 1:\n",
        "    continue\n",
        "  else:\n",
        "    x = row.find('th')\n",
        "    y = row.find('td')\n",
        "    if x is not None and y is not None:\n",
        "      key = row.find('th').get_text()\n",
        "      value = get_content_value(row.find('td'))\n",
        "      show_info[key] = value\n",
        "\n",
        "df = pd.DataFrame(show_info.values(),index=show_info.keys(),columns=[\"Show Info\"])\n",
        "df.head()"
      ],
      "execution_count": 16,
      "outputs": [
        {
          "output_type": "execute_result",
          "data": {
            "text/html": [
              "<div>\n",
              "<style scoped>\n",
              "    .dataframe tbody tr th:only-of-type {\n",
              "        vertical-align: middle;\n",
              "    }\n",
              "\n",
              "    .dataframe tbody tr th {\n",
              "        vertical-align: top;\n",
              "    }\n",
              "\n",
              "    .dataframe thead th {\n",
              "        text-align: right;\n",
              "    }\n",
              "</style>\n",
              "<table border=\"1\" class=\"dataframe\">\n",
              "  <thead>\n",
              "    <tr style=\"text-align: right;\">\n",
              "      <th></th>\n",
              "      <th>Show Info</th>\n",
              "    </tr>\n",
              "  </thead>\n",
              "  <tbody>\n",
              "    <tr>\n",
              "      <th>title</th>\n",
              "      <td>Making It</td>\n",
              "    </tr>\n",
              "    <tr>\n",
              "      <th>Genre</th>\n",
              "      <td>Reality competition</td>\n",
              "    </tr>\n",
              "    <tr>\n",
              "      <th>Presented by</th>\n",
              "      <td>[Amy Poehler, Nick Offerman]</td>\n",
              "    </tr>\n",
              "    <tr>\n",
              "      <th>Judges</th>\n",
              "      <td>[Dayna Isom Johnson, Simon Doonan]</td>\n",
              "    </tr>\n",
              "    <tr>\n",
              "      <th>Country of origin</th>\n",
              "      <td>United States</td>\n",
              "    </tr>\n",
              "  </tbody>\n",
              "</table>\n",
              "</div>"
            ],
            "text/plain": [
              "                                            Show Info\n",
              "title                                       Making It\n",
              "Genre                             Reality competition\n",
              "Presented by             [Amy Poehler, Nick Offerman]\n",
              "Judges             [Dayna Isom Johnson, Simon Doonan]\n",
              "Country of origin                       United States"
            ]
          },
          "metadata": {
            "tags": []
          },
          "execution_count": 16
        }
      ]
    },
    {
      "cell_type": "markdown",
      "metadata": {
        "id": "TlMiyWL8SmM8"
      },
      "source": [
        "#Technical Question - Python\n",
        "\n",
        "You are given a string s. You can convert s to a palindrome by adding characters in front of it.\n",
        "\n",
        "Return the shortest palindrome you can find by performing this transformation.\n",
        "\n",
        "\n",
        "\n",
        "```\n",
        "Input: s = \"abcd\"\n",
        "Output: \"dcbabcd\"\n",
        "```\n",
        "\n",
        "\n",
        "\n"
      ]
    },
    {
      "cell_type": "code",
      "metadata": {
        "id": "CFSLUaWiUzKn",
        "colab": {
          "base_uri": "https://localhost:8080/"
        },
        "outputId": "b3098c27-1a0d-42a3-acb0-6a9ceaa7164e"
      },
      "source": [
        "def palindrome(word):\n",
        "  return word[-1:0:-1]+word\n",
        "\n",
        "s = 'abcd'\n",
        "print(palindrome(s))"
      ],
      "execution_count": 4,
      "outputs": [
        {
          "output_type": "stream",
          "text": [
            "dcbabcd\n"
          ],
          "name": "stdout"
        }
      ]
    },
    {
      "cell_type": "markdown",
      "metadata": {
        "id": "awns-vnoU1JC"
      },
      "source": [
        "Given a binary array, find the maximum number of consecutive 1s in this array.\n",
        "\n",
        "\n",
        "\n",
        "```\n",
        "Input: [1,1,0,1,1,1]\n",
        "Output: 3\n",
        "Explanation: The first two digits or the last three digits are consecutive 1s.\n",
        "             The maximum number of consecutive 1s is 3.\n",
        "```\n",
        "\n"
      ]
    },
    {
      "cell_type": "code",
      "metadata": {
        "id": "NtPOwDy-XAnq",
        "colab": {
          "base_uri": "https://localhost:8080/"
        },
        "outputId": "72688822-fc06-4e24-e555-b562a6f757b3"
      },
      "source": [
        "def max_consecutive(input):\n",
        "  max_num = 0\n",
        "  count = 0\n",
        "  i = 0\n",
        "  while i < len(input):\n",
        "    if input[i] == 1:\n",
        "      count += 1\n",
        "      i += 1\n",
        "    else:\n",
        "      max_num = max(max_num,count)\n",
        "      count = 0\n",
        "      i += 1\n",
        "  max_num = max(max_num,count)  \n",
        "  return max_num\n",
        "\n",
        "list1 = [1,1,0,1,1,1]\n",
        "\n",
        "print(max_consecutive(list1))\n"
      ],
      "execution_count": 7,
      "outputs": [
        {
          "output_type": "stream",
          "text": [
            "3\n"
          ],
          "name": "stdout"
        }
      ]
    },
    {
      "cell_type": "markdown",
      "metadata": {
        "id": "ErvMRNrXXBpy"
      },
      "source": [
        "##Technical Question - Probability\n",
        "\n",
        "What is the probability that a seven-game series goes to 7 games?"
      ]
    },
    {
      "cell_type": "markdown",
      "metadata": {
        "id": "1VT12SBwYXK-"
      },
      "source": [
        "-Answer Here-\n",
        "\n",
        "A seven-game series goes to 7 games means 3:3 for first 6 games.\n",
        "\n",
        "event space = (6!/3!)/3! = 20\n",
        "\n",
        "smaple space = 2^6 = 64\n",
        "\n",
        "Thus, P = 20/64 = 5/16"
      ]
    },
    {
      "cell_type": "markdown",
      "metadata": {
        "id": "qPhOCsG1YZ3y"
      },
      "source": [
        "Say you roll three dice, one by one. What is the probability that you obtain 3 numbers in a strictly increasing order?"
      ]
    },
    {
      "cell_type": "markdown",
      "metadata": {
        "id": "3uVTnIyyZBmz"
      },
      "source": [
        "-Answer Here-\n",
        "\n",
        "Strictly increasing order means 3 numbers in an increasing order and no two dice have same number.\n",
        "\n",
        "sample_space = 6^3 = 216\n",
        "\n",
        "event_space(distinct) = sample_space - event_space(3 dice same) - event_space(2 dice same) = 216 - 6 - 3 * 6 * 5 = 120\n",
        "\n",
        "event_space(strictly increasing) = P(strictly increasing|distinct) * event_space(distinct) = ((1/3) * (1/2)) * 120 = 20\n",
        "\n",
        "Thus P = event_space(strictly increasing)/sample_space = 20/216 = 5/54\n"
      ]
    },
    {
      "cell_type": "code",
      "metadata": {
        "id": "4xUmUdGNYVj-"
      },
      "source": [
        ""
      ],
      "execution_count": null,
      "outputs": []
    }
  ]
}