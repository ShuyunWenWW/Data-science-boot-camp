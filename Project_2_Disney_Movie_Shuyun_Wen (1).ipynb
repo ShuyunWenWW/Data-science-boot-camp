{
  "nbformat": 4,
  "nbformat_minor": 0,
  "metadata": {
    "colab": {
      "name": "Project_2_Disney_Movie_Shuyun_Wen.ipynb",
      "provenance": [],
      "collapsed_sections": [
        "_PAytAsRurV4",
        "wKCoH_dLhxB1",
        "nvBY5PgP-Ths",
        "_AEYUwjpkDPI",
        "uADmGjYFhgiV",
        "iJimLbiJhgM9"
      ]
    },
    "kernelspec": {
      "name": "python3",
      "display_name": "Python 3"
    },
    "language_info": {
      "name": "python"
    }
  },
  "cells": [
    {
      "cell_type": "markdown",
      "metadata": {
        "id": "J6kiMQOohgth"
      },
      "source": [
        "# Disney Movie Wikipedia Web Scraping"
      ]
    },
    {
      "cell_type": "markdown",
      "metadata": {
        "id": "_PAytAsRurV4"
      },
      "source": [
        "## import packages"
      ]
    },
    {
      "cell_type": "code",
      "metadata": {
        "id": "6OWDm-nouux8"
      },
      "source": [
        "#Importing libraries for web scraping\n",
        "from bs4 import BeautifulSoup as bs\n",
        "import requests\n",
        "import pandas as pd\n",
        "import re\n",
        "from datetime import datetime\n",
        "import matplotlib.pyplot as plt\n",
        "import statsmodels.api as sm\n",
        "from sklearn.linear_model import LinearRegression\n",
        "import numpy as np\n",
        "import seaborn as sns\n",
        "sns.set()\n",
        "\n",
        "%matplotlib inline\n"
      ],
      "execution_count": 182,
      "outputs": []
    },
    {
      "cell_type": "markdown",
      "metadata": {
        "id": "wKCoH_dLhxB1"
      },
      "source": [
        "## Web Scraping & Data Cleaning"
      ]
    },
    {
      "cell_type": "code",
      "metadata": {
        "id": "z9HA9HCL_D56"
      },
      "source": [
        "# Get list of all disney movies\n",
        "r = requests.get(\"https://en.wikipedia.org/wiki/List_of_Walt_Disney_Pictures_films\")\n",
        "soup = bs(r.content)\n",
        "movies = soup.select(\".wikitable.sortable i a\")"
      ],
      "execution_count": 32,
      "outputs": []
    },
    {
      "cell_type": "code",
      "metadata": {
        "id": "Q3r1FOjW_g7B"
      },
      "source": [
        "#Getting Rid of Tags\n",
        "def clean_tags(soup):\n",
        "  for tag in soup.find_all([\"sup\", 'span']):\n",
        "    tag.decompose()"
      ],
      "execution_count": 33,
      "outputs": []
    },
    {
      "cell_type": "code",
      "metadata": {
        "id": "RKSATy4V4tAq"
      },
      "source": [
        "# Scraping a single page function\n",
        "def get_info_box(url):\n",
        "\n",
        "  def get_content_value(row_data):\n",
        "    if row_data.find(\"li\"):\n",
        "      return [li.get_text(\" \", strip=True).replace(\"\\xa0\", ' ') for li in row_data.find_all('li')]\n",
        "    elif row_data.find(\"br\"):\n",
        "      return [text for text in row_data.stripped_strings]\n",
        "    else:\n",
        "      return row_data.get_text(\" \", strip=True).replace(\"\\xa0\", ' ')\n",
        "\n",
        "  r = requests.get(url)\n",
        "  soup = bs(r.content)\n",
        "  info_box = soup.find(class_='infobox vevent')\n",
        "  info_rows = info_box.find_all('tr')\n",
        "  \n",
        "  clean_tags(soup)\n",
        "\n",
        "  movie_info={}\n",
        "\n",
        "  for index, row in enumerate(info_rows):\n",
        "    if index==0:\n",
        "      movie_info['title']=row.find('th').get_text(\" \",strip=True)\n",
        "    elif index == 1:\n",
        "      continue\n",
        "    x = row.find('th')\n",
        "    y = row.find('td')\n",
        "    if x is not None and y is not None:\n",
        "      key = row.find('th').get_text(\" \",strip=True)\n",
        "      value = get_content_value(row.find('td'))\n",
        "      movie_info[key] = value\n",
        "\n",
        "  return movie_info\n"
      ],
      "execution_count": 34,
      "outputs": []
    },
    {
      "cell_type": "code",
      "metadata": {
        "id": "nbgEFl0ZkkSN"
      },
      "source": [
        "# Get list of  all movies info\n",
        "\n",
        "base_path = \"https://en.wikipedia.org\"\n",
        "\n",
        "movie_info_list = []\n",
        "\n",
        "for index, movie in enumerate(movies):\n",
        "  try:\n",
        "    relative_path = movie['href']\n",
        "    full_path = base_path + relative_path\n",
        "    title = movie['title']\n",
        "    movie_info_list.append(get_info_box(full_path))\n",
        "  except Exception as e:\n",
        "    print(movie.get_text())\n",
        "    print(e)\n"
      ],
      "execution_count": null,
      "outputs": []
    },
    {
      "cell_type": "code",
      "metadata": {
        "colab": {
          "base_uri": "https://localhost:8080/"
        },
        "id": "64camdgbFIjV",
        "outputId": "2776e5dd-a7ca-4495-c75b-63b51eeed0cb"
      },
      "source": [
        "len(movie_info_list)"
      ],
      "execution_count": 36,
      "outputs": [
        {
          "output_type": "execute_result",
          "data": {
            "text/plain": [
              "449"
            ]
          },
          "metadata": {
            "tags": []
          },
          "execution_count": 36
        }
      ]
    },
    {
      "cell_type": "markdown",
      "metadata": {
        "id": "nvBY5PgP-Ths"
      },
      "source": [
        "## Data Cleaning"
      ]
    },
    {
      "cell_type": "code",
      "metadata": {
        "id": "Mk84nqjwGn6b"
      },
      "source": [
        "# Running time transfermation\n",
        "def minute_transfer(running_time):\n",
        "  if running_time == 'N/A':\n",
        "    return None\n",
        "  if isinstance(running_time,list):\n",
        "    value = re.split(\"–| \", running_time[0])[0]\n",
        "    return int(value)\n",
        "  else:\n",
        "    value = re.split(\"–| \", running_time)[0]\n",
        "    return int(value)\n"
      ],
      "execution_count": 85,
      "outputs": []
    },
    {
      "cell_type": "code",
      "metadata": {
        "id": "6qy6RMXJVxPa"
      },
      "source": [
        "# add minute key\n",
        "for movie in movie_info_list:\n",
        "  movie['Minute'] = minute_transfer(movie.get('Running time', 'N/A'))"
      ],
      "execution_count": 86,
      "outputs": []
    },
    {
      "cell_type": "code",
      "metadata": {
        "id": "IvjeB42sbeVM"
      },
      "source": [
        "# Money conversion (refer to Keith Galli's work)\n",
        "\n",
        "amounts = r\"thousand|million|billion\"\n",
        "number = r\"\\d+(,\\d{3})*\\.*\\d*\"\n",
        "\n",
        "word_re = rf\"\\${number}(-|\\sto\\s|–)?({number})?\\s({amounts})\"\n",
        "value_re = rf\"\\${number}\"\n",
        "\n",
        "def word_to_value(word):\n",
        "    value_dict = {\"thousand\": 1000, \"million\": 1000000, \"billion\": 1000000000}\n",
        "    return value_dict[word]\n",
        "\n",
        "def parse_word_syntax(string):\n",
        "    value_string = re.search(number, string).group()\n",
        "    value = float(value_string.replace(\",\", \"\"))\n",
        "    word = re.search(amounts, string, flags=re.I).group().lower()\n",
        "    word_value = word_to_value(word)\n",
        "    return value*word_value\n",
        "\n",
        "def parse_value_syntax(string):\n",
        "    value_string = re.search(number, string).group()\n",
        "    value = float(value_string.replace(\",\", \"\"))\n",
        "    return value\n",
        "\n",
        "def money_conversion(money):\n",
        "    if money == \"N/A\":\n",
        "        return None\n",
        "\n",
        "    if isinstance(money, list):\n",
        "        money = money[0]\n",
        "        \n",
        "    word_syntax = re.search(word_re, money, flags=re.I)\n",
        "    value_syntax = re.search(value_re, money)\n",
        "\n",
        "    if word_syntax:\n",
        "        return parse_word_syntax(word_syntax.group())\n",
        "\n",
        "    elif value_syntax:\n",
        "        return parse_value_syntax(value_syntax.group())\n",
        "\n",
        "    else:\n",
        "        return None"
      ],
      "execution_count": 91,
      "outputs": []
    },
    {
      "cell_type": "code",
      "metadata": {
        "id": "ujTaJU6mWXht"
      },
      "source": [
        "for movie in movie_info_list:\n",
        "    movie['Budget value'] = money_conversion(movie.get('Budget', \"N/A\"))\n",
        "    movie['Box office value'] = money_conversion(movie.get('Box office', \"N/A\"))"
      ],
      "execution_count": 92,
      "outputs": []
    },
    {
      "cell_type": "code",
      "metadata": {
        "id": "fpVmkB83WXcR"
      },
      "source": [
        "dates = [movie.get('Release date', 'N/A') for movie in movie_info_list]\n",
        "def clean_date(date):\n",
        "  return date.split('(')[0].strip()\n",
        "\n",
        "def date_conversion(date):\n",
        "  if isinstance(date, list):\n",
        "    date = date[0]\n",
        "  if date == 'N/A':\n",
        "    return None\n",
        "  date_str = clean_date(date)\n",
        "  fmts = [\"%B %d, %Y\", \"%d %B %Y\", \"%Y\"]\n",
        "  for fmt in fmts:\n",
        "    try:\n",
        "      return datetime.strptime(date_str, fmt)\n",
        "    except:\n",
        "      pass\n",
        "      return None\n"
      ],
      "execution_count": 102,
      "outputs": []
    },
    {
      "cell_type": "code",
      "metadata": {
        "id": "xHNZ3GXTWXS0"
      },
      "source": [
        "for movie in movie_info_list:\n",
        "    movie['Release date (datetime)'] = date_conversion(movie.get('Release date', 'N/A'))"
      ],
      "execution_count": 103,
      "outputs": []
    },
    {
      "cell_type": "markdown",
      "metadata": {
        "id": "_AEYUwjpkDPI"
      },
      "source": [
        "## Convert to Pandas DataFrame"
      ]
    },
    {
      "cell_type": "code",
      "metadata": {
        "colab": {
          "base_uri": "https://localhost:8080/",
          "height": 707
        },
        "id": "-wIujDF4AGHH",
        "outputId": "f25e275c-f9e0-4fe6-bebe-935b04c801b2"
      },
      "source": [
        "#Converting result into a DataFrame\n",
        "\n",
        "df = pd.DataFrame(movie_info_list)\n",
        "\n",
        "df.head()"
      ],
      "execution_count": 117,
      "outputs": [
        {
          "output_type": "execute_result",
          "data": {
            "text/html": [
              "<div>\n",
              "<style scoped>\n",
              "    .dataframe tbody tr th:only-of-type {\n",
              "        vertical-align: middle;\n",
              "    }\n",
              "\n",
              "    .dataframe tbody tr th {\n",
              "        vertical-align: top;\n",
              "    }\n",
              "\n",
              "    .dataframe thead th {\n",
              "        text-align: right;\n",
              "    }\n",
              "</style>\n",
              "<table border=\"1\" class=\"dataframe\">\n",
              "  <thead>\n",
              "    <tr style=\"text-align: right;\">\n",
              "      <th></th>\n",
              "      <th>title</th>\n",
              "      <th>Production company</th>\n",
              "      <th>Release date</th>\n",
              "      <th>Running time</th>\n",
              "      <th>Country</th>\n",
              "      <th>Language</th>\n",
              "      <th>Box office</th>\n",
              "      <th>Minute</th>\n",
              "      <th>Budget value</th>\n",
              "      <th>Box office value</th>\n",
              "      <th>Release date (datetime)</th>\n",
              "      <th>Directed by</th>\n",
              "      <th>Produced by</th>\n",
              "      <th>Written by</th>\n",
              "      <th>Based on</th>\n",
              "      <th>Starring</th>\n",
              "      <th>Music by</th>\n",
              "      <th>Distributed by</th>\n",
              "      <th>Budget</th>\n",
              "      <th>Story by</th>\n",
              "      <th>Narrated by</th>\n",
              "      <th>Cinematography</th>\n",
              "      <th>Edited by</th>\n",
              "      <th>Languages</th>\n",
              "      <th>Screenplay by</th>\n",
              "      <th>Countries</th>\n",
              "      <th>Production companies</th>\n",
              "      <th>Genre</th>\n",
              "      <th>Created by</th>\n",
              "      <th>Country of origin</th>\n",
              "      <th>No. of seasons</th>\n",
              "      <th>No. of episodes</th>\n",
              "      <th>Executive producers</th>\n",
              "      <th>Original network</th>\n",
              "      <th>Picture format</th>\n",
              "      <th>Audio format</th>\n",
              "      <th>Original release</th>\n",
              "      <th>Related shows</th>\n",
              "      <th>Japanese</th>\n",
              "      <th>Hepburn</th>\n",
              "      <th>Adaptation by</th>\n",
              "      <th>Animation by</th>\n",
              "      <th>Traditional</th>\n",
              "      <th>Simplified</th>\n",
              "    </tr>\n",
              "  </thead>\n",
              "  <tbody>\n",
              "    <tr>\n",
              "      <th>0</th>\n",
              "      <td>Academy Award Review of</td>\n",
              "      <td>Walt Disney Productions</td>\n",
              "      <td>[May 19, 1937]</td>\n",
              "      <td>41 minutes (74 minutes 1966 release)</td>\n",
              "      <td>United States</td>\n",
              "      <td>English</td>\n",
              "      <td>$45.472</td>\n",
              "      <td>41.0</td>\n",
              "      <td>NaN</td>\n",
              "      <td>4.547200e+01</td>\n",
              "      <td>1937-05-19</td>\n",
              "      <td>NaN</td>\n",
              "      <td>NaN</td>\n",
              "      <td>NaN</td>\n",
              "      <td>NaN</td>\n",
              "      <td>NaN</td>\n",
              "      <td>NaN</td>\n",
              "      <td>NaN</td>\n",
              "      <td>NaN</td>\n",
              "      <td>NaN</td>\n",
              "      <td>NaN</td>\n",
              "      <td>NaN</td>\n",
              "      <td>NaN</td>\n",
              "      <td>NaN</td>\n",
              "      <td>NaN</td>\n",
              "      <td>NaN</td>\n",
              "      <td>NaN</td>\n",
              "      <td>NaN</td>\n",
              "      <td>NaN</td>\n",
              "      <td>NaN</td>\n",
              "      <td>NaN</td>\n",
              "      <td>NaN</td>\n",
              "      <td>NaN</td>\n",
              "      <td>NaN</td>\n",
              "      <td>NaN</td>\n",
              "      <td>NaN</td>\n",
              "      <td>NaN</td>\n",
              "      <td>NaN</td>\n",
              "      <td>NaN</td>\n",
              "      <td>NaN</td>\n",
              "      <td>NaN</td>\n",
              "      <td>NaN</td>\n",
              "      <td>NaN</td>\n",
              "      <td>NaN</td>\n",
              "    </tr>\n",
              "    <tr>\n",
              "      <th>1</th>\n",
              "      <td>Snow White and the Seven Dwarfs</td>\n",
              "      <td>Walt Disney Productions</td>\n",
              "      <td>[December 21, 1937 ( Carthay Circle Theatre , ...</td>\n",
              "      <td>83 minutes</td>\n",
              "      <td>United States</td>\n",
              "      <td>English</td>\n",
              "      <td>$418 million</td>\n",
              "      <td>83.0</td>\n",
              "      <td>1490000.0</td>\n",
              "      <td>4.180000e+08</td>\n",
              "      <td>1937-12-21</td>\n",
              "      <td>[David Hand (supervising), William Cottrell, W...</td>\n",
              "      <td>Walt Disney</td>\n",
              "      <td>[Ted Sears, Richard Creedon, Otto Englander, D...</td>\n",
              "      <td>[Snow White, by The, Brothers Grimm]</td>\n",
              "      <td>[Adriana Caselotti, Lucille La Verne, Harry St...</td>\n",
              "      <td>[Frank Churchill, Paul Smith, Leigh Harline]</td>\n",
              "      <td>RKO Radio Pictures</td>\n",
              "      <td>$1.49 million</td>\n",
              "      <td>NaN</td>\n",
              "      <td>NaN</td>\n",
              "      <td>NaN</td>\n",
              "      <td>NaN</td>\n",
              "      <td>NaN</td>\n",
              "      <td>NaN</td>\n",
              "      <td>NaN</td>\n",
              "      <td>NaN</td>\n",
              "      <td>NaN</td>\n",
              "      <td>NaN</td>\n",
              "      <td>NaN</td>\n",
              "      <td>NaN</td>\n",
              "      <td>NaN</td>\n",
              "      <td>NaN</td>\n",
              "      <td>NaN</td>\n",
              "      <td>NaN</td>\n",
              "      <td>NaN</td>\n",
              "      <td>NaN</td>\n",
              "      <td>NaN</td>\n",
              "      <td>NaN</td>\n",
              "      <td>NaN</td>\n",
              "      <td>NaN</td>\n",
              "      <td>NaN</td>\n",
              "      <td>NaN</td>\n",
              "      <td>NaN</td>\n",
              "    </tr>\n",
              "    <tr>\n",
              "      <th>2</th>\n",
              "      <td>Pinocchio</td>\n",
              "      <td>Walt Disney Productions</td>\n",
              "      <td>[February 7, 1940 ( Center Theatre ), February...</td>\n",
              "      <td>88 minutes</td>\n",
              "      <td>United States</td>\n",
              "      <td>English</td>\n",
              "      <td>$164 million</td>\n",
              "      <td>88.0</td>\n",
              "      <td>2600000.0</td>\n",
              "      <td>1.640000e+08</td>\n",
              "      <td>1940-02-07</td>\n",
              "      <td>[Ben Sharpsteen, Hamilton Luske, Bill Roberts,...</td>\n",
              "      <td>Walt Disney</td>\n",
              "      <td>NaN</td>\n",
              "      <td>[The Adventures of Pinocchio, by, Carlo Collodi]</td>\n",
              "      <td>[Cliff Edwards, Dickie Jones, Christian Rub, W...</td>\n",
              "      <td>[Leigh Harline, Paul J. Smith]</td>\n",
              "      <td>RKO Radio Pictures</td>\n",
              "      <td>$2.6 million</td>\n",
              "      <td>[Ted Sears, Otto Englander, Webb Smith, Willia...</td>\n",
              "      <td>NaN</td>\n",
              "      <td>NaN</td>\n",
              "      <td>NaN</td>\n",
              "      <td>NaN</td>\n",
              "      <td>NaN</td>\n",
              "      <td>NaN</td>\n",
              "      <td>NaN</td>\n",
              "      <td>NaN</td>\n",
              "      <td>NaN</td>\n",
              "      <td>NaN</td>\n",
              "      <td>NaN</td>\n",
              "      <td>NaN</td>\n",
              "      <td>NaN</td>\n",
              "      <td>NaN</td>\n",
              "      <td>NaN</td>\n",
              "      <td>NaN</td>\n",
              "      <td>NaN</td>\n",
              "      <td>NaN</td>\n",
              "      <td>NaN</td>\n",
              "      <td>NaN</td>\n",
              "      <td>NaN</td>\n",
              "      <td>NaN</td>\n",
              "      <td>NaN</td>\n",
              "      <td>NaN</td>\n",
              "    </tr>\n",
              "    <tr>\n",
              "      <th>3</th>\n",
              "      <td>Fantasia</td>\n",
              "      <td>Walt Disney Productions</td>\n",
              "      <td>[November 13, 1940]</td>\n",
              "      <td>126 minutes</td>\n",
              "      <td>United States</td>\n",
              "      <td>English</td>\n",
              "      <td>$76.4–$83.3 million</td>\n",
              "      <td>126.0</td>\n",
              "      <td>2280000.0</td>\n",
              "      <td>8.330000e+07</td>\n",
              "      <td>1940-11-13</td>\n",
              "      <td>[Samuel Armstrong, James Algar, Bill Roberts, ...</td>\n",
              "      <td>[Walt Disney, Ben Sharpsteen]</td>\n",
              "      <td>NaN</td>\n",
              "      <td>NaN</td>\n",
              "      <td>[Leopold Stokowski, Deems Taylor]</td>\n",
              "      <td>See program</td>\n",
              "      <td>RKO Radio Pictures</td>\n",
              "      <td>$2.28 million</td>\n",
              "      <td>[Joe Grant, Dick Huemer]</td>\n",
              "      <td>Deems Taylor</td>\n",
              "      <td>James Wong Howe</td>\n",
              "      <td>NaN</td>\n",
              "      <td>NaN</td>\n",
              "      <td>NaN</td>\n",
              "      <td>NaN</td>\n",
              "      <td>NaN</td>\n",
              "      <td>NaN</td>\n",
              "      <td>NaN</td>\n",
              "      <td>NaN</td>\n",
              "      <td>NaN</td>\n",
              "      <td>NaN</td>\n",
              "      <td>NaN</td>\n",
              "      <td>NaN</td>\n",
              "      <td>NaN</td>\n",
              "      <td>NaN</td>\n",
              "      <td>NaN</td>\n",
              "      <td>NaN</td>\n",
              "      <td>NaN</td>\n",
              "      <td>NaN</td>\n",
              "      <td>NaN</td>\n",
              "      <td>NaN</td>\n",
              "      <td>NaN</td>\n",
              "      <td>NaN</td>\n",
              "    </tr>\n",
              "    <tr>\n",
              "      <th>4</th>\n",
              "      <td>The Reluctant Dragon</td>\n",
              "      <td>Walt Disney Productions</td>\n",
              "      <td>[June 27, 1941]</td>\n",
              "      <td>74 minutes</td>\n",
              "      <td>United States</td>\n",
              "      <td>English</td>\n",
              "      <td>$960,000 (worldwide rentals)</td>\n",
              "      <td>74.0</td>\n",
              "      <td>600000.0</td>\n",
              "      <td>9.600000e+05</td>\n",
              "      <td>1941-06-27</td>\n",
              "      <td>[Alfred Werker, (live action), Hamilton Luske,...</td>\n",
              "      <td>Walt Disney</td>\n",
              "      <td>[Live-action:, Ted Sears, Al Perkins, Larry Cl...</td>\n",
              "      <td>NaN</td>\n",
              "      <td>[Robert Benchley, Frances Gifford, Buddy Peppe...</td>\n",
              "      <td>[Frank Churchill, Larry Morey]</td>\n",
              "      <td>RKO Radio Pictures</td>\n",
              "      <td>$600,000</td>\n",
              "      <td>NaN</td>\n",
              "      <td>NaN</td>\n",
              "      <td>Bert Glennon</td>\n",
              "      <td>Paul Weatherwax</td>\n",
              "      <td>NaN</td>\n",
              "      <td>NaN</td>\n",
              "      <td>NaN</td>\n",
              "      <td>NaN</td>\n",
              "      <td>NaN</td>\n",
              "      <td>NaN</td>\n",
              "      <td>NaN</td>\n",
              "      <td>NaN</td>\n",
              "      <td>NaN</td>\n",
              "      <td>NaN</td>\n",
              "      <td>NaN</td>\n",
              "      <td>NaN</td>\n",
              "      <td>NaN</td>\n",
              "      <td>NaN</td>\n",
              "      <td>NaN</td>\n",
              "      <td>NaN</td>\n",
              "      <td>NaN</td>\n",
              "      <td>NaN</td>\n",
              "      <td>NaN</td>\n",
              "      <td>NaN</td>\n",
              "      <td>NaN</td>\n",
              "    </tr>\n",
              "  </tbody>\n",
              "</table>\n",
              "</div>"
            ],
            "text/plain": [
              "                             title  ... Simplified\n",
              "0          Academy Award Review of  ...        NaN\n",
              "1  Snow White and the Seven Dwarfs  ...        NaN\n",
              "2                        Pinocchio  ...        NaN\n",
              "3                         Fantasia  ...        NaN\n",
              "4             The Reluctant Dragon  ...        NaN\n",
              "\n",
              "[5 rows x 44 columns]"
            ]
          },
          "metadata": {
            "tags": []
          },
          "execution_count": 117
        }
      ]
    },
    {
      "cell_type": "code",
      "metadata": {
        "colab": {
          "base_uri": "https://localhost:8080/",
          "height": 202
        },
        "id": "K0_I_WDTiSkv",
        "outputId": "9d6dc7fd-133b-49d7-c21a-e24249562130"
      },
      "source": [
        "cols = ['title','Minute','Budget value','Box office value','Release date (datetime)']\n",
        "df_cols = df.loc[:,cols]\n",
        "df_cols['Year'] = pd.DatetimeIndex(df_cols['Release date (datetime)']).year\n",
        "df_cols.head()"
      ],
      "execution_count": 118,
      "outputs": [
        {
          "output_type": "execute_result",
          "data": {
            "text/html": [
              "<div>\n",
              "<style scoped>\n",
              "    .dataframe tbody tr th:only-of-type {\n",
              "        vertical-align: middle;\n",
              "    }\n",
              "\n",
              "    .dataframe tbody tr th {\n",
              "        vertical-align: top;\n",
              "    }\n",
              "\n",
              "    .dataframe thead th {\n",
              "        text-align: right;\n",
              "    }\n",
              "</style>\n",
              "<table border=\"1\" class=\"dataframe\">\n",
              "  <thead>\n",
              "    <tr style=\"text-align: right;\">\n",
              "      <th></th>\n",
              "      <th>title</th>\n",
              "      <th>Minute</th>\n",
              "      <th>Budget value</th>\n",
              "      <th>Box office value</th>\n",
              "      <th>Release date (datetime)</th>\n",
              "      <th>Year</th>\n",
              "    </tr>\n",
              "  </thead>\n",
              "  <tbody>\n",
              "    <tr>\n",
              "      <th>0</th>\n",
              "      <td>Academy Award Review of</td>\n",
              "      <td>41.0</td>\n",
              "      <td>NaN</td>\n",
              "      <td>4.547200e+01</td>\n",
              "      <td>1937-05-19</td>\n",
              "      <td>1937.0</td>\n",
              "    </tr>\n",
              "    <tr>\n",
              "      <th>1</th>\n",
              "      <td>Snow White and the Seven Dwarfs</td>\n",
              "      <td>83.0</td>\n",
              "      <td>1490000.0</td>\n",
              "      <td>4.180000e+08</td>\n",
              "      <td>1937-12-21</td>\n",
              "      <td>1937.0</td>\n",
              "    </tr>\n",
              "    <tr>\n",
              "      <th>2</th>\n",
              "      <td>Pinocchio</td>\n",
              "      <td>88.0</td>\n",
              "      <td>2600000.0</td>\n",
              "      <td>1.640000e+08</td>\n",
              "      <td>1940-02-07</td>\n",
              "      <td>1940.0</td>\n",
              "    </tr>\n",
              "    <tr>\n",
              "      <th>3</th>\n",
              "      <td>Fantasia</td>\n",
              "      <td>126.0</td>\n",
              "      <td>2280000.0</td>\n",
              "      <td>8.330000e+07</td>\n",
              "      <td>1940-11-13</td>\n",
              "      <td>1940.0</td>\n",
              "    </tr>\n",
              "    <tr>\n",
              "      <th>4</th>\n",
              "      <td>The Reluctant Dragon</td>\n",
              "      <td>74.0</td>\n",
              "      <td>600000.0</td>\n",
              "      <td>9.600000e+05</td>\n",
              "      <td>1941-06-27</td>\n",
              "      <td>1941.0</td>\n",
              "    </tr>\n",
              "  </tbody>\n",
              "</table>\n",
              "</div>"
            ],
            "text/plain": [
              "                             title  Minute  ...  Release date (datetime)    Year\n",
              "0          Academy Award Review of    41.0  ...               1937-05-19  1937.0\n",
              "1  Snow White and the Seven Dwarfs    83.0  ...               1937-12-21  1937.0\n",
              "2                        Pinocchio    88.0  ...               1940-02-07  1940.0\n",
              "3                         Fantasia   126.0  ...               1940-11-13  1940.0\n",
              "4             The Reluctant Dragon    74.0  ...               1941-06-27  1941.0\n",
              "\n",
              "[5 rows x 6 columns]"
            ]
          },
          "metadata": {
            "tags": []
          },
          "execution_count": 118
        }
      ]
    },
    {
      "cell_type": "markdown",
      "metadata": {
        "id": "uADmGjYFhgiV"
      },
      "source": [
        "##Plot the number of disney movies by decade. "
      ]
    },
    {
      "cell_type": "code",
      "metadata": {
        "colab": {
          "base_uri": "https://localhost:8080/",
          "height": 202
        },
        "id": "g-w2V122ku6y",
        "outputId": "4fb50294-c232-41e0-b3fb-979dc1e9d0a4"
      },
      "source": [
        "# convert to decade\n",
        "def decade(year):\n",
        "  return year - year%10\n",
        "df_cols['Decade Year'] = df_cols['Year'].apply(decade)\n",
        "df_cols.head()"
      ],
      "execution_count": 119,
      "outputs": [
        {
          "output_type": "execute_result",
          "data": {
            "text/html": [
              "<div>\n",
              "<style scoped>\n",
              "    .dataframe tbody tr th:only-of-type {\n",
              "        vertical-align: middle;\n",
              "    }\n",
              "\n",
              "    .dataframe tbody tr th {\n",
              "        vertical-align: top;\n",
              "    }\n",
              "\n",
              "    .dataframe thead th {\n",
              "        text-align: right;\n",
              "    }\n",
              "</style>\n",
              "<table border=\"1\" class=\"dataframe\">\n",
              "  <thead>\n",
              "    <tr style=\"text-align: right;\">\n",
              "      <th></th>\n",
              "      <th>title</th>\n",
              "      <th>Minute</th>\n",
              "      <th>Budget value</th>\n",
              "      <th>Box office value</th>\n",
              "      <th>Release date (datetime)</th>\n",
              "      <th>Year</th>\n",
              "      <th>Decade Year</th>\n",
              "    </tr>\n",
              "  </thead>\n",
              "  <tbody>\n",
              "    <tr>\n",
              "      <th>0</th>\n",
              "      <td>Academy Award Review of</td>\n",
              "      <td>41.0</td>\n",
              "      <td>NaN</td>\n",
              "      <td>4.547200e+01</td>\n",
              "      <td>1937-05-19</td>\n",
              "      <td>1937.0</td>\n",
              "      <td>1930.0</td>\n",
              "    </tr>\n",
              "    <tr>\n",
              "      <th>1</th>\n",
              "      <td>Snow White and the Seven Dwarfs</td>\n",
              "      <td>83.0</td>\n",
              "      <td>1490000.0</td>\n",
              "      <td>4.180000e+08</td>\n",
              "      <td>1937-12-21</td>\n",
              "      <td>1937.0</td>\n",
              "      <td>1930.0</td>\n",
              "    </tr>\n",
              "    <tr>\n",
              "      <th>2</th>\n",
              "      <td>Pinocchio</td>\n",
              "      <td>88.0</td>\n",
              "      <td>2600000.0</td>\n",
              "      <td>1.640000e+08</td>\n",
              "      <td>1940-02-07</td>\n",
              "      <td>1940.0</td>\n",
              "      <td>1940.0</td>\n",
              "    </tr>\n",
              "    <tr>\n",
              "      <th>3</th>\n",
              "      <td>Fantasia</td>\n",
              "      <td>126.0</td>\n",
              "      <td>2280000.0</td>\n",
              "      <td>8.330000e+07</td>\n",
              "      <td>1940-11-13</td>\n",
              "      <td>1940.0</td>\n",
              "      <td>1940.0</td>\n",
              "    </tr>\n",
              "    <tr>\n",
              "      <th>4</th>\n",
              "      <td>The Reluctant Dragon</td>\n",
              "      <td>74.0</td>\n",
              "      <td>600000.0</td>\n",
              "      <td>9.600000e+05</td>\n",
              "      <td>1941-06-27</td>\n",
              "      <td>1941.0</td>\n",
              "      <td>1940.0</td>\n",
              "    </tr>\n",
              "  </tbody>\n",
              "</table>\n",
              "</div>"
            ],
            "text/plain": [
              "                             title  Minute  ...    Year  Decade Year\n",
              "0          Academy Award Review of    41.0  ...  1937.0       1930.0\n",
              "1  Snow White and the Seven Dwarfs    83.0  ...  1937.0       1930.0\n",
              "2                        Pinocchio    88.0  ...  1940.0       1940.0\n",
              "3                         Fantasia   126.0  ...  1940.0       1940.0\n",
              "4             The Reluctant Dragon    74.0  ...  1941.0       1940.0\n",
              "\n",
              "[5 rows x 7 columns]"
            ]
          },
          "metadata": {
            "tags": []
          },
          "execution_count": 119
        }
      ]
    },
    {
      "cell_type": "code",
      "metadata": {
        "id": "jN6fo59nln6x"
      },
      "source": [
        "df_decade = df_cols.groupby('Decade Year').count()"
      ],
      "execution_count": 120,
      "outputs": []
    },
    {
      "cell_type": "code",
      "metadata": {
        "colab": {
          "base_uri": "https://localhost:8080/",
          "height": 405
        },
        "id": "ARN4vtuCl6s8",
        "outputId": "f39a0825-6095-4885-96c1-de5bc3f56c37"
      },
      "source": [
        "x = df_decade.index\n",
        "y = df_decade[\"title\"]\n",
        "\n",
        "plt.figure(figsize=(8, 6))\n",
        "plt.bar(x,y,width=5)\n",
        "plt.title(\"Number of movie released per decade\")\n",
        "plt.xlabel(\"year\")\n",
        "plt.ylabel(\"number of movie released\")\n",
        "plt.grid(axis='y')\n",
        "\n",
        "plt.show()"
      ],
      "execution_count": 128,
      "outputs": [
        {
          "output_type": "display_data",
          "data": {
            "image/png": "[encoded data removed]",
            "text/plain": [
              "<Figure size 576x432 with 1 Axes>"
            ]
          },
          "metadata": {
            "tags": [],
            "needs_background": "light"
          }
        }
      ]
    },
    {
      "cell_type": "markdown",
      "metadata": {
        "id": "iJimLbiJhgM9"
      },
      "source": [
        "##Output the 10 movies that had the highest Budget."
      ]
    },
    {
      "cell_type": "code",
      "metadata": {
        "colab": {
          "base_uri": "https://localhost:8080/"
        },
        "id": "qcA20CMYkljX",
        "outputId": "38111922-fd19-4bb7-856c-a481f1dcb21a"
      },
      "source": [
        "Budget = df_cols.sort_values(by='Budget value',ascending=False)\n",
        "highest = list(Budget['title'][0:10])\n",
        "highest"
      ],
      "execution_count": 130,
      "outputs": [
        {
          "output_type": "execute_result",
          "data": {
            "text/plain": [
              "['Pirates of the Caribbean: On Stranger Tides',\n",
              " 'John Carter',\n",
              " \"Pirates of the Caribbean: At World's End\",\n",
              " 'Tangled',\n",
              " 'The Lion King',\n",
              " 'Pirates of the Caribbean: Dead Men Tell No Tales',\n",
              " 'The Lone Ranger',\n",
              " 'The Chronicles of Narnia: Prince Caspian',\n",
              " \"Pirates of the Caribbean: Dead Man's Chest\",\n",
              " 'Oz the Great and Powerful']"
            ]
          },
          "metadata": {
            "tags": []
          },
          "execution_count": 130
        }
      ]
    },
    {
      "cell_type": "markdown",
      "metadata": {
        "id": "6y2id5ZJolg5"
      },
      "source": [
        "Pirates of the Caribbean series holds four places in Top 10 Budget movies."
      ]
    },
    {
      "cell_type": "markdown",
      "metadata": {
        "id": "a8ZlsQsNh5_Y"
      },
      "source": [
        "## Improvement\n"
      ]
    },
    {
      "cell_type": "markdown",
      "metadata": {
        "id": "GhQwFyIgwXI_"
      },
      "source": [
        "### Correlation test"
      ]
    },
    {
      "cell_type": "code",
      "metadata": {
        "id": "J03q9i75gFzn"
      },
      "source": [
        "df_net = df_cols.set_index('title')\n",
        "df_net = df_net.dropna()\n",
        "df_net['net income'] = df_net['Box office value'] - df_net['Budget value']"
      ],
      "execution_count": 168,
      "outputs": []
    },
    {
      "cell_type": "code",
      "metadata": {
        "id": "mhPK-MIys6rT"
      },
      "source": [
        "features = ['Minute','Year']\n",
        "df_net_features = df_net.loc[:,features]\n",
        "df_net_target = df_net['net income']"
      ],
      "execution_count": 143,
      "outputs": []
    },
    {
      "cell_type": "code",
      "metadata": {
        "colab": {
          "base_uri": "https://localhost:8080/",
          "height": 441
        },
        "id": "PkwNYrKUuqSB",
        "outputId": "e5fdfc1c-1eaf-403a-8d49-a6747872a841"
      },
      "source": [
        "sm.OLS(df_net_target, df_net_features).fit().summary()"
      ],
      "execution_count": 145,
      "outputs": [
        {
          "output_type": "execute_result",
          "data": {
            "text/html": [
              "<table class=\"simpletable\">\n",
              "<caption>OLS Regression Results</caption>\n",
              "<tr>\n",
              "  <th>Dep. Variable:</th>       <td>net income</td>    <th>  R-squared (uncentered):</th>      <td>   0.322</td> \n",
              "</tr>\n",
              "<tr>\n",
              "  <th>Model:</th>                   <td>OLS</td>       <th>  Adj. R-squared (uncentered):</th> <td>   0.317</td> \n",
              "</tr>\n",
              "<tr>\n",
              "  <th>Method:</th>             <td>Least Squares</td>  <th>  F-statistic:       </th>          <td>   60.19</td> \n",
              "</tr>\n",
              "<tr>\n",
              "  <th>Date:</th>             <td>Wed, 28 Apr 2021</td> <th>  Prob (F-statistic):</th>          <td>4.15e-22</td> \n",
              "</tr>\n",
              "<tr>\n",
              "  <th>Time:</th>                 <td>13:46:12</td>     <th>  Log-Likelihood:    </th>          <td> -5290.9</td> \n",
              "</tr>\n",
              "<tr>\n",
              "  <th>No. Observations:</th>      <td>   255</td>      <th>  AIC:               </th>          <td>1.059e+04</td>\n",
              "</tr>\n",
              "<tr>\n",
              "  <th>Df Residuals:</th>          <td>   253</td>      <th>  BIC:               </th>          <td>1.059e+04</td>\n",
              "</tr>\n",
              "<tr>\n",
              "  <th>Df Model:</th>              <td>     2</td>      <th>                     </th>              <td> </td>    \n",
              "</tr>\n",
              "<tr>\n",
              "  <th>Covariance Type:</th>      <td>nonrobust</td>    <th>                     </th>              <td> </td>    \n",
              "</tr>\n",
              "</table>\n",
              "<table class=\"simpletable\">\n",
              "<tr>\n",
              "     <td></td>       <th>coef</th>     <th>std err</th>      <th>t</th>      <th>P>|t|</th>  <th>[0.025</th>    <th>0.975]</th>  \n",
              "</tr>\n",
              "<tr>\n",
              "  <th>Minute</th> <td> 2.732e+06</td> <td> 8.32e+05</td> <td>    3.284</td> <td> 0.001</td> <td> 1.09e+06</td> <td> 4.37e+06</td>\n",
              "</tr>\n",
              "<tr>\n",
              "  <th>Year</th>   <td>-5.412e+04</td> <td> 4.21e+04</td> <td>   -1.285</td> <td> 0.200</td> <td>-1.37e+05</td> <td> 2.88e+04</td>\n",
              "</tr>\n",
              "</table>\n",
              "<table class=\"simpletable\">\n",
              "<tr>\n",
              "  <th>Omnibus:</th>       <td>126.888</td> <th>  Durbin-Watson:     </th> <td>   1.927</td> \n",
              "</tr>\n",
              "<tr>\n",
              "  <th>Prob(Omnibus):</th> <td> 0.000</td>  <th>  Jarque-Bera (JB):  </th> <td> 491.952</td> \n",
              "</tr>\n",
              "<tr>\n",
              "  <th>Skew:</th>          <td> 2.156</td>  <th>  Prob(JB):          </th> <td>1.49e-107</td>\n",
              "</tr>\n",
              "<tr>\n",
              "  <th>Kurtosis:</th>      <td> 8.264</td>  <th>  Cond. No.          </th> <td>    107.</td> \n",
              "</tr>\n",
              "</table><br/><br/>Warnings:<br/>[1] Standard Errors assume that the covariance matrix of the errors is correctly specified."
            ],
            "text/plain": [
              "<class 'statsmodels.iolib.summary.Summary'>\n",
              "\"\"\"\n",
              "                                 OLS Regression Results                                \n",
              "=======================================================================================\n",
              "Dep. Variable:             net income   R-squared (uncentered):                   0.322\n",
              "Model:                            OLS   Adj. R-squared (uncentered):              0.317\n",
              "Method:                 Least Squares   F-statistic:                              60.19\n",
              "Date:                Wed, 28 Apr 2021   Prob (F-statistic):                    4.15e-22\n",
              "Time:                        13:46:12   Log-Likelihood:                         -5290.9\n",
              "No. Observations:                 255   AIC:                                  1.059e+04\n",
              "Df Residuals:                     253   BIC:                                  1.059e+04\n",
              "Df Model:                           2                                                  \n",
              "Covariance Type:            nonrobust                                                  \n",
              "==============================================================================\n",
              "                 coef    std err          t      P>|t|      [0.025      0.975]\n",
              "------------------------------------------------------------------------------\n",
              "Minute      2.732e+06   8.32e+05      3.284      0.001    1.09e+06    4.37e+06\n",
              "Year       -5.412e+04   4.21e+04     -1.285      0.200   -1.37e+05    2.88e+04\n",
              "==============================================================================\n",
              "Omnibus:                      126.888   Durbin-Watson:                   1.927\n",
              "Prob(Omnibus):                  0.000   Jarque-Bera (JB):              491.952\n",
              "Skew:                           2.156   Prob(JB):                    1.49e-107\n",
              "Kurtosis:                       8.264   Cond. No.                         107.\n",
              "==============================================================================\n",
              "\n",
              "Warnings:\n",
              "[1] Standard Errors assume that the covariance matrix of the errors is correctly specified.\n",
              "\"\"\""
            ]
          },
          "metadata": {
            "tags": []
          },
          "execution_count": 145
        }
      ]
    },
    {
      "cell_type": "markdown",
      "metadata": {
        "id": "FMsKhTpzvRJv"
      },
      "source": [
        "With pvalue=0.001,we can reject the null hypothesis for 'Minute' with 99% level of confidance. While 'Year' didn't pass the test."
      ]
    },
    {
      "cell_type": "markdown",
      "metadata": {
        "id": "FpPkYCIuweSo"
      },
      "source": [
        "### Linear regression of Minute vs. Net Income"
      ]
    },
    {
      "cell_type": "code",
      "metadata": {
        "colab": {
          "base_uri": "https://localhost:8080/",
          "height": 233
        },
        "id": "1-o90DZOyhAr",
        "outputId": "cc5a709f-4af6-4fba-e22c-bdeb7d7c17a5"
      },
      "source": [
        "# transform net income in million unit\n",
        "df_net['net income(m)'] = df_net['net income']/1000000\n",
        "df_net.head()"
      ],
      "execution_count": 170,
      "outputs": [
        {
          "output_type": "execute_result",
          "data": {
            "text/html": [
              "<div>\n",
              "<style scoped>\n",
              "    .dataframe tbody tr th:only-of-type {\n",
              "        vertical-align: middle;\n",
              "    }\n",
              "\n",
              "    .dataframe tbody tr th {\n",
              "        vertical-align: top;\n",
              "    }\n",
              "\n",
              "    .dataframe thead th {\n",
              "        text-align: right;\n",
              "    }\n",
              "</style>\n",
              "<table border=\"1\" class=\"dataframe\">\n",
              "  <thead>\n",
              "    <tr style=\"text-align: right;\">\n",
              "      <th></th>\n",
              "      <th>Minute</th>\n",
              "      <th>Budget value</th>\n",
              "      <th>Box office value</th>\n",
              "      <th>Release date (datetime)</th>\n",
              "      <th>Year</th>\n",
              "      <th>Decade Year</th>\n",
              "      <th>net income</th>\n",
              "      <th>net income(m)</th>\n",
              "    </tr>\n",
              "    <tr>\n",
              "      <th>title</th>\n",
              "      <th></th>\n",
              "      <th></th>\n",
              "      <th></th>\n",
              "      <th></th>\n",
              "      <th></th>\n",
              "      <th></th>\n",
              "      <th></th>\n",
              "      <th></th>\n",
              "    </tr>\n",
              "  </thead>\n",
              "  <tbody>\n",
              "    <tr>\n",
              "      <th>Snow White and the Seven Dwarfs</th>\n",
              "      <td>83.0</td>\n",
              "      <td>1490000.0</td>\n",
              "      <td>418000000.0</td>\n",
              "      <td>1937-12-21</td>\n",
              "      <td>1937.0</td>\n",
              "      <td>1930.0</td>\n",
              "      <td>416510000.0</td>\n",
              "      <td>416.51</td>\n",
              "    </tr>\n",
              "    <tr>\n",
              "      <th>Pinocchio</th>\n",
              "      <td>88.0</td>\n",
              "      <td>2600000.0</td>\n",
              "      <td>164000000.0</td>\n",
              "      <td>1940-02-07</td>\n",
              "      <td>1940.0</td>\n",
              "      <td>1940.0</td>\n",
              "      <td>161400000.0</td>\n",
              "      <td>161.40</td>\n",
              "    </tr>\n",
              "    <tr>\n",
              "      <th>Fantasia</th>\n",
              "      <td>126.0</td>\n",
              "      <td>2280000.0</td>\n",
              "      <td>83300000.0</td>\n",
              "      <td>1940-11-13</td>\n",
              "      <td>1940.0</td>\n",
              "      <td>1940.0</td>\n",
              "      <td>81020000.0</td>\n",
              "      <td>81.02</td>\n",
              "    </tr>\n",
              "    <tr>\n",
              "      <th>The Reluctant Dragon</th>\n",
              "      <td>74.0</td>\n",
              "      <td>600000.0</td>\n",
              "      <td>960000.0</td>\n",
              "      <td>1941-06-27</td>\n",
              "      <td>1941.0</td>\n",
              "      <td>1940.0</td>\n",
              "      <td>360000.0</td>\n",
              "      <td>0.36</td>\n",
              "    </tr>\n",
              "    <tr>\n",
              "      <th>Dumbo</th>\n",
              "      <td>64.0</td>\n",
              "      <td>950000.0</td>\n",
              "      <td>1300000.0</td>\n",
              "      <td>1941-10-23</td>\n",
              "      <td>1941.0</td>\n",
              "      <td>1940.0</td>\n",
              "      <td>350000.0</td>\n",
              "      <td>0.35</td>\n",
              "    </tr>\n",
              "  </tbody>\n",
              "</table>\n",
              "</div>"
            ],
            "text/plain": [
              "                                 Minute  ...  net income(m)\n",
              "title                                    ...               \n",
              "Snow White and the Seven Dwarfs    83.0  ...         416.51\n",
              "Pinocchio                          88.0  ...         161.40\n",
              "Fantasia                          126.0  ...          81.02\n",
              "The Reluctant Dragon               74.0  ...           0.36\n",
              "Dumbo                              64.0  ...           0.35\n",
              "\n",
              "[5 rows x 8 columns]"
            ]
          },
          "metadata": {
            "tags": []
          },
          "execution_count": 170
        }
      ]
    },
    {
      "cell_type": "code",
      "metadata": {
        "colab": {
          "base_uri": "https://localhost:8080/",
          "height": 441
        },
        "id": "PoUI3eYO_qhi",
        "outputId": "f0f715d0-131b-42f0-b13d-41031ff082fc"
      },
      "source": [
        "x = df_net['Minute']\n",
        "y = df_net['net income(m)']\n",
        "\n",
        "x = sm.add_constant(x)\n",
        "\n",
        "est = sm.OLS(y, x).fit()\n",
        "est.summary()"
      ],
      "execution_count": 186,
      "outputs": [
        {
          "output_type": "execute_result",
          "data": {
            "text/html": [
              "<table class=\"simpletable\">\n",
              "<caption>OLS Regression Results</caption>\n",
              "<tr>\n",
              "  <th>Dep. Variable:</th>      <td>net income(m)</td>  <th>  R-squared:         </th> <td>   0.046</td>\n",
              "</tr>\n",
              "<tr>\n",
              "  <th>Model:</th>                   <td>OLS</td>       <th>  Adj. R-squared:    </th> <td>   0.042</td>\n",
              "</tr>\n",
              "<tr>\n",
              "  <th>Method:</th>             <td>Least Squares</td>  <th>  F-statistic:       </th> <td>   12.25</td>\n",
              "</tr>\n",
              "<tr>\n",
              "  <th>Date:</th>             <td>Wed, 28 Apr 2021</td> <th>  Prob (F-statistic):</th> <td>0.000551</td>\n",
              "</tr>\n",
              "<tr>\n",
              "  <th>Time:</th>                 <td>15:02:55</td>     <th>  Log-Likelihood:    </th> <td> -1767.6</td>\n",
              "</tr>\n",
              "<tr>\n",
              "  <th>No. Observations:</th>      <td>   255</td>      <th>  AIC:               </th> <td>   3539.</td>\n",
              "</tr>\n",
              "<tr>\n",
              "  <th>Df Residuals:</th>          <td>   253</td>      <th>  BIC:               </th> <td>   3546.</td>\n",
              "</tr>\n",
              "<tr>\n",
              "  <th>Df Model:</th>              <td>     1</td>      <th>                     </th>     <td> </td>   \n",
              "</tr>\n",
              "<tr>\n",
              "  <th>Covariance Type:</th>      <td>nonrobust</td>    <th>                     </th>     <td> </td>   \n",
              "</tr>\n",
              "</table>\n",
              "<table class=\"simpletable\">\n",
              "<tr>\n",
              "     <td></td>       <th>coef</th>     <th>std err</th>      <th>t</th>      <th>P>|t|</th>  <th>[0.025</th>    <th>0.975]</th>  \n",
              "</tr>\n",
              "<tr>\n",
              "  <th>const</th>  <td> -122.8651</td> <td>   83.061</td> <td>   -1.479</td> <td> 0.140</td> <td> -286.445</td> <td>   40.714</td>\n",
              "</tr>\n",
              "<tr>\n",
              "  <th>Minute</th> <td>    2.8753</td> <td>    0.822</td> <td>    3.499</td> <td> 0.001</td> <td>    1.257</td> <td>    4.494</td>\n",
              "</tr>\n",
              "</table>\n",
              "<table class=\"simpletable\">\n",
              "<tr>\n",
              "  <th>Omnibus:</th>       <td>125.921</td> <th>  Durbin-Watson:     </th> <td>   1.939</td> \n",
              "</tr>\n",
              "<tr>\n",
              "  <th>Prob(Omnibus):</th> <td> 0.000</td>  <th>  Jarque-Bera (JB):  </th> <td> 484.304</td> \n",
              "</tr>\n",
              "<tr>\n",
              "  <th>Skew:</th>          <td> 2.140</td>  <th>  Prob(JB):          </th> <td>6.83e-106</td>\n",
              "</tr>\n",
              "<tr>\n",
              "  <th>Kurtosis:</th>      <td> 8.222</td>  <th>  Cond. No.          </th> <td>    539.</td> \n",
              "</tr>\n",
              "</table><br/><br/>Warnings:<br/>[1] Standard Errors assume that the covariance matrix of the errors is correctly specified."
            ],
            "text/plain": [
              "<class 'statsmodels.iolib.summary.Summary'>\n",
              "\"\"\"\n",
              "                            OLS Regression Results                            \n",
              "==============================================================================\n",
              "Dep. Variable:          net income(m)   R-squared:                       0.046\n",
              "Model:                            OLS   Adj. R-squared:                  0.042\n",
              "Method:                 Least Squares   F-statistic:                     12.25\n",
              "Date:                Wed, 28 Apr 2021   Prob (F-statistic):           0.000551\n",
              "Time:                        15:02:55   Log-Likelihood:                -1767.6\n",
              "No. Observations:                 255   AIC:                             3539.\n",
              "Df Residuals:                     253   BIC:                             3546.\n",
              "Df Model:                           1                                         \n",
              "Covariance Type:            nonrobust                                         \n",
              "==============================================================================\n",
              "                 coef    std err          t      P>|t|      [0.025      0.975]\n",
              "------------------------------------------------------------------------------\n",
              "const       -122.8651     83.061     -1.479      0.140    -286.445      40.714\n",
              "Minute         2.8753      0.822      3.499      0.001       1.257       4.494\n",
              "==============================================================================\n",
              "Omnibus:                      125.921   Durbin-Watson:                   1.939\n",
              "Prob(Omnibus):                  0.000   Jarque-Bera (JB):              484.304\n",
              "Skew:                           2.140   Prob(JB):                    6.83e-106\n",
              "Kurtosis:                       8.222   Cond. No.                         539.\n",
              "==============================================================================\n",
              "\n",
              "Warnings:\n",
              "[1] Standard Errors assume that the covariance matrix of the errors is correctly specified.\n",
              "\"\"\""
            ]
          },
          "metadata": {
            "tags": []
          },
          "execution_count": 186
        }
      ]
    },
    {
      "cell_type": "code",
      "metadata": {
        "colab": {
          "base_uri": "https://localhost:8080/",
          "height": 287
        },
        "id": "OtX-NltFAE1U",
        "outputId": "b58300c4-4cf4-4daa-e4bd-647fde7470a8"
      },
      "source": [
        "xfit = np.linspace(0, 200, 10000)\n",
        "yfit = est.predict(sm.add_constant(xfit))\n",
        "\n",
        "plt.scatter(df_net['Minute'], df_net['net income(m)'])\n",
        "plt.plot(xfit, yfit)"
      ],
      "execution_count": 190,
      "outputs": [
        {
          "output_type": "execute_result",
          "data": {
            "text/plain": [
              "[<matplotlib.lines.Line2D at 0x7fa9fa92f490>]"
            ]
          },
          "metadata": {
            "tags": []
          },
          "execution_count": 190
        },
        {
          "output_type": "display_data",
          "data": {
            "image/png": "[encoded data removed]",
            "text/plain": [
              "<Figure size 432x288 with 1 Axes>"
            ]
          },
          "metadata": {
            "tags": [],
            "needs_background": "light"
          }
        }
      ]
    },
    {
      "cell_type": "code",
      "metadata": {
        "colab": {
          "base_uri": "https://localhost:8080/",
          "height": 441
        },
        "id": "oK5X3tYr4pkQ",
        "outputId": "121da23b-0a4a-4aee-9661-84077542d0b0"
      },
      "source": [
        "est2 = sm.OLS(y, x).fit(cov_type='HC2')\n",
        "est2.summary()"
      ],
      "execution_count": 191,
      "outputs": [
        {
          "output_type": "execute_result",
          "data": {
            "text/html": [
              "<table class=\"simpletable\">\n",
              "<caption>OLS Regression Results</caption>\n",
              "<tr>\n",
              "  <th>Dep. Variable:</th>      <td>net income(m)</td>  <th>  R-squared:         </th> <td>   0.046</td>\n",
              "</tr>\n",
              "<tr>\n",
              "  <th>Model:</th>                   <td>OLS</td>       <th>  Adj. R-squared:    </th> <td>   0.042</td>\n",
              "</tr>\n",
              "<tr>\n",
              "  <th>Method:</th>             <td>Least Squares</td>  <th>  F-statistic:       </th> <td>   12.56</td>\n",
              "</tr>\n",
              "<tr>\n",
              "  <th>Date:</th>             <td>Wed, 28 Apr 2021</td> <th>  Prob (F-statistic):</th> <td>0.000468</td>\n",
              "</tr>\n",
              "<tr>\n",
              "  <th>Time:</th>                 <td>15:05:30</td>     <th>  Log-Likelihood:    </th> <td> -1767.6</td>\n",
              "</tr>\n",
              "<tr>\n",
              "  <th>No. Observations:</th>      <td>   255</td>      <th>  AIC:               </th> <td>   3539.</td>\n",
              "</tr>\n",
              "<tr>\n",
              "  <th>Df Residuals:</th>          <td>   253</td>      <th>  BIC:               </th> <td>   3546.</td>\n",
              "</tr>\n",
              "<tr>\n",
              "  <th>Df Model:</th>              <td>     1</td>      <th>                     </th>     <td> </td>   \n",
              "</tr>\n",
              "<tr>\n",
              "  <th>Covariance Type:</th>         <td>HC2</td>       <th>                     </th>     <td> </td>   \n",
              "</tr>\n",
              "</table>\n",
              "<table class=\"simpletable\">\n",
              "<tr>\n",
              "     <td></td>       <th>coef</th>     <th>std err</th>      <th>z</th>      <th>P>|z|</th>  <th>[0.025</th>    <th>0.975]</th>  \n",
              "</tr>\n",
              "<tr>\n",
              "  <th>const</th>  <td> -122.8651</td> <td>   74.202</td> <td>   -1.656</td> <td> 0.098</td> <td> -268.298</td> <td>   22.567</td>\n",
              "</tr>\n",
              "<tr>\n",
              "  <th>Minute</th> <td>    2.8753</td> <td>    0.811</td> <td>    3.544</td> <td> 0.000</td> <td>    1.285</td> <td>    4.465</td>\n",
              "</tr>\n",
              "</table>\n",
              "<table class=\"simpletable\">\n",
              "<tr>\n",
              "  <th>Omnibus:</th>       <td>125.921</td> <th>  Durbin-Watson:     </th> <td>   1.939</td> \n",
              "</tr>\n",
              "<tr>\n",
              "  <th>Prob(Omnibus):</th> <td> 0.000</td>  <th>  Jarque-Bera (JB):  </th> <td> 484.304</td> \n",
              "</tr>\n",
              "<tr>\n",
              "  <th>Skew:</th>          <td> 2.140</td>  <th>  Prob(JB):          </th> <td>6.83e-106</td>\n",
              "</tr>\n",
              "<tr>\n",
              "  <th>Kurtosis:</th>      <td> 8.222</td>  <th>  Cond. No.          </th> <td>    539.</td> \n",
              "</tr>\n",
              "</table><br/><br/>Warnings:<br/>[1] Standard Errors are heteroscedasticity robust (HC2)"
            ],
            "text/plain": [
              "<class 'statsmodels.iolib.summary.Summary'>\n",
              "\"\"\"\n",
              "                            OLS Regression Results                            \n",
              "==============================================================================\n",
              "Dep. Variable:          net income(m)   R-squared:                       0.046\n",
              "Model:                            OLS   Adj. R-squared:                  0.042\n",
              "Method:                 Least Squares   F-statistic:                     12.56\n",
              "Date:                Wed, 28 Apr 2021   Prob (F-statistic):           0.000468\n",
              "Time:                        15:05:30   Log-Likelihood:                -1767.6\n",
              "No. Observations:                 255   AIC:                             3539.\n",
              "Df Residuals:                     253   BIC:                             3546.\n",
              "Df Model:                           1                                         \n",
              "Covariance Type:                  HC2                                         \n",
              "==============================================================================\n",
              "                 coef    std err          z      P>|z|      [0.025      0.975]\n",
              "------------------------------------------------------------------------------\n",
              "const       -122.8651     74.202     -1.656      0.098    -268.298      22.567\n",
              "Minute         2.8753      0.811      3.544      0.000       1.285       4.465\n",
              "==============================================================================\n",
              "Omnibus:                      125.921   Durbin-Watson:                   1.939\n",
              "Prob(Omnibus):                  0.000   Jarque-Bera (JB):              484.304\n",
              "Skew:                           2.140   Prob(JB):                    6.83e-106\n",
              "Kurtosis:                       8.222   Cond. No.                         539.\n",
              "==============================================================================\n",
              "\n",
              "Warnings:\n",
              "[1] Standard Errors are heteroscedasticity robust (HC2)\n",
              "\"\"\""
            ]
          },
          "metadata": {
            "tags": []
          },
          "execution_count": 191
        }
      ]
    },
    {
      "cell_type": "code",
      "metadata": {
        "id": "7GdbbKj-BS_H"
      },
      "source": [
        ""
      ],
      "execution_count": null,
      "outputs": []
    }
  ]
}